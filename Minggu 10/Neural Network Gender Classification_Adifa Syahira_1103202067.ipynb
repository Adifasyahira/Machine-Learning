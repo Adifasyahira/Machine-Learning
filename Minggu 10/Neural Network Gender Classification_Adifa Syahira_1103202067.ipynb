{
 "cells": [
  {
   "cell_type": "code",
   "execution_count": 1,
   "id": "a29fa91d",
   "metadata": {},
   "outputs": [
    {
     "name": "stderr",
     "output_type": "stream",
     "text": [
      "C:\\Users\\Lenovo\\anaconda3\\lib\\site-packages\\scipy\\__init__.py:138: UserWarning: A NumPy version >=1.16.5 and <1.23.0 is required for this version of SciPy (detected version 1.23.5)\n",
      "  warnings.warn(f\"A NumPy version >={np_minversion} and <{np_maxversion} is required for this version of \"\n"
     ]
    }
   ],
   "source": [
    "#Nama : Adifa Syahira\n",
    "#Nim  : 1103202067\n",
    "#Kelas: TK 44G4\n",
    "\n",
    "import pandas as pd\n",
    "import numpy as np \n",
    "import matplotlib.pyplot as plt\n",
    "import seaborn as sns\n",
    "import tensorflow as tf\n",
    "from tensorflow.keras.utils import plot_model\n",
    "from tensorflow.keras.optimizers import Adam\n",
    "from tensorflow.keras.callbacks import ReduceLROnPlateau, EarlyStopping, ModelCheckpoint\n",
    "from sklearn.model_selection import KFold, train_test_split\n",
    "from sklearn.preprocessing import LabelEncoder\n",
    "from sklearn.metrics import confusion_matrix, accuracy_score\n",
    "le = LabelEncoder()"
   ]
  },
  {
   "cell_type": "markdown",
   "id": "0752ccc1",
   "metadata": {},
   "source": [
    "1.Pandas adalah library untuk manipulasi dan analisis data tabular.\n",
    "2.NumPy menyediakan dukungan untuk array dan operasi matematika.\n",
    "3.Matplotlib adalah library untuk visualisasi data dalam bentuk grafik.\n",
    "4.Seaborn memungkinkan visualisasi data statistik yang lebih menarik.\n",
    "5.TensorFlow adalah platform untuk pembelajaran mesin dan pembuatan model jaringan saraf.\n",
    "6.Keras adalah antarmuka tingkat tinggi yang berjalan di atas TensorFlow, mempermudah pembuatan dan pelatihan model.\n",
    "Selain itu, kode tersebut juga menggunakan beberapa fungsi dan kelas dari library tersebut:\n",
    "\n",
    "1.LabelEncoder dari Scikit-Learn untuk mengkodekan label kategori menjadi angka.\n",
    "2.KFold dari Scikit-Learn untuk melakukan validasi silang (cross-validation).\n",
    "3.Adam adalah algoritma optimasi yang umum digunakan dalam pelatihan model jaringan saraf.\n",
    "4.ReduceLROnPlateau, EarlyStopping, ModelCheckpoint adalah callback dalam Keras untuk mengatur pelatihan model, seperti mengurangi laju pembelajaran saat terjadi stagnasi, menghentikan pelatihan saat performa tidak bertambah, dan menyimpan model terbaik.\n",
    "Fungsi train_test_split digunakan untuk membagi dataset menjadi data pelatihan dan pengujian, sementara confusion_matrix dan accuracy_score digunakan untuk mengevaluasi performa model klasifikasi."
   ]
  },
  {
   "cell_type": "code",
   "execution_count": 2,
   "id": "b3034fc4",
   "metadata": {},
   "outputs": [
    {
     "data": {
      "text/html": [
       "<div>\n",
       "<style scoped>\n",
       "    .dataframe tbody tr th:only-of-type {\n",
       "        vertical-align: middle;\n",
       "    }\n",
       "\n",
       "    .dataframe tbody tr th {\n",
       "        vertical-align: top;\n",
       "    }\n",
       "\n",
       "    .dataframe thead th {\n",
       "        text-align: right;\n",
       "    }\n",
       "</style>\n",
       "<table border=\"1\" class=\"dataframe\">\n",
       "  <thead>\n",
       "    <tr style=\"text-align: right;\">\n",
       "      <th></th>\n",
       "      <th>Favorite Color</th>\n",
       "      <th>Favorite Music Genre</th>\n",
       "      <th>Favorite Beverage</th>\n",
       "      <th>Favorite Soft Drink</th>\n",
       "      <th>Gender</th>\n",
       "    </tr>\n",
       "  </thead>\n",
       "  <tbody>\n",
       "    <tr>\n",
       "      <th>0</th>\n",
       "      <td>Cool</td>\n",
       "      <td>Rock</td>\n",
       "      <td>Vodka</td>\n",
       "      <td>7UP/Sprite</td>\n",
       "      <td>F</td>\n",
       "    </tr>\n",
       "    <tr>\n",
       "      <th>1</th>\n",
       "      <td>Neutral</td>\n",
       "      <td>Hip hop</td>\n",
       "      <td>Vodka</td>\n",
       "      <td>Coca Cola/Pepsi</td>\n",
       "      <td>F</td>\n",
       "    </tr>\n",
       "    <tr>\n",
       "      <th>2</th>\n",
       "      <td>Warm</td>\n",
       "      <td>Rock</td>\n",
       "      <td>Wine</td>\n",
       "      <td>Coca Cola/Pepsi</td>\n",
       "      <td>F</td>\n",
       "    </tr>\n",
       "    <tr>\n",
       "      <th>3</th>\n",
       "      <td>Warm</td>\n",
       "      <td>Folk/Traditional</td>\n",
       "      <td>Whiskey</td>\n",
       "      <td>Fanta</td>\n",
       "      <td>F</td>\n",
       "    </tr>\n",
       "    <tr>\n",
       "      <th>4</th>\n",
       "      <td>Cool</td>\n",
       "      <td>Rock</td>\n",
       "      <td>Vodka</td>\n",
       "      <td>Coca Cola/Pepsi</td>\n",
       "      <td>F</td>\n",
       "    </tr>\n",
       "  </tbody>\n",
       "</table>\n",
       "</div>"
      ],
      "text/plain": [
       "  Favorite Color Favorite Music Genre Favorite Beverage Favorite Soft Drink  \\\n",
       "0           Cool                 Rock             Vodka          7UP/Sprite   \n",
       "1        Neutral              Hip hop             Vodka     Coca Cola/Pepsi   \n",
       "2           Warm                 Rock              Wine     Coca Cola/Pepsi   \n",
       "3           Warm     Folk/Traditional           Whiskey               Fanta   \n",
       "4           Cool                 Rock             Vodka     Coca Cola/Pepsi   \n",
       "\n",
       "  Gender  \n",
       "0      F  \n",
       "1      F  \n",
       "2      F  \n",
       "3      F  \n",
       "4      F  "
      ]
     },
     "execution_count": 2,
     "metadata": {},
     "output_type": "execute_result"
    }
   ],
   "source": [
    "data = pd.read_csv(r\"D:\\KULIAH DIFA\\Semester 7 HUHU\\Machine Learning\\Minggu 10\\Transformed Data Set - Sheet1.csv\")\n",
    "data.head()"
   ]
  },
  {
   "cell_type": "markdown",
   "id": "bfd3d045",
   "metadata": {},
   "source": [
    "Kode ini untuk membaca data dan menampilkan 5 data teratas pada dataset yang kita miliki."
   ]
  },
  {
   "cell_type": "code",
   "execution_count": 3,
   "id": "a5362f1f",
   "metadata": {},
   "outputs": [
    {
     "data": {
      "text/html": [
       "<div>\n",
       "<style scoped>\n",
       "    .dataframe tbody tr th:only-of-type {\n",
       "        vertical-align: middle;\n",
       "    }\n",
       "\n",
       "    .dataframe tbody tr th {\n",
       "        vertical-align: top;\n",
       "    }\n",
       "\n",
       "    .dataframe thead th {\n",
       "        text-align: right;\n",
       "    }\n",
       "</style>\n",
       "<table border=\"1\" class=\"dataframe\">\n",
       "  <thead>\n",
       "    <tr style=\"text-align: right;\">\n",
       "      <th></th>\n",
       "      <th>Favorite Color</th>\n",
       "      <th>Favorite Music Genre</th>\n",
       "      <th>Favorite Beverage</th>\n",
       "      <th>Favorite Soft Drink</th>\n",
       "      <th>Gender</th>\n",
       "    </tr>\n",
       "  </thead>\n",
       "  <tbody>\n",
       "    <tr>\n",
       "      <th>count</th>\n",
       "      <td>66</td>\n",
       "      <td>66</td>\n",
       "      <td>66</td>\n",
       "      <td>66</td>\n",
       "      <td>66</td>\n",
       "    </tr>\n",
       "    <tr>\n",
       "      <th>unique</th>\n",
       "      <td>3</td>\n",
       "      <td>7</td>\n",
       "      <td>6</td>\n",
       "      <td>4</td>\n",
       "      <td>2</td>\n",
       "    </tr>\n",
       "    <tr>\n",
       "      <th>top</th>\n",
       "      <td>Cool</td>\n",
       "      <td>Rock</td>\n",
       "      <td>Doesn't drink</td>\n",
       "      <td>Coca Cola/Pepsi</td>\n",
       "      <td>F</td>\n",
       "    </tr>\n",
       "    <tr>\n",
       "      <th>freq</th>\n",
       "      <td>37</td>\n",
       "      <td>19</td>\n",
       "      <td>14</td>\n",
       "      <td>32</td>\n",
       "      <td>33</td>\n",
       "    </tr>\n",
       "  </tbody>\n",
       "</table>\n",
       "</div>"
      ],
      "text/plain": [
       "       Favorite Color Favorite Music Genre Favorite Beverage  \\\n",
       "count              66                   66                66   \n",
       "unique              3                    7                 6   \n",
       "top              Cool                 Rock     Doesn't drink   \n",
       "freq               37                   19                14   \n",
       "\n",
       "       Favorite Soft Drink Gender  \n",
       "count                   66     66  \n",
       "unique                   4      2  \n",
       "top        Coca Cola/Pepsi      F  \n",
       "freq                    32     33  "
      ]
     },
     "execution_count": 3,
     "metadata": {},
     "output_type": "execute_result"
    }
   ],
   "source": [
    "data.describe()"
   ]
  },
  {
   "cell_type": "markdown",
   "id": "1feb73e8",
   "metadata": {},
   "source": [
    "Kode ini digunakan untuk memberikan ringkasan statistik deskriptif dari data dalam DataFrame menggunakan Pandas di Python."
   ]
  },
  {
   "cell_type": "code",
   "execution_count": 4,
   "id": "4ed32766",
   "metadata": {},
   "outputs": [
    {
     "data": {
      "text/plain": [
       "Favorite Color  Favorite Music Genre  Favorite Beverage  Favorite Soft Drink\n",
       "Cool            Electronic            Doesn't drink      Fanta                  2\n",
       "                Rock                  Vodka              Coca Cola/Pepsi        2\n",
       "dtype: int64"
      ]
     },
     "execution_count": 4,
     "metadata": {},
     "output_type": "execute_result"
    }
   ],
   "source": [
    "grouping = data.groupby(list(data.columns)[:-1]).apply(lambda x: x.Gender.nunique())\n",
    "grouping[grouping.eq(2)]"
   ]
  },
  {
   "cell_type": "markdown",
   "id": "86a1e8e6",
   "metadata": {},
   "source": [
    "Kode tersebut mengelompokkan data berdasarkan semua kolom kecuali kolom terakhir, kemudian menghitung jumlah nilai unik dari kolom 'Gender' di setiap kelompok data. Akhirnya, kode memfilter dan menampilkan hanya kelompok data di mana jumlah nilai unik dari kolom 'Gender' adalah 2."
   ]
  },
  {
   "cell_type": "code",
   "execution_count": 5,
   "id": "3d887e3e",
   "metadata": {},
   "outputs": [
    {
     "data": {
      "text/html": [
       "<div>\n",
       "<style scoped>\n",
       "    .dataframe tbody tr th:only-of-type {\n",
       "        vertical-align: middle;\n",
       "    }\n",
       "\n",
       "    .dataframe tbody tr th {\n",
       "        vertical-align: top;\n",
       "    }\n",
       "\n",
       "    .dataframe thead th {\n",
       "        text-align: right;\n",
       "    }\n",
       "</style>\n",
       "<table border=\"1\" class=\"dataframe\">\n",
       "  <thead>\n",
       "    <tr style=\"text-align: right;\">\n",
       "      <th></th>\n",
       "      <th>Favorite Color</th>\n",
       "      <th>Favorite Music Genre</th>\n",
       "      <th>Favorite Beverage</th>\n",
       "      <th>Favorite Soft Drink</th>\n",
       "      <th>Gender</th>\n",
       "    </tr>\n",
       "  </thead>\n",
       "  <tbody>\n",
       "    <tr>\n",
       "      <th>4</th>\n",
       "      <td>Cool</td>\n",
       "      <td>Rock</td>\n",
       "      <td>Vodka</td>\n",
       "      <td>Coca Cola/Pepsi</td>\n",
       "      <td>F</td>\n",
       "    </tr>\n",
       "    <tr>\n",
       "      <th>22</th>\n",
       "      <td>Cool</td>\n",
       "      <td>Rock</td>\n",
       "      <td>Vodka</td>\n",
       "      <td>Coca Cola/Pepsi</td>\n",
       "      <td>F</td>\n",
       "    </tr>\n",
       "    <tr>\n",
       "      <th>40</th>\n",
       "      <td>Cool</td>\n",
       "      <td>Rock</td>\n",
       "      <td>Vodka</td>\n",
       "      <td>Coca Cola/Pepsi</td>\n",
       "      <td>M</td>\n",
       "    </tr>\n",
       "    <tr>\n",
       "      <th>61</th>\n",
       "      <td>Cool</td>\n",
       "      <td>Rock</td>\n",
       "      <td>Vodka</td>\n",
       "      <td>Coca Cola/Pepsi</td>\n",
       "      <td>M</td>\n",
       "    </tr>\n",
       "  </tbody>\n",
       "</table>\n",
       "</div>"
      ],
      "text/plain": [
       "   Favorite Color Favorite Music Genre Favorite Beverage Favorite Soft Drink  \\\n",
       "4            Cool                 Rock             Vodka     Coca Cola/Pepsi   \n",
       "22           Cool                 Rock             Vodka     Coca Cola/Pepsi   \n",
       "40           Cool                 Rock             Vodka     Coca Cola/Pepsi   \n",
       "61           Cool                 Rock             Vodka     Coca Cola/Pepsi   \n",
       "\n",
       "   Gender  \n",
       "4       F  \n",
       "22      F  \n",
       "40      M  \n",
       "61      M  "
      ]
     },
     "execution_count": 5,
     "metadata": {},
     "output_type": "execute_result"
    }
   ],
   "source": [
    "data[(data['Favorite Color']=='Cool') &\n",
    "     (data['Favorite Music Genre'] == 'Rock') &\n",
    "     (data['Favorite Beverage']==\"Vodka\") &\n",
    "     (data['Favorite Soft Drink']=='Coca Cola/Pepsi')]"
   ]
  },
  {
   "cell_type": "markdown",
   "id": "67e61b1f",
   "metadata": {},
   "source": [
    "Kode tersebut melakukan filter pada DataFrame data untuk menampilkan baris-baris yang memiliki kombinasi spesifik dari preferensi, yaitu 'Cool' sebagai warna favorit, 'Rock' sebagai genre musik favorit, 'Vodka' sebagai minuman favorit, dan 'Coca Cola/Pepsi' sebagai minuman ringan favorit."
   ]
  },
  {
   "cell_type": "code",
   "execution_count": 6,
   "id": "012bcc3d",
   "metadata": {},
   "outputs": [],
   "source": [
    "X = data.iloc[:,:-1]\n",
    "y = data.iloc[:,-1]\n",
    "\n",
    "# Change the data into one-hot encoding (for features) and change label to 0-1\n",
    "X = pd.get_dummies(X)\n",
    "y = le.fit_transform(y)"
   ]
  },
  {
   "cell_type": "markdown",
   "id": "58cafdc6",
   "metadata": {},
   "source": [
    "Kode tersebut membagi dataset menjadi fitur (X) dan label (y), kemudian mengubah fitur menjadi representasi one-hot encoding dan label menjadi representasi numerik untuk digunakan dalam pemodelan."
   ]
  },
  {
   "cell_type": "code",
   "execution_count": 7,
   "id": "49ec266f",
   "metadata": {},
   "outputs": [
    {
     "data": {
      "text/html": [
       "<div>\n",
       "<style scoped>\n",
       "    .dataframe tbody tr th:only-of-type {\n",
       "        vertical-align: middle;\n",
       "    }\n",
       "\n",
       "    .dataframe tbody tr th {\n",
       "        vertical-align: top;\n",
       "    }\n",
       "\n",
       "    .dataframe thead th {\n",
       "        text-align: right;\n",
       "    }\n",
       "</style>\n",
       "<table border=\"1\" class=\"dataframe\">\n",
       "  <thead>\n",
       "    <tr style=\"text-align: right;\">\n",
       "      <th></th>\n",
       "      <th>Favorite Color_Cool</th>\n",
       "      <th>Favorite Color_Neutral</th>\n",
       "      <th>Favorite Color_Warm</th>\n",
       "      <th>Favorite Music Genre_Electronic</th>\n",
       "      <th>Favorite Music Genre_Folk/Traditional</th>\n",
       "      <th>Favorite Music Genre_Hip hop</th>\n",
       "      <th>Favorite Music Genre_Jazz/Blues</th>\n",
       "      <th>Favorite Music Genre_Pop</th>\n",
       "      <th>Favorite Music Genre_R&amp;B and soul</th>\n",
       "      <th>Favorite Music Genre_Rock</th>\n",
       "      <th>Favorite Beverage_Beer</th>\n",
       "      <th>Favorite Beverage_Doesn't drink</th>\n",
       "      <th>Favorite Beverage_Other</th>\n",
       "      <th>Favorite Beverage_Vodka</th>\n",
       "      <th>Favorite Beverage_Whiskey</th>\n",
       "      <th>Favorite Beverage_Wine</th>\n",
       "      <th>Favorite Soft Drink_7UP/Sprite</th>\n",
       "      <th>Favorite Soft Drink_Coca Cola/Pepsi</th>\n",
       "      <th>Favorite Soft Drink_Fanta</th>\n",
       "      <th>Favorite Soft Drink_Other</th>\n",
       "    </tr>\n",
       "  </thead>\n",
       "  <tbody>\n",
       "    <tr>\n",
       "      <th>0</th>\n",
       "      <td>1</td>\n",
       "      <td>0</td>\n",
       "      <td>0</td>\n",
       "      <td>0</td>\n",
       "      <td>0</td>\n",
       "      <td>0</td>\n",
       "      <td>0</td>\n",
       "      <td>0</td>\n",
       "      <td>0</td>\n",
       "      <td>1</td>\n",
       "      <td>0</td>\n",
       "      <td>0</td>\n",
       "      <td>0</td>\n",
       "      <td>1</td>\n",
       "      <td>0</td>\n",
       "      <td>0</td>\n",
       "      <td>1</td>\n",
       "      <td>0</td>\n",
       "      <td>0</td>\n",
       "      <td>0</td>\n",
       "    </tr>\n",
       "    <tr>\n",
       "      <th>1</th>\n",
       "      <td>0</td>\n",
       "      <td>1</td>\n",
       "      <td>0</td>\n",
       "      <td>0</td>\n",
       "      <td>0</td>\n",
       "      <td>1</td>\n",
       "      <td>0</td>\n",
       "      <td>0</td>\n",
       "      <td>0</td>\n",
       "      <td>0</td>\n",
       "      <td>0</td>\n",
       "      <td>0</td>\n",
       "      <td>0</td>\n",
       "      <td>1</td>\n",
       "      <td>0</td>\n",
       "      <td>0</td>\n",
       "      <td>0</td>\n",
       "      <td>1</td>\n",
       "      <td>0</td>\n",
       "      <td>0</td>\n",
       "    </tr>\n",
       "    <tr>\n",
       "      <th>2</th>\n",
       "      <td>0</td>\n",
       "      <td>0</td>\n",
       "      <td>1</td>\n",
       "      <td>0</td>\n",
       "      <td>0</td>\n",
       "      <td>0</td>\n",
       "      <td>0</td>\n",
       "      <td>0</td>\n",
       "      <td>0</td>\n",
       "      <td>1</td>\n",
       "      <td>0</td>\n",
       "      <td>0</td>\n",
       "      <td>0</td>\n",
       "      <td>0</td>\n",
       "      <td>0</td>\n",
       "      <td>1</td>\n",
       "      <td>0</td>\n",
       "      <td>1</td>\n",
       "      <td>0</td>\n",
       "      <td>0</td>\n",
       "    </tr>\n",
       "    <tr>\n",
       "      <th>3</th>\n",
       "      <td>0</td>\n",
       "      <td>0</td>\n",
       "      <td>1</td>\n",
       "      <td>0</td>\n",
       "      <td>1</td>\n",
       "      <td>0</td>\n",
       "      <td>0</td>\n",
       "      <td>0</td>\n",
       "      <td>0</td>\n",
       "      <td>0</td>\n",
       "      <td>0</td>\n",
       "      <td>0</td>\n",
       "      <td>0</td>\n",
       "      <td>0</td>\n",
       "      <td>1</td>\n",
       "      <td>0</td>\n",
       "      <td>0</td>\n",
       "      <td>0</td>\n",
       "      <td>1</td>\n",
       "      <td>0</td>\n",
       "    </tr>\n",
       "    <tr>\n",
       "      <th>4</th>\n",
       "      <td>1</td>\n",
       "      <td>0</td>\n",
       "      <td>0</td>\n",
       "      <td>0</td>\n",
       "      <td>0</td>\n",
       "      <td>0</td>\n",
       "      <td>0</td>\n",
       "      <td>0</td>\n",
       "      <td>0</td>\n",
       "      <td>1</td>\n",
       "      <td>0</td>\n",
       "      <td>0</td>\n",
       "      <td>0</td>\n",
       "      <td>1</td>\n",
       "      <td>0</td>\n",
       "      <td>0</td>\n",
       "      <td>0</td>\n",
       "      <td>1</td>\n",
       "      <td>0</td>\n",
       "      <td>0</td>\n",
       "    </tr>\n",
       "  </tbody>\n",
       "</table>\n",
       "</div>"
      ],
      "text/plain": [
       "   Favorite Color_Cool  Favorite Color_Neutral  Favorite Color_Warm  \\\n",
       "0                    1                       0                    0   \n",
       "1                    0                       1                    0   \n",
       "2                    0                       0                    1   \n",
       "3                    0                       0                    1   \n",
       "4                    1                       0                    0   \n",
       "\n",
       "   Favorite Music Genre_Electronic  Favorite Music Genre_Folk/Traditional  \\\n",
       "0                                0                                      0   \n",
       "1                                0                                      0   \n",
       "2                                0                                      0   \n",
       "3                                0                                      1   \n",
       "4                                0                                      0   \n",
       "\n",
       "   Favorite Music Genre_Hip hop  Favorite Music Genre_Jazz/Blues  \\\n",
       "0                             0                                0   \n",
       "1                             1                                0   \n",
       "2                             0                                0   \n",
       "3                             0                                0   \n",
       "4                             0                                0   \n",
       "\n",
       "   Favorite Music Genre_Pop  Favorite Music Genre_R&B and soul  \\\n",
       "0                         0                                  0   \n",
       "1                         0                                  0   \n",
       "2                         0                                  0   \n",
       "3                         0                                  0   \n",
       "4                         0                                  0   \n",
       "\n",
       "   Favorite Music Genre_Rock  Favorite Beverage_Beer  \\\n",
       "0                          1                       0   \n",
       "1                          0                       0   \n",
       "2                          1                       0   \n",
       "3                          0                       0   \n",
       "4                          1                       0   \n",
       "\n",
       "   Favorite Beverage_Doesn't drink  Favorite Beverage_Other  \\\n",
       "0                                0                        0   \n",
       "1                                0                        0   \n",
       "2                                0                        0   \n",
       "3                                0                        0   \n",
       "4                                0                        0   \n",
       "\n",
       "   Favorite Beverage_Vodka  Favorite Beverage_Whiskey  Favorite Beverage_Wine  \\\n",
       "0                        1                          0                       0   \n",
       "1                        1                          0                       0   \n",
       "2                        0                          0                       1   \n",
       "3                        0                          1                       0   \n",
       "4                        1                          0                       0   \n",
       "\n",
       "   Favorite Soft Drink_7UP/Sprite  Favorite Soft Drink_Coca Cola/Pepsi  \\\n",
       "0                               1                                    0   \n",
       "1                               0                                    1   \n",
       "2                               0                                    1   \n",
       "3                               0                                    0   \n",
       "4                               0                                    1   \n",
       "\n",
       "   Favorite Soft Drink_Fanta  Favorite Soft Drink_Other  \n",
       "0                          0                          0  \n",
       "1                          0                          0  \n",
       "2                          0                          0  \n",
       "3                          1                          0  \n",
       "4                          0                          0  "
      ]
     },
     "execution_count": 7,
     "metadata": {},
     "output_type": "execute_result"
    }
   ],
   "source": [
    "X.head()"
   ]
  },
  {
   "cell_type": "markdown",
   "id": "61b2f630",
   "metadata": {},
   "source": [
    "Kode tersebut digunakan untuk melihat 5 data teratas yang telah direpresentasikan menjadi one-hot encoding agar menjadi representasi numerik."
   ]
  },
  {
   "cell_type": "code",
   "execution_count": 8,
   "id": "6bdc4493",
   "metadata": {},
   "outputs": [
    {
     "name": "stdout",
     "output_type": "stream",
     "text": [
      "Shape of new data:  (66, 20)\n"
     ]
    }
   ],
   "source": [
    "print(\"Shape of new data: \", X.shape)"
   ]
  },
  {
   "cell_type": "markdown",
   "id": "af895fd3",
   "metadata": {},
   "source": [
    "Kode tersebut mencetak ukuran (shape) dari data fitur (X). Ini memberikan informasi tentang jumlah baris (instances) dan jumlah kolom (features) yang ada dalam data fitur setelah transformasi seperti one-hot encoding. Jadi, output dari perintah ini akan menampilkan dimensi dari data fitur setelah perubahan, memberikan gambaran tentang berapa banyak instance data yang digunakan dan berapa banyak fitur yang diproses setelah transformasi."
   ]
  },
  {
   "cell_type": "code",
   "execution_count": 9,
   "id": "1f372726",
   "metadata": {},
   "outputs": [],
   "source": [
    "def train_model(X_train, X_test, y_train, y_test):\n",
    "  model = tf.keras.models.Sequential([\n",
    "        tf.keras.Input(shape=(20), dtype='float32'),\n",
    "        tf.keras.layers.Dense(units=1024, activation='relu'),\n",
    "        tf.keras.layers.Dropout(0.4),\n",
    "        tf.keras.layers.Dense(units=1, activation='sigmoid')\n",
    "  ])\n",
    "\n",
    "  model.compile(optimizer=Adam(lr=0.0001),\n",
    "                loss='binary_crossentropy',\n",
    "                metrics=['accuracy'])\n",
    "  \n",
    "  # Callback to reduce learning rate if no improvement in validation loss for certain number of epochs\n",
    "  reduce_lr = ReduceLROnPlateau(monitor='val_loss', factor=0.1, patience=10, min_lr=1e-8, verbose=0)\n",
    "  # Callback to stop training if no improvement in validation loss for certain number of epochs\n",
    "  early_stop = EarlyStopping(monitor='val_loss', patience=20, verbose=0)\n",
    "\n",
    "  history = model.fit(\n",
    "    X_train, y_train,\n",
    "    epochs=1000,\n",
    "    validation_data=(X_test, y_test),\n",
    "    callbacks=[reduce_lr, early_stop],\n",
    "    verbose=0\n",
    "  )\n",
    "\n",
    "  tr_loss, tr_acc = model.evaluate(X_train, y_train)\n",
    "  loss, accuracy = model.evaluate(X_test, y_test)\n",
    "\n",
    "  return model, history, tr_loss, tr_acc, loss, accuracy"
   ]
  },
  {
   "cell_type": "markdown",
   "id": "8f6b7975",
   "metadata": {},
   "source": [
    "\n",
    "Fungsi train_model membuat dan melatih model jaringan saraf dengan dua lapisan Dense, satu lapisan dropout, dan menggunakan Adam sebagai optimizer serta binary crossentropy sebagai loss function. Callback digunakan untuk mengurangi laju pembelajaran jika tidak ada perbaikan dalam validasi loss, serta menghentikan pelatihan jika tidak ada peningkatan dalam validasi loss. Setelah pelatihan, fungsi ini mengembalikan model, riwayat pelatihan, serta informasi evaluasi terkait loss dan akurasi dari data pelatihan dan pengujian."
   ]
  },
  {
   "cell_type": "code",
   "execution_count": 10,
   "id": "86bc0c27",
   "metadata": {},
   "outputs": [
    {
     "name": "stderr",
     "output_type": "stream",
     "text": [
      "WARNING:absl:`lr` is deprecated in Keras optimizer, please use `learning_rate` or use the legacy optimizer, e.g.,tf.keras.optimizers.legacy.Adam.\n"
     ]
    },
    {
     "name": "stdout",
     "output_type": "stream",
     "text": [
      "2/2 [==============================] - 0s 5ms/step - loss: 0.3039 - accuracy: 0.9423\n",
      "1/1 [==============================] - 0s 33ms/step - loss: 0.6202 - accuracy: 0.7143\n"
     ]
    },
    {
     "name": "stderr",
     "output_type": "stream",
     "text": [
      "C:\\Users\\Lenovo\\anaconda3\\lib\\site-packages\\keras\\src\\engine\\training.py:3000: UserWarning: You are saving your model as an HDF5 file via `model.save()`. This file format is considered legacy. We recommend using instead the native Keras format, e.g. `model.save('my_model.keras')`.\n",
      "  saving_api.save_model(\n",
      "WARNING:absl:`lr` is deprecated in Keras optimizer, please use `learning_rate` or use the legacy optimizer, e.g.,tf.keras.optimizers.legacy.Adam.\n"
     ]
    },
    {
     "name": "stdout",
     "output_type": "stream",
     "text": [
      "Model changed\n",
      "2/2 [==============================] - 0s 13ms/step - loss: 0.0724 - accuracy: 0.9623\n",
      "1/1 [==============================] - 0s 35ms/step - loss: 0.4186 - accuracy: 0.8462\n",
      "Model changed\n"
     ]
    },
    {
     "name": "stderr",
     "output_type": "stream",
     "text": [
      "C:\\Users\\Lenovo\\anaconda3\\lib\\site-packages\\keras\\src\\engine\\training.py:3000: UserWarning: You are saving your model as an HDF5 file via `model.save()`. This file format is considered legacy. We recommend using instead the native Keras format, e.g. `model.save('my_model.keras')`.\n",
      "  saving_api.save_model(\n",
      "WARNING:absl:`lr` is deprecated in Keras optimizer, please use `learning_rate` or use the legacy optimizer, e.g.,tf.keras.optimizers.legacy.Adam.\n"
     ]
    },
    {
     "name": "stdout",
     "output_type": "stream",
     "text": [
      "2/2 [==============================] - 0s 10ms/step - loss: 0.4788 - accuracy: 0.8302\n",
      "1/1 [==============================] - 0s 32ms/step - loss: 0.6992 - accuracy: 0.4615\n"
     ]
    },
    {
     "name": "stderr",
     "output_type": "stream",
     "text": [
      "WARNING:absl:`lr` is deprecated in Keras optimizer, please use `learning_rate` or use the legacy optimizer, e.g.,tf.keras.optimizers.legacy.Adam.\n"
     ]
    },
    {
     "name": "stdout",
     "output_type": "stream",
     "text": [
      "2/2 [==============================] - 0s 10ms/step - loss: 0.5124 - accuracy: 0.8491\n",
      "1/1 [==============================] - 0s 30ms/step - loss: 0.8484 - accuracy: 0.3077\n"
     ]
    },
    {
     "name": "stderr",
     "output_type": "stream",
     "text": [
      "WARNING:absl:`lr` is deprecated in Keras optimizer, please use `learning_rate` or use the legacy optimizer, e.g.,tf.keras.optimizers.legacy.Adam.\n"
     ]
    },
    {
     "name": "stdout",
     "output_type": "stream",
     "text": [
      "2/2 [==============================] - 0s 9ms/step - loss: 0.0937 - accuracy: 0.9623\n",
      "1/1 [==============================] - 0s 30ms/step - loss: 0.2991 - accuracy: 0.8462\n"
     ]
    }
   ],
   "source": [
    "kfold = KFold(n_splits=5, random_state=42, shuffle=True)\n",
    "\n",
    "loss_arr = []\n",
    "acc_arr = []\n",
    "trloss_arr = []\n",
    "tracc_arr = []\n",
    "\n",
    "temp_acc = 0\n",
    "\n",
    "for train, test in kfold.split(data):\n",
    "  model, history, trloss_val, tracc_val, loss_val, acc_val = train_model(X.iloc[train], X.iloc[test], y[train], y[test])\n",
    "  if acc_val > temp_acc:\n",
    "    print(\"Model changed\")\n",
    "    temp_acc = acc_val\n",
    "    model.save('best_model.h5')\n",
    "    train_index = train\n",
    "    test_index = test\n",
    "    best_history = history\n",
    "  trloss_arr.append(trloss_val)\n",
    "  tracc_arr.append(tracc_val)\n",
    "  loss_arr.append(loss_val)\n",
    "  acc_arr.append(acc_val)"
   ]
  },
  {
   "cell_type": "markdown",
   "id": "fcf25f8b",
   "metadata": {},
   "source": [
    "Kode ini menggunakan validasi silang K-Fold dengan 5 lipatan pada dataset. Iterasi dilakukan untuk melatih model pada setiap lipatan dengan menggunakan fungsi train_model. Hasil evaluasi model pada setiap lipatan disimpan dalam array. Model terbaik berdasarkan akurasi disimpan dan dinilai untuk setiap lipatan.\n",
    "Ini adalah output dari proses validasi silang menggunakan K-Fold dengan 5 lipatan pada beberapa iterasi. Setiap iterasi melibatkan pelatihan dan evaluasi model pada lipatan tertentu dari dataset.\n",
    "\n",
    "Baris pertama (2/2 [==============================] - 0s 5ms/step - loss: 0.3039 - accuracy: 0.9423) menunjukkan hasil evaluasi model pada data pelatihan dari lipatan pertama dengan loss sebesar 0.3039 dan akurasi sebesar 0.9423.\n",
    "Baris kedua (1/1 [==============================] - 0s 33ms/step - loss: 0.6202 - accuracy: 0.7143) menunjukkan hasil evaluasi model pada data pengujian dari lipatan pertama dengan loss sebesar 0.6202 dan akurasi sebesar 0.7143.\n",
    "Peringatan (UserWarning) yang terjadi menyatakan bahwa format penyimpanan model menggunakan format HDF5 dianggap sebagai format legacy. Disarankan untuk menggunakan format Keras native untuk menyimpan model.\n",
    "Proses ini berlanjut dengan iterasi lainnya (terdapat beberapa iterasi yang tidak dapat dilihat dalam potongan kode) dengan pelatihan dan evaluasi model pada setiap lipatan data. Pada beberapa iterasi, model mengalami perubahan dan disimpan sebagai model terbaik berdasarkan peningkatan akurasi pada lipatan tersebut."
   ]
  },
  {
   "cell_type": "code",
   "execution_count": 11,
   "id": "e3264f36",
   "metadata": {},
   "outputs": [
    {
     "data": {
      "text/html": [
       "<div>\n",
       "<style scoped>\n",
       "    .dataframe tbody tr th:only-of-type {\n",
       "        vertical-align: middle;\n",
       "    }\n",
       "\n",
       "    .dataframe tbody tr th {\n",
       "        vertical-align: top;\n",
       "    }\n",
       "\n",
       "    .dataframe thead th {\n",
       "        text-align: right;\n",
       "    }\n",
       "</style>\n",
       "<table border=\"1\" class=\"dataframe\">\n",
       "  <thead>\n",
       "    <tr style=\"text-align: right;\">\n",
       "      <th></th>\n",
       "      <th>Train Accuracy</th>\n",
       "      <th>Test Accuracy</th>\n",
       "    </tr>\n",
       "  </thead>\n",
       "  <tbody>\n",
       "    <tr>\n",
       "      <th>1</th>\n",
       "      <td>0.942308</td>\n",
       "      <td>0.714286</td>\n",
       "    </tr>\n",
       "    <tr>\n",
       "      <th>2</th>\n",
       "      <td>0.962264</td>\n",
       "      <td>0.846154</td>\n",
       "    </tr>\n",
       "    <tr>\n",
       "      <th>3</th>\n",
       "      <td>0.830189</td>\n",
       "      <td>0.461538</td>\n",
       "    </tr>\n",
       "    <tr>\n",
       "      <th>4</th>\n",
       "      <td>0.849057</td>\n",
       "      <td>0.307692</td>\n",
       "    </tr>\n",
       "    <tr>\n",
       "      <th>5</th>\n",
       "      <td>0.962264</td>\n",
       "      <td>0.846154</td>\n",
       "    </tr>\n",
       "  </tbody>\n",
       "</table>\n",
       "</div>"
      ],
      "text/plain": [
       "   Train Accuracy  Test Accuracy\n",
       "1        0.942308       0.714286\n",
       "2        0.962264       0.846154\n",
       "3        0.830189       0.461538\n",
       "4        0.849057       0.307692\n",
       "5        0.962264       0.846154"
      ]
     },
     "execution_count": 11,
     "metadata": {},
     "output_type": "execute_result"
    }
   ],
   "source": [
    "pd.DataFrame({\n",
    "    'Train Accuracy': tracc_arr,\n",
    "    'Test Accuracy': acc_arr},\n",
    "    index=range(1,6))"
   ]
  },
  {
   "cell_type": "markdown",
   "id": "7da612d8",
   "metadata": {},
   "source": [
    "Kode ini membuat DataFrame yang berisi nilai akurasi dari data pelatihan dan pengujian untuk setiap lipatan dalam validasi silang K-Fold dengan 5 lipatan. DataFrame ini memiliki kolom 'Train Accuracy' untuk nilai akurasi pada data pelatihan dan 'Test Accuracy' untuk nilai akurasi pada data pengujian. Indeks dari 1 hingga 5 menggambarkan setiap lipatan dalam validasi silang."
   ]
  },
  {
   "cell_type": "code",
   "execution_count": 12,
   "id": "35d6002e",
   "metadata": {},
   "outputs": [
    {
     "name": "stdout",
     "output_type": "stream",
     "text": [
      "Train Index (Best Split):  [ 0  1  2  5  7  9 10 11 12 13 14 15 16 18 20 21 22 23 24 26 27 29 30 31\n",
      " 32 33 35 37 38 39 41 42 43 44 45 46 47 49 50 51 52 53 54 55 57 58 59 60\n",
      " 61 62 63 64 65]\n",
      "Test Index (Best Split):  [ 3  4  6  8 17 19 25 28 34 36 40 48 56]\n"
     ]
    }
   ],
   "source": [
    "print(\"Train Index (Best Split): \", train_index)\n",
    "print(\"Test Index (Best Split): \", test_index)"
   ]
  },
  {
   "cell_type": "markdown",
   "id": "af9d3f04",
   "metadata": {},
   "source": [
    "Kode ini mencetak indeks terbaik dari data pelatihan dan pengujian dalam validasi silang K-Fold. train_index berisi indeks dari data pelatihan terbaik, sedangkan test_index berisi indeks dari data pengujian terbaik. Ini menunjukkan baris-baris mana dari dataset yang digunakan sebagai data pelatihan dan pengujian yang menghasilkan model terbaik dalam proses validasi silang."
   ]
  },
  {
   "cell_type": "code",
   "execution_count": 13,
   "id": "419b524e",
   "metadata": {},
   "outputs": [],
   "source": [
    "# Import model\n",
    "modeltf = tf.keras.models.load_model('best_model.h5')"
   ]
  },
  {
   "cell_type": "markdown",
   "id": "25ff9f46",
   "metadata": {},
   "source": [
    "Kode ini mengimpor model jaringan saraf yang telah disimpan sebelumnya dalam format 'best_model.h5' menggunakan TensorFlow. Model tersebut dimuat ke dalam variabel modeltf untuk digunakan dalam prediksi atau evaluasi data tanpa perlu melatih ulang model."
   ]
  },
  {
   "cell_type": "code",
   "execution_count": 14,
   "id": "d939a8ef",
   "metadata": {},
   "outputs": [
    {
     "data": {
      "image/png": "[encoded data removed]",
      "text/plain": [
       "<IPython.core.display.Image object>"
      ]
     },
     "execution_count": 14,
     "metadata": {},
     "output_type": "execute_result"
    }
   ],
   "source": [
    "# Plot the model architecture\n",
    "plot_model(model, show_shapes=True)"
   ]
  },
  {
   "cell_type": "markdown",
   "id": "cf47ddc4",
   "metadata": {},
   "source": [
    "Kode ini menghasilkan visualisasi arsitektur model jaringan saraf menggunakan TensorFlow dengan fungsi plot_model(). Diagram yang dihasilkan akan menunjukkan struktur dan aliran data melalui setiap lapisan model."
   ]
  },
  {
   "cell_type": "code",
   "execution_count": 15,
   "id": "6996cfa8",
   "metadata": {},
   "outputs": [
    {
     "name": "stdout",
     "output_type": "stream",
     "text": [
      "Model: \"sequential_1\"\n",
      "_________________________________________________________________\n",
      " Layer (type)                Output Shape              Param #   \n",
      "=================================================================\n",
      " dense_2 (Dense)             (None, 1024)              21504     \n",
      "                                                                 \n",
      " dropout_1 (Dropout)         (None, 1024)              0         \n",
      "                                                                 \n",
      " dense_3 (Dense)             (None, 1)                 1025      \n",
      "                                                                 \n",
      "=================================================================\n",
      "Total params: 22529 (88.00 KB)\n",
      "Trainable params: 22529 (88.00 KB)\n",
      "Non-trainable params: 0 (0.00 Byte)\n",
      "_________________________________________________________________\n"
     ]
    }
   ],
   "source": [
    "modeltf.summary()"
   ]
  },
  {
   "cell_type": "markdown",
   "id": "5e3cac90",
   "metadata": {},
   "source": [
    "Kode ini memberikan ringkasan singkat tentang arsitektur model jaringan saraf yang dimuat, termasuk informasi tentang setiap lapisan, jumlah parameter yang dapat diubah (trainable) dan yang tidak dapat diubah (non-trainable), serta total keseluruhan parameter dalam model."
   ]
  },
  {
   "cell_type": "code",
   "execution_count": 16,
   "id": "780692f7",
   "metadata": {},
   "outputs": [
    {
     "data": {
      "image/png": "[encoded data removed]",
      "text/plain": [
       "<Figure size 432x288 with 1 Axes>"
      ]
     },
     "metadata": {
      "needs_background": "light"
     },
     "output_type": "display_data"
    },
    {
     "data": {
      "image/png": "[encoded data removed]",
      "text/plain": [
       "<Figure size 432x288 with 1 Axes>"
      ]
     },
     "metadata": {
      "needs_background": "light"
     },
     "output_type": "display_data"
    }
   ],
   "source": [
    "plt.plot(best_history.history['accuracy'])\n",
    "plt.plot(best_history.history['val_accuracy'])\n",
    "plt.title('model accuracy')\n",
    "plt.ylabel('accuracy')\n",
    "plt.xlabel('epoch')\n",
    "plt.legend(['train', 'test'], loc='upper left')\n",
    "plt.show()\n",
    "\n",
    "# Plot the accuracy of the best model for each epoch of loss\n",
    "plt.plot(best_history.history['loss'])\n",
    "plt.plot(best_history.history['val_loss'])\n",
    "plt.title('model loss')\n",
    "plt.ylabel('loss')\n",
    "plt.xlabel('epoch')\n",
    "plt.legend(['train', 'test'], loc='upper left')\n",
    "plt.show()"
   ]
  },
  {
   "cell_type": "markdown",
   "id": "b610354f",
   "metadata": {},
   "source": [
    "Kode tersebut menghasilkan dua grafik:\n",
    "1.Grafik pertama menunjukkan perubahan akurasi model (train dan test) pada setiap epoch.\n",
    "2.Grafik kedua menampilkan perubahan loss model (train dan test) pada setiap epoch.\n",
    "Kedua grafik memberikan gambaran visual tentang bagaimana akurasi dan loss model berubah selama proses pelatihan."
   ]
  },
  {
   "cell_type": "code",
   "execution_count": 18,
   "id": "25e8bef4",
   "metadata": {},
   "outputs": [
    {
     "name": "stdout",
     "output_type": "stream",
     "text": [
      "2/2 [==============================] - 0s 8ms/step - loss: 0.0724 - accuracy: 0.9623\n",
      "1/1 [==============================] - 0s 40ms/step - loss: 0.4186 - accuracy: 0.8462\n",
      "\n",
      "==============================\n",
      "Train Accuracy:  0.9622641801834106\n",
      "Train Loss:  0.07239726930856705\n",
      "==============================\n",
      "Test Accuracy:  0.8461538553237915\n",
      "Test Loss:  0.4186326563358307\n"
     ]
    }
   ],
   "source": [
    "train_loss, train_acc = modeltf.evaluate(X.iloc[train_index], y[train_index])\n",
    "test_loss, test_acc = modeltf.evaluate(X.iloc[test_index], y[test_index])\n",
    "\n",
    "print(\"\\n==============================\")\n",
    "print(\"Train Accuracy: \", train_acc)\n",
    "print(\"Train Loss: \", train_loss)\n",
    "print(\"==============================\")\n",
    "print(\"Test Accuracy: \", test_acc)\n",
    "print(\"Test Loss: \", test_loss)"
   ]
  },
  {
   "cell_type": "markdown",
   "id": "afe0cc52",
   "metadata": {},
   "source": [
    "Kode tersebut mengevaluasi model pada split terbaik dari validasi silang K-Fold untuk data pelatihan dan pengujian. Evaluasi mencakup perhitungan loss dan akurasi dari model pada kedua set data tersebut. Hasil evaluasi ditampilkan untuk memberikan informasi tentang performa model pada data yang tidak terlibat dalam pelatihan.\n",
    "Pesan output tersebut menunjukkan hasil evaluasi model pada data pelatihan dan pengujian yang merupakan split terbaik dari validasi silang K-Fold:\n",
    "Bagian pertama menunjukkan informasi tentang loss dan akurasi dari evaluasi model pada data pelatihan. Loss adalah 0.0724 dan akurasi adalah 0.9623.\n",
    "Bagian kedua menunjukkan informasi yang serupa untuk evaluasi model pada data pengujian. Loss pada data pengujian adalah 0.4186 dan akurasi adalah 0.8462.\n",
    "Di bawahnya, terdapat pemisah '==============================', diikuti dengan hasil yang sama dengan cara yang lebih terstruktur, menampilkan nilai akurasi dan loss untuk data pelatihan (Train Accuracy: 0.9623, Train Loss: 0.0724) serta nilai akurasi dan loss untuk data pengujian (Test Accuracy: 0.8462, Test Loss: 0.4186).\n",
    "Ini adalah ringkasan dari evaluasi performa model pada data yang digunakan selama pelatihan dan pada data yang tidak terlibat dalam proses pelatihan. "
   ]
  },
  {
   "cell_type": "code",
   "execution_count": 19,
   "id": "8fe4edea",
   "metadata": {},
   "outputs": [
    {
     "name": "stdout",
     "output_type": "stream",
     "text": [
      "1/1 [==============================] - 0s 125ms/step\n"
     ]
    }
   ],
   "source": [
    "y_pred = modeltf.predict(X.iloc[test_index])\n",
    "y_pred = (y_pred > 0.5)"
   ]
  },
  {
   "cell_type": "markdown",
   "id": "cc94bf6d",
   "metadata": {},
   "source": [
    "Kode tersebut menggunakan model (modeltf) untuk memprediksi kelas pada data pengujian yang merupakan split terbaik dari validasi silang K-Fold.\n",
    "1.modeltf.predict(X.iloc[test_index]) melakukan prediksi pada data pengujian dan menyimpan hasilnya dalam y_pred.\n",
    "2.Selanjutnya, nilai-nilai prediksi dalam y_pred diubah menjadi True atau False dengan menggunakan threshold 0.5 untuk klasifikasi biner.\n",
    "Output 1/1 [==============================] - 0s 125ms/step menunjukkan bahwa proses yang dilakukan terdiri dari satu batch dengan satu iterasi (epoch). Dalam hal ini, proses tersebut selesai dalam waktu 125 milidetik."
   ]
  },
  {
   "cell_type": "code",
   "execution_count": 20,
   "id": "19308482",
   "metadata": {},
   "outputs": [
    {
     "data": {
      "text/html": [
       "<div>\n",
       "<style scoped>\n",
       "    .dataframe tbody tr th:only-of-type {\n",
       "        vertical-align: middle;\n",
       "    }\n",
       "\n",
       "    .dataframe tbody tr th {\n",
       "        vertical-align: top;\n",
       "    }\n",
       "\n",
       "    .dataframe thead th {\n",
       "        text-align: right;\n",
       "    }\n",
       "</style>\n",
       "<table border=\"1\" class=\"dataframe\">\n",
       "  <thead>\n",
       "    <tr style=\"text-align: right;\">\n",
       "      <th></th>\n",
       "      <th>Y test</th>\n",
       "      <th>Y pred</th>\n",
       "    </tr>\n",
       "  </thead>\n",
       "  <tbody>\n",
       "    <tr>\n",
       "      <th>3</th>\n",
       "      <td>0</td>\n",
       "      <td>0</td>\n",
       "    </tr>\n",
       "    <tr>\n",
       "      <th>4</th>\n",
       "      <td>0</td>\n",
       "      <td>0</td>\n",
       "    </tr>\n",
       "    <tr>\n",
       "      <th>6</th>\n",
       "      <td>0</td>\n",
       "      <td>0</td>\n",
       "    </tr>\n",
       "    <tr>\n",
       "      <th>8</th>\n",
       "      <td>0</td>\n",
       "      <td>0</td>\n",
       "    </tr>\n",
       "    <tr>\n",
       "      <th>17</th>\n",
       "      <td>0</td>\n",
       "      <td>0</td>\n",
       "    </tr>\n",
       "    <tr>\n",
       "      <th>19</th>\n",
       "      <td>0</td>\n",
       "      <td>0</td>\n",
       "    </tr>\n",
       "    <tr>\n",
       "      <th>25</th>\n",
       "      <td>0</td>\n",
       "      <td>1</td>\n",
       "    </tr>\n",
       "    <tr>\n",
       "      <th>28</th>\n",
       "      <td>0</td>\n",
       "      <td>0</td>\n",
       "    </tr>\n",
       "    <tr>\n",
       "      <th>34</th>\n",
       "      <td>1</td>\n",
       "      <td>1</td>\n",
       "    </tr>\n",
       "    <tr>\n",
       "      <th>36</th>\n",
       "      <td>1</td>\n",
       "      <td>1</td>\n",
       "    </tr>\n",
       "    <tr>\n",
       "      <th>40</th>\n",
       "      <td>1</td>\n",
       "      <td>0</td>\n",
       "    </tr>\n",
       "    <tr>\n",
       "      <th>48</th>\n",
       "      <td>1</td>\n",
       "      <td>1</td>\n",
       "    </tr>\n",
       "    <tr>\n",
       "      <th>56</th>\n",
       "      <td>1</td>\n",
       "      <td>1</td>\n",
       "    </tr>\n",
       "  </tbody>\n",
       "</table>\n",
       "</div>"
      ],
      "text/plain": [
       "    Y test  Y pred\n",
       "3        0       0\n",
       "4        0       0\n",
       "6        0       0\n",
       "8        0       0\n",
       "17       0       0\n",
       "19       0       0\n",
       "25       0       1\n",
       "28       0       0\n",
       "34       1       1\n",
       "36       1       1\n",
       "40       1       0\n",
       "48       1       1\n",
       "56       1       1"
      ]
     },
     "execution_count": 20,
     "metadata": {},
     "output_type": "execute_result"
    }
   ],
   "source": [
    "compare_res = pd.DataFrame({\n",
    "    'Y test': y[test_index],\n",
    "    'Y pred': y_pred.astype(int).reshape(len(y[test_index]))\n",
    "}, index=test_index)\n",
    "compare_res"
   ]
  },
  {
   "cell_type": "markdown",
   "id": "3c574eb3",
   "metadata": {},
   "source": [
    "Kode tersebut membuat DataFrame Pandas yang membandingkan hasil aktual (y[test_index]) dengan hasil prediksi (y_pred) pada data pengujian (test_index) dari split terbaik dalam validasi silang K-Fold. DataFrame ini menunjukkan perbandingan antara nilai aktual dan nilai prediksi untuk setiap sampel dalam data pengujian."
   ]
  },
  {
   "cell_type": "code",
   "execution_count": 21,
   "id": "283785f6",
   "metadata": {},
   "outputs": [
    {
     "data": {
      "text/html": [
       "<div>\n",
       "<style scoped>\n",
       "    .dataframe tbody tr th:only-of-type {\n",
       "        vertical-align: middle;\n",
       "    }\n",
       "\n",
       "    .dataframe tbody tr th {\n",
       "        vertical-align: top;\n",
       "    }\n",
       "\n",
       "    .dataframe thead th {\n",
       "        text-align: right;\n",
       "    }\n",
       "</style>\n",
       "<table border=\"1\" class=\"dataframe\">\n",
       "  <thead>\n",
       "    <tr style=\"text-align: right;\">\n",
       "      <th></th>\n",
       "      <th>Favorite Color</th>\n",
       "      <th>Favorite Music Genre</th>\n",
       "      <th>Favorite Beverage</th>\n",
       "      <th>Favorite Soft Drink</th>\n",
       "      <th>Gender</th>\n",
       "      <th>Gender_Pred</th>\n",
       "    </tr>\n",
       "  </thead>\n",
       "  <tbody>\n",
       "    <tr>\n",
       "      <th>25</th>\n",
       "      <td>Warm</td>\n",
       "      <td>R&amp;B and soul</td>\n",
       "      <td>Whiskey</td>\n",
       "      <td>Coca Cola/Pepsi</td>\n",
       "      <td>F</td>\n",
       "      <td>M</td>\n",
       "    </tr>\n",
       "    <tr>\n",
       "      <th>40</th>\n",
       "      <td>Cool</td>\n",
       "      <td>Rock</td>\n",
       "      <td>Vodka</td>\n",
       "      <td>Coca Cola/Pepsi</td>\n",
       "      <td>M</td>\n",
       "      <td>F</td>\n",
       "    </tr>\n",
       "  </tbody>\n",
       "</table>\n",
       "</div>"
      ],
      "text/plain": [
       "   Favorite Color Favorite Music Genre Favorite Beverage Favorite Soft Drink  \\\n",
       "25           Warm         R&B and soul           Whiskey     Coca Cola/Pepsi   \n",
       "40           Cool                 Rock             Vodka     Coca Cola/Pepsi   \n",
       "\n",
       "   Gender Gender_Pred  \n",
       "25      F           M  \n",
       "40      M           F  "
      ]
     },
     "execution_count": 21,
     "metadata": {},
     "output_type": "execute_result"
    }
   ],
   "source": [
    "wrong_res_index = compare_res[compare_res['Y test'] != compare_res['Y pred']].index.values\n",
    "\n",
    "wrong_res = data.iloc[wrong_res_index,:]\n",
    "gender_pred = np.where(wrong_res['Gender']=='F', 'M', 'F')\n",
    "# wrong_res.loc[:,'Gender_Pred'] = gender_pred\n",
    "wrong_res = wrong_res.assign(Gender_Pred = gender_pred)\n",
    "wrong_res"
   ]
  },
  {
   "cell_type": "markdown",
   "id": "f96ea86d",
   "metadata": {},
   "source": [
    "Kode memilih hasil prediksi yang salah pada data pengujian dari validasi silang K-Fold, mengoreksi jenis kelamin yang salah, dan menambahkan kolom 'Gender_Pred' untuk menunjukkan koreksi tersebut.\n",
    "Hasilnya adalah baris menunjukkan entri dari data pengujian dengan hasil prediksi yang salah pada jenis kelamin (Gender). Kolom 'Gender' menunjukkan nilai aktual, sementara 'Gender_Pred' merupakan koreksi hasil prediksi yang salah."
   ]
  },
  {
   "cell_type": "code",
   "execution_count": 22,
   "id": "7708e864",
   "metadata": {},
   "outputs": [
    {
     "data": {
      "text/html": [
       "<div>\n",
       "<style scoped>\n",
       "    .dataframe tbody tr th:only-of-type {\n",
       "        vertical-align: middle;\n",
       "    }\n",
       "\n",
       "    .dataframe tbody tr th {\n",
       "        vertical-align: top;\n",
       "    }\n",
       "\n",
       "    .dataframe thead th {\n",
       "        text-align: right;\n",
       "    }\n",
       "</style>\n",
       "<table border=\"1\" class=\"dataframe\">\n",
       "  <thead>\n",
       "    <tr style=\"text-align: right;\">\n",
       "      <th></th>\n",
       "      <th>Favorite Color</th>\n",
       "      <th>Favorite Music Genre</th>\n",
       "      <th>Favorite Beverage</th>\n",
       "      <th>Favorite Soft Drink</th>\n",
       "      <th>Gender</th>\n",
       "    </tr>\n",
       "  </thead>\n",
       "  <tbody>\n",
       "    <tr>\n",
       "      <th>22</th>\n",
       "      <td>Cool</td>\n",
       "      <td>Rock</td>\n",
       "      <td>Vodka</td>\n",
       "      <td>Coca Cola/Pepsi</td>\n",
       "      <td>F</td>\n",
       "    </tr>\n",
       "    <tr>\n",
       "      <th>61</th>\n",
       "      <td>Cool</td>\n",
       "      <td>Rock</td>\n",
       "      <td>Vodka</td>\n",
       "      <td>Coca Cola/Pepsi</td>\n",
       "      <td>M</td>\n",
       "    </tr>\n",
       "  </tbody>\n",
       "</table>\n",
       "</div>"
      ],
      "text/plain": [
       "   Favorite Color Favorite Music Genre Favorite Beverage Favorite Soft Drink  \\\n",
       "22           Cool                 Rock             Vodka     Coca Cola/Pepsi   \n",
       "61           Cool                 Rock             Vodka     Coca Cola/Pepsi   \n",
       "\n",
       "   Gender  \n",
       "22      F  \n",
       "61      M  "
      ]
     },
     "execution_count": 22,
     "metadata": {},
     "output_type": "execute_result"
    }
   ],
   "source": [
    "data[(data.index.isin(train_index)) &\n",
    "     (data['Favorite Color'] == 'Cool') &\n",
    "     (data['Favorite Music Genre'] == 'Rock') &\n",
    "     (data['Favorite Beverage'] == \"Vodka\") &\n",
    "     (data['Favorite Soft Drink'] == 'Coca Cola/Pepsi')]"
   ]
  },
  {
   "cell_type": "markdown",
   "id": "b8b26f6a",
   "metadata": {},
   "source": [
    "Baris kode ini mengambil entri dari data pelatihan yang memiliki kriteria tertentu:\n",
    "\n",
    "Memiliki nilai 'Favorite Color' yang sama dengan 'Cool'.\n",
    "Memiliki nilai 'Favorite Music Genre' yang sama dengan 'Rock'.\n",
    "Memiliki nilai 'Favorite Beverage' yang sama dengan 'Vodka'.\n",
    "Memiliki nilai 'Favorite Soft Drink' yang sama dengan 'Coca Cola/Pepsi'."
   ]
  },
  {
   "cell_type": "code",
   "execution_count": 23,
   "id": "9b98534e",
   "metadata": {},
   "outputs": [
    {
     "data": {
      "text/html": [
       "<div>\n",
       "<style scoped>\n",
       "    .dataframe tbody tr th:only-of-type {\n",
       "        vertical-align: middle;\n",
       "    }\n",
       "\n",
       "    .dataframe tbody tr th {\n",
       "        vertical-align: top;\n",
       "    }\n",
       "\n",
       "    .dataframe thead th {\n",
       "        text-align: right;\n",
       "    }\n",
       "</style>\n",
       "<table border=\"1\" class=\"dataframe\">\n",
       "  <thead>\n",
       "    <tr style=\"text-align: right;\">\n",
       "      <th></th>\n",
       "      <th>Favorite Color</th>\n",
       "      <th>Favorite Music Genre</th>\n",
       "      <th>Favorite Beverage</th>\n",
       "      <th>Favorite Soft Drink</th>\n",
       "      <th>Gender</th>\n",
       "    </tr>\n",
       "  </thead>\n",
       "  <tbody>\n",
       "    <tr>\n",
       "      <th>38</th>\n",
       "      <td>Cool</td>\n",
       "      <td>Pop</td>\n",
       "      <td>Whiskey</td>\n",
       "      <td>Fanta</td>\n",
       "      <td>M</td>\n",
       "    </tr>\n",
       "  </tbody>\n",
       "</table>\n",
       "</div>"
      ],
      "text/plain": [
       "   Favorite Color Favorite Music Genre Favorite Beverage Favorite Soft Drink  \\\n",
       "38           Cool                  Pop           Whiskey               Fanta   \n",
       "\n",
       "   Gender  \n",
       "38      M  "
      ]
     },
     "execution_count": 23,
     "metadata": {},
     "output_type": "execute_result"
    }
   ],
   "source": [
    "data[(data.index.isin(train_index)) &\n",
    "     (data['Favorite Color']=='Cool') &\n",
    "     (data['Favorite Music Genre'] == 'Pop') &\n",
    "     (data['Favorite Beverage'] == \"Whiskey\") &\n",
    "     (data['Favorite Soft Drink'] == 'Fanta')]"
   ]
  },
  {
   "cell_type": "markdown",
   "id": "f970d993",
   "metadata": {},
   "source": [
    "Baris kode ini memilih entri dari data pelatihan yang memenuhi kriteria berikut:\n",
    "\n",
    "Memiliki nilai 'Favorite Color' yang sama dengan 'Cool'.\n",
    "Memiliki nilai 'Favorite Music Genre' yang sama dengan 'Pop'.\n",
    "Memiliki nilai 'Favorite Beverage' yang sama dengan 'Whiskey'.\n",
    "Memiliki nilai 'Favorite Soft Drink' yang sama dengan 'Fanta'."
   ]
  },
  {
   "cell_type": "code",
   "execution_count": 24,
   "id": "cad7f095",
   "metadata": {},
   "outputs": [
    {
     "data": {
      "text/plain": [
       "Text(91.68, 0.5, 'Predicted Label')"
      ]
     },
     "execution_count": 24,
     "metadata": {},
     "output_type": "execute_result"
    },
    {
     "data": {
      "image/png": "[encoded data removed]",
      "text/plain": [
       "<Figure size 432x288 with 1 Axes>"
      ]
     },
     "metadata": {
      "needs_background": "light"
     },
     "output_type": "display_data"
    }
   ],
   "source": [
    "cm = confusion_matrix(y[test_index], y_pred)\n",
    "sns.heatmap(cm.T, square=True, annot=True, fmt='d', cbar=False, cmap=\"YlGnBu\")\n",
    "plt.xlabel('Actual Label')\n",
    "plt.ylabel('Predicted Label')"
   ]
  },
  {
   "cell_type": "markdown",
   "id": "121016d6",
   "metadata": {},
   "source": [
    "Kode tersebut menggunakan seaborn (sns) untuk menghasilkan heatmap dari matriks kebingungan (confusion matrix) antara hasil prediksi (y_pred) dan nilai aktual (y[test_index]) pada data pengujian. Heatmap ini membantu visualisasi performa model dalam memprediksi label aktual terhadap label yang diprediksi."
   ]
  },
  {
   "cell_type": "code",
   "execution_count": 25,
   "id": "51f7754c",
   "metadata": {},
   "outputs": [],
   "source": [
    "X_train, X_test, y_train, y_test = train_test_split(X, y, test_size=0.2, random_state=42)"
   ]
  },
  {
   "cell_type": "markdown",
   "id": "0d38c2c9",
   "metadata": {},
   "source": [
    "Kode tersebut menggunakan train_test_split dari scikit-learn untuk membagi dataset menjadi data pelatihan (X_train, y_train) dan data pengujian (X_test, y_test), dengan proporsi data pengujian sebesar 20%."
   ]
  },
  {
   "cell_type": "code",
   "execution_count": 26,
   "id": "d8b69116",
   "metadata": {},
   "outputs": [
    {
     "name": "stdout",
     "output_type": "stream",
     "text": [
      "\n",
      "==============================\n",
      "Train Accuracy:  0.9622641801834106\n",
      "Train Loss:  0.07239726930856705\n",
      "==============================\n",
      "Test Accuracy:  0.8461538553237915\n",
      "Test Loss:  0.4186326563358307\n"
     ]
    }
   ],
   "source": [
    "print(\"\\n==============================\")\n",
    "print(\"Train Accuracy: \", train_acc)\n",
    "print(\"Train Loss: \", train_loss)\n",
    "print(\"==============================\")\n",
    "print(\"Test Accuracy: \", test_acc)\n",
    "print(\"Test Loss: \", test_loss)"
   ]
  },
  {
   "cell_type": "markdown",
   "id": "ad2daa3d",
   "metadata": {},
   "source": [
    "Kode tersebut mencetak akurasi dan loss dari model pada data pelatihan (Train Accuracy, Train Loss) dan data pengujian (Test Accuracy, Test Loss) untuk mengevaluasi performa model pada kedua dataset tersebut. Informasi ini membantu dalam melihat seberapa baik model dapat memprediksi data yang digunakan selama pelatihan dan pada data yang tidak digunakan dalam pelatihan.\n",
    "\n",
    "Ini adalah hasil evaluasi performa model pada data pelatihan dan pengujian:\n",
    "1.Train Accuracy: 0.9623 dan Train Loss: 0.0724 menunjukkan akurasi dan loss pada data pelatihan.\n",
    "2.Test Accuracy: 0.8462 dan Test Loss: 0.4186 adalah akurasi dan loss pada data pengujian.\n",
    "Informasi ini mencerminkan seberapa baik model dapat memprediksi data yang digunakan dalam pelatihan (data pelatihan) dan pada data yang tidak digunakan dalam proses pelatihan (data pengujian)."
   ]
  }
 ],
 "metadata": {
  "kernelspec": {
   "display_name": "Python 3",
   "language": "python",
   "name": "python3"
  },
  "language_info": {
   "codemirror_mode": {
    "name": "ipython",
    "version": 3
   },
   "file_extension": ".py",
   "mimetype": "text/x-python",
   "name": "python",
   "nbconvert_exporter": "python",
   "pygments_lexer": "ipython3",
   "version": "3.8.8"
  }
 },
 "nbformat": 4,
 "nbformat_minor": 5
}
