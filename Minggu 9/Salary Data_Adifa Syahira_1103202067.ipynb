{
 "cells": [
  {
   "cell_type": "code",
   "execution_count": 1,
   "id": "1cefc5fc",
   "metadata": {},
   "outputs": [],
   "source": [
    "import pandas as pd #untuk membaca data\n",
    "import numpy as np #untuk perhitungan\n",
    "import matplotlib.pyplot as plt #untuk visualisasi data"
   ]
  },
  {
   "cell_type": "markdown",
   "id": "eb8b50d2",
   "metadata": {},
   "source": [
    "Ini adalah library yang digunakan untuk membaca dan memanipulasi data, memanipulasi data berupa categorical dan numerik, lalu memvisualisasikan data."
   ]
  },
  {
   "cell_type": "code",
   "execution_count": 2,
   "id": "d566e07e",
   "metadata": {},
   "outputs": [
    {
     "data": {
      "text/html": [
       "<div>\n",
       "<style scoped>\n",
       "    .dataframe tbody tr th:only-of-type {\n",
       "        vertical-align: middle;\n",
       "    }\n",
       "\n",
       "    .dataframe tbody tr th {\n",
       "        vertical-align: top;\n",
       "    }\n",
       "\n",
       "    .dataframe thead th {\n",
       "        text-align: right;\n",
       "    }\n",
       "</style>\n",
       "<table border=\"1\" class=\"dataframe\">\n",
       "  <thead>\n",
       "    <tr style=\"text-align: right;\">\n",
       "      <th></th>\n",
       "      <th>Age</th>\n",
       "      <th>Gender</th>\n",
       "      <th>Education Level</th>\n",
       "      <th>Job Title</th>\n",
       "      <th>Years of Experience</th>\n",
       "      <th>Salary</th>\n",
       "    </tr>\n",
       "  </thead>\n",
       "  <tbody>\n",
       "    <tr>\n",
       "      <th>0</th>\n",
       "      <td>32.0</td>\n",
       "      <td>Male</td>\n",
       "      <td>Bachelor's</td>\n",
       "      <td>Software Engineer</td>\n",
       "      <td>5.0</td>\n",
       "      <td>90000.0</td>\n",
       "    </tr>\n",
       "    <tr>\n",
       "      <th>1</th>\n",
       "      <td>28.0</td>\n",
       "      <td>Female</td>\n",
       "      <td>Master's</td>\n",
       "      <td>Data Analyst</td>\n",
       "      <td>3.0</td>\n",
       "      <td>65000.0</td>\n",
       "    </tr>\n",
       "    <tr>\n",
       "      <th>2</th>\n",
       "      <td>45.0</td>\n",
       "      <td>Male</td>\n",
       "      <td>PhD</td>\n",
       "      <td>Senior Manager</td>\n",
       "      <td>15.0</td>\n",
       "      <td>150000.0</td>\n",
       "    </tr>\n",
       "    <tr>\n",
       "      <th>3</th>\n",
       "      <td>36.0</td>\n",
       "      <td>Female</td>\n",
       "      <td>Bachelor's</td>\n",
       "      <td>Sales Associate</td>\n",
       "      <td>7.0</td>\n",
       "      <td>60000.0</td>\n",
       "    </tr>\n",
       "    <tr>\n",
       "      <th>4</th>\n",
       "      <td>52.0</td>\n",
       "      <td>Male</td>\n",
       "      <td>Master's</td>\n",
       "      <td>Director</td>\n",
       "      <td>20.0</td>\n",
       "      <td>200000.0</td>\n",
       "    </tr>\n",
       "  </tbody>\n",
       "</table>\n",
       "</div>"
      ],
      "text/plain": [
       "    Age  Gender Education Level          Job Title  Years of Experience  \\\n",
       "0  32.0    Male      Bachelor's  Software Engineer                  5.0   \n",
       "1  28.0  Female        Master's       Data Analyst                  3.0   \n",
       "2  45.0    Male             PhD     Senior Manager                 15.0   \n",
       "3  36.0  Female      Bachelor's    Sales Associate                  7.0   \n",
       "4  52.0    Male        Master's           Director                 20.0   \n",
       "\n",
       "     Salary  \n",
       "0   90000.0  \n",
       "1   65000.0  \n",
       "2  150000.0  \n",
       "3   60000.0  \n",
       "4  200000.0  "
      ]
     },
     "execution_count": 2,
     "metadata": {},
     "output_type": "execute_result"
    }
   ],
   "source": [
    "df = pd.read_csv(r\"D:\\KULIAH DIFA\\Semester 7 HUHU\\Machine Learning\\Minggu 9\\Salary_Data_1.csv\")\n",
    "df.head()"
   ]
  },
  {
   "cell_type": "markdown",
   "id": "8f6455ed",
   "metadata": {},
   "source": [
    "Kode ini digunakan untuk membaca data melalui file excel lalu melihat data 5 tearatas."
   ]
  },
  {
   "cell_type": "code",
   "execution_count": 3,
   "id": "a43857cc",
   "metadata": {},
   "outputs": [
    {
     "name": "stdout",
     "output_type": "stream",
     "text": [
      "<class 'pandas.core.frame.DataFrame'>\n",
      "RangeIndex: 6704 entries, 0 to 6703\n",
      "Data columns (total 6 columns):\n",
      " #   Column               Non-Null Count  Dtype  \n",
      "---  ------               --------------  -----  \n",
      " 0   Age                  6702 non-null   float64\n",
      " 1   Gender               6702 non-null   object \n",
      " 2   Education Level      6701 non-null   object \n",
      " 3   Job Title            6702 non-null   object \n",
      " 4   Years of Experience  6701 non-null   float64\n",
      " 5   Salary               6699 non-null   float64\n",
      "dtypes: float64(3), object(3)\n",
      "memory usage: 314.4+ KB\n"
     ]
    }
   ],
   "source": [
    "df.info()"
   ]
  },
  {
   "cell_type": "markdown",
   "id": "0f02cad7",
   "metadata": {},
   "source": [
    "Kode ini digunakan untuk melihat info berbagai tipe yang ada pada data. Disini terdapat beberapa type ada yang object 3 buah dan float 3 buah."
   ]
  },
  {
   "cell_type": "code",
   "execution_count": 4,
   "id": "5f994813",
   "metadata": {},
   "outputs": [
    {
     "data": {
      "text/html": [
       "<div>\n",
       "<style scoped>\n",
       "    .dataframe tbody tr th:only-of-type {\n",
       "        vertical-align: middle;\n",
       "    }\n",
       "\n",
       "    .dataframe tbody tr th {\n",
       "        vertical-align: top;\n",
       "    }\n",
       "\n",
       "    .dataframe thead th {\n",
       "        text-align: right;\n",
       "    }\n",
       "</style>\n",
       "<table border=\"1\" class=\"dataframe\">\n",
       "  <thead>\n",
       "    <tr style=\"text-align: right;\">\n",
       "      <th></th>\n",
       "      <th>Age</th>\n",
       "      <th>Years of Experience</th>\n",
       "      <th>Salary</th>\n",
       "    </tr>\n",
       "  </thead>\n",
       "  <tbody>\n",
       "    <tr>\n",
       "      <th>count</th>\n",
       "      <td>6702.000000</td>\n",
       "      <td>6701.000000</td>\n",
       "      <td>6699.000000</td>\n",
       "    </tr>\n",
       "    <tr>\n",
       "      <th>mean</th>\n",
       "      <td>33.620859</td>\n",
       "      <td>8.094687</td>\n",
       "      <td>115326.964771</td>\n",
       "    </tr>\n",
       "    <tr>\n",
       "      <th>std</th>\n",
       "      <td>7.614633</td>\n",
       "      <td>6.059003</td>\n",
       "      <td>52786.183911</td>\n",
       "    </tr>\n",
       "    <tr>\n",
       "      <th>min</th>\n",
       "      <td>21.000000</td>\n",
       "      <td>0.000000</td>\n",
       "      <td>350.000000</td>\n",
       "    </tr>\n",
       "    <tr>\n",
       "      <th>25%</th>\n",
       "      <td>28.000000</td>\n",
       "      <td>3.000000</td>\n",
       "      <td>70000.000000</td>\n",
       "    </tr>\n",
       "    <tr>\n",
       "      <th>50%</th>\n",
       "      <td>32.000000</td>\n",
       "      <td>7.000000</td>\n",
       "      <td>115000.000000</td>\n",
       "    </tr>\n",
       "    <tr>\n",
       "      <th>75%</th>\n",
       "      <td>38.000000</td>\n",
       "      <td>12.000000</td>\n",
       "      <td>160000.000000</td>\n",
       "    </tr>\n",
       "    <tr>\n",
       "      <th>max</th>\n",
       "      <td>62.000000</td>\n",
       "      <td>34.000000</td>\n",
       "      <td>250000.000000</td>\n",
       "    </tr>\n",
       "  </tbody>\n",
       "</table>\n",
       "</div>"
      ],
      "text/plain": [
       "               Age  Years of Experience         Salary\n",
       "count  6702.000000          6701.000000    6699.000000\n",
       "mean     33.620859             8.094687  115326.964771\n",
       "std       7.614633             6.059003   52786.183911\n",
       "min      21.000000             0.000000     350.000000\n",
       "25%      28.000000             3.000000   70000.000000\n",
       "50%      32.000000             7.000000  115000.000000\n",
       "75%      38.000000            12.000000  160000.000000\n",
       "max      62.000000            34.000000  250000.000000"
      ]
     },
     "execution_count": 4,
     "metadata": {},
     "output_type": "execute_result"
    }
   ],
   "source": [
    "df.describe()"
   ]
  },
  {
   "cell_type": "markdown",
   "id": "f884b587",
   "metadata": {},
   "source": [
    "Kode ini digunakan untuk memperlihatkan basic statistic pada dataset yang dimiliki.Terdapat jumlah,rata-rata,standar deviasi,nilai min-max,q1,q2,dan q3. Contoh nilai min pada age terdapat pada angka 21 dan nilai maksimum pada angka 62."
   ]
  },
  {
   "cell_type": "code",
   "execution_count": 5,
   "id": "84b25735",
   "metadata": {},
   "outputs": [
    {
     "data": {
      "text/plain": [
       "Index(['Age', 'Gender', 'Education Level', 'Job Title', 'Years of Experience',\n",
       "       'Salary'],\n",
       "      dtype='object')"
      ]
     },
     "execution_count": 5,
     "metadata": {},
     "output_type": "execute_result"
    }
   ],
   "source": [
    "df.columns"
   ]
  },
  {
   "cell_type": "markdown",
   "id": "66c40ff6",
   "metadata": {},
   "source": [
    "Kode ini berfungsi untuk melihat kolom apa saja yang tertera pada dataset yang dimiliki."
   ]
  },
  {
   "cell_type": "code",
   "execution_count": 6,
   "id": "1e23faca",
   "metadata": {},
   "outputs": [
    {
     "data": {
      "text/plain": [
       "Age                    2\n",
       "Gender                 2\n",
       "Education Level        3\n",
       "Job Title              2\n",
       "Years of Experience    3\n",
       "Salary                 5\n",
       "dtype: int64"
      ]
     },
     "execution_count": 6,
     "metadata": {},
     "output_type": "execute_result"
    }
   ],
   "source": [
    "df.isnull().sum()"
   ]
  },
  {
   "cell_type": "markdown",
   "id": "40701c9b",
   "metadata": {},
   "source": [
    "Kode ini digunakan untuk mengecek data yang kosong dan ternyata data yang dimiliki banyak yang kosong atau banyak yang hilang."
   ]
  },
  {
   "cell_type": "code",
   "execution_count": 7,
   "id": "2ee40302",
   "metadata": {},
   "outputs": [],
   "source": [
    "# Menghapus baris dengan setidaknya satu nilai yang hilang\n",
    "df.dropna(inplace=True)"
   ]
  },
  {
   "cell_type": "markdown",
   "id": "bde596d6",
   "metadata": {},
   "source": [
    "Kode di atas digunakan untuk membersihkan data yang sebelumnya banyak yang rumpang."
   ]
  },
  {
   "cell_type": "code",
   "execution_count": 8,
   "id": "61940d34",
   "metadata": {},
   "outputs": [],
   "source": [
    "# Menghapus kolom dengan setidaknya satu nilai yang hilang\n",
    "df.dropna(axis=1, inplace=True)"
   ]
  },
  {
   "cell_type": "code",
   "execution_count": 9,
   "id": "1c6768df",
   "metadata": {},
   "outputs": [
    {
     "name": "stdout",
     "output_type": "stream",
     "text": [
      "Mean Squared Error: 741388649.4180229\n"
     ]
    }
   ],
   "source": [
    "# Import library\n",
    "from sklearn.svm import SVR\n",
    "from sklearn.model_selection import train_test_split\n",
    "from sklearn.metrics import mean_squared_error\n",
    "import numpy as np\n",
    "\n",
    "# Data\n",
    "# Gantilah bagian ini dengan data Anda\n",
    "X = df['Years of Experience'].values.reshape(-1, 1)\n",
    "y = df['Salary'].values\n",
    "\n",
    "# Bagi data menjadi set pelatihan dan pengujian\n",
    "X_train, X_test, y_train, y_test = train_test_split(X, y, test_size=0.2)\n",
    "\n",
    "# Inisialisasi model SVR dengan hyperparameter tertentu\n",
    "svr_model = SVR(C=1000, gamma=0.05, kernel='rbf')\n",
    "\n",
    "# Melatih model\n",
    "svr_model.fit(X_train, y_train)\n",
    "\n",
    "# Melakukan prediksi pada set pengujian\n",
    "y_pred = svr_model.predict(X_test)\n",
    "\n",
    "# Evaluasi model\n",
    "mse = mean_squared_error(y_test, y_pred)\n",
    "print(f'Mean Squared Error: {mse}')\n",
    "\n",
    "# Sekarang model SVR dengan hyperparameter yang telah ditentukan sudah dilatih dan diuji.\n",
    "# Anda dapat menggunakannya untuk membuat prediksi pada data baru."
   ]
  },
  {
   "cell_type": "markdown",
   "id": "8871f5ea",
   "metadata": {},
   "source": [
    "Kode yang ditunjukkan telah melatih model SVR (Support Vector Regression) menggunakan data X sebagai fitur ('Years of Experience') dan y sebagai target ('Salary'). Setelah melatih model dengan menggunakan train_test_split untuk membagi data menjadi data train dan data test, Anda mengevaluasi performa model menggunakan metrik Mean Squared Error (MSE) pada data test.\n",
    "\n",
    "Sekarang, setelah model dilatih dan diuji, kita dapat menggunakannya untuk membuat prediksi pada data baru. Dengan menggunakan svr_model.predict() pada fitur yang relevan (misalnya, 'Years of Experience') dari data baru, kita dapat memperkirakan nilai gaji yang sesuai berdasarkan model yang telah dilatih sebelumnya. Hal ini memungkinkan untuk mengaplikasikan model ini pada situasi dunia nyata, di mana kita memiliki data baru dan ingin memprediksi nilai gaji berdasarkan pengalaman yang tidak pernah dilihat oleh model sebelumnya."
   ]
  },
  {
   "cell_type": "code",
   "execution_count": 10,
   "id": "63ba0798",
   "metadata": {},
   "outputs": [
    {
     "data": {
      "image/png": "[encoded data removed]",
      "text/plain": [
       "<Figure size 432x288 with 1 Axes>"
      ]
     },
     "metadata": {
      "needs_background": "light"
     },
     "output_type": "display_data"
    }
   ],
   "source": [
    "import matplotlib.pyplot as plt\n",
    "\n",
    "# Visualisasi data dan model\n",
    "plt.scatter(X, y, label='Actual Data')\n",
    "plt.plot(X, svr_model.predict(X), color='red', label='SVR Regression')\n",
    "\n",
    "# Label sumbu\n",
    "plt.xlabel('Years of Experience')\n",
    "plt.ylabel('Salary')\n",
    "\n",
    "# Menambahkan judul\n",
    "plt.title('SVR Regression')\n",
    "\n",
    "# Menampilkan legenda\n",
    "plt.legend()\n",
    "\n",
    "# Menampilkan plot\n",
    "plt.show()\n"
   ]
  },
  {
   "cell_type": "markdown",
   "id": "f90399d7",
   "metadata": {},
   "source": [
    "Garis merah yang ditampilkan adalah representasi dari model regresi yang telah dilatih berdasarkan data yang Anda gunakan. Tujuan dari visualisasi ini adalah untuk memberikan pemahaman visual tentang seberapa baik model cocok dengan data aktual, serta untuk melihat pola atau tren dari prediksi model terhadap data aktual. Semakin dekat garis regresi dengan titik-titik data aktual, semakin baik model mampu mempelajari hubungan antara variabel prediktor ('Years of Experience') dan variabel target ('Salary')."
   ]
  },
  {
   "cell_type": "code",
   "execution_count": 11,
   "id": "0180d2a8",
   "metadata": {},
   "outputs": [
    {
     "name": "stdout",
     "output_type": "stream",
     "text": [
      "Best Parameters: {'C': 10000, 'gamma': 0.5, 'kernel': 'rbf'}\n",
      "Mean Squared Error on Test Set: 738110949.5872897\n"
     ]
    }
   ],
   "source": [
    "from sklearn.model_selection import GridSearchCV\n",
    "\n",
    "# Tentukan hyperparameter yang akan diuji\n",
    "param_grid = {\n",
    "    'kernel': ['rbf'],\n",
    "    'C': [1000, 10000, 100000],\n",
    "    'gamma': [0.5, 0.05, 0.005]\n",
    "}\n",
    "\n",
    "# Gunakan GridSearchCV untuk mencari parameter terbaik\n",
    "grid_search = GridSearchCV(svr_model, param_grid, cv=5)\n",
    "grid_search.fit(X_train, y_train)\n",
    "\n",
    "# Tampilkan parameter terbaik\n",
    "best_params = grid_search.best_params_\n",
    "print(f'Best Parameters: {best_params}')\n",
    "\n",
    "# Gunakan model terbaik untuk membuat prediksi\n",
    "best_model = grid_search.best_estimator_\n",
    "y_pred = best_model.predict(X_test)\n",
    "\n",
    "# Evaluasi model\n",
    "mse = mean_squared_error(y_test, y_pred)\n",
    "print(f'Mean Squared Error on Test Set: {mse}')"
   ]
  },
  {
   "cell_type": "markdown",
   "id": "f7775380",
   "metadata": {},
   "source": [
    "Proses ini memungkinkan untuk menemukan kombinasi parameter terbaik untuk model SVR dan menggunakan model terbaik tersebut untuk membuat prediksi yang lebih baik pada data yang baru."
   ]
  },
  {
   "cell_type": "code",
   "execution_count": 12,
   "id": "0a9cc6c1",
   "metadata": {},
   "outputs": [
    {
     "data": {
      "text/html": [
       "<style>#sk-container-id-1 {color: black;}#sk-container-id-1 pre{padding: 0;}#sk-container-id-1 div.sk-toggleable {background-color: white;}#sk-container-id-1 label.sk-toggleable__label {cursor: pointer;display: block;width: 100%;margin-bottom: 0;padding: 0.3em;box-sizing: border-box;text-align: center;}#sk-container-id-1 label.sk-toggleable__label-arrow:before {content: \"▸\";float: left;margin-right: 0.25em;color: #696969;}#sk-container-id-1 label.sk-toggleable__label-arrow:hover:before {color: black;}#sk-container-id-1 div.sk-estimator:hover label.sk-toggleable__label-arrow:before {color: black;}#sk-container-id-1 div.sk-toggleable__content {max-height: 0;max-width: 0;overflow: hidden;text-align: left;background-color: #f0f8ff;}#sk-container-id-1 div.sk-toggleable__content pre {margin: 0.2em;color: black;border-radius: 0.25em;background-color: #f0f8ff;}#sk-container-id-1 input.sk-toggleable__control:checked~div.sk-toggleable__content {max-height: 200px;max-width: 100%;overflow: auto;}#sk-container-id-1 input.sk-toggleable__control:checked~label.sk-toggleable__label-arrow:before {content: \"▾\";}#sk-container-id-1 div.sk-estimator input.sk-toggleable__control:checked~label.sk-toggleable__label {background-color: #d4ebff;}#sk-container-id-1 div.sk-label input.sk-toggleable__control:checked~label.sk-toggleable__label {background-color: #d4ebff;}#sk-container-id-1 input.sk-hidden--visually {border: 0;clip: rect(1px 1px 1px 1px);clip: rect(1px, 1px, 1px, 1px);height: 1px;margin: -1px;overflow: hidden;padding: 0;position: absolute;width: 1px;}#sk-container-id-1 div.sk-estimator {font-family: monospace;background-color: #f0f8ff;border: 1px dotted black;border-radius: 0.25em;box-sizing: border-box;margin-bottom: 0.5em;}#sk-container-id-1 div.sk-estimator:hover {background-color: #d4ebff;}#sk-container-id-1 div.sk-parallel-item::after {content: \"\";width: 100%;border-bottom: 1px solid gray;flex-grow: 1;}#sk-container-id-1 div.sk-label:hover label.sk-toggleable__label {background-color: #d4ebff;}#sk-container-id-1 div.sk-serial::before {content: \"\";position: absolute;border-left: 1px solid gray;box-sizing: border-box;top: 0;bottom: 0;left: 50%;z-index: 0;}#sk-container-id-1 div.sk-serial {display: flex;flex-direction: column;align-items: center;background-color: white;padding-right: 0.2em;padding-left: 0.2em;position: relative;}#sk-container-id-1 div.sk-item {position: relative;z-index: 1;}#sk-container-id-1 div.sk-parallel {display: flex;align-items: stretch;justify-content: center;background-color: white;position: relative;}#sk-container-id-1 div.sk-item::before, #sk-container-id-1 div.sk-parallel-item::before {content: \"\";position: absolute;border-left: 1px solid gray;box-sizing: border-box;top: 0;bottom: 0;left: 50%;z-index: -1;}#sk-container-id-1 div.sk-parallel-item {display: flex;flex-direction: column;z-index: 1;position: relative;background-color: white;}#sk-container-id-1 div.sk-parallel-item:first-child::after {align-self: flex-end;width: 50%;}#sk-container-id-1 div.sk-parallel-item:last-child::after {align-self: flex-start;width: 50%;}#sk-container-id-1 div.sk-parallel-item:only-child::after {width: 0;}#sk-container-id-1 div.sk-dashed-wrapped {border: 1px dashed gray;margin: 0 0.4em 0.5em 0.4em;box-sizing: border-box;padding-bottom: 0.4em;background-color: white;}#sk-container-id-1 div.sk-label label {font-family: monospace;font-weight: bold;display: inline-block;line-height: 1.2em;}#sk-container-id-1 div.sk-label-container {text-align: center;}#sk-container-id-1 div.sk-container {/* jupyter's `normalize.less` sets `[hidden] { display: none; }` but bootstrap.min.css set `[hidden] { display: none !important; }` so we also need the `!important` here to be able to override the default hidden behavior on the sphinx rendered scikit-learn.org. See: https://github.com/scikit-learn/scikit-learn/issues/21755 */display: inline-block !important;position: relative;}#sk-container-id-1 div.sk-text-repr-fallback {display: none;}</style><div id=\"sk-container-id-1\" class=\"sk-top-container\"><div class=\"sk-text-repr-fallback\"><pre>SVR(C=100000, gamma=0.005)</pre><b>In a Jupyter environment, please rerun this cell to show the HTML representation or trust the notebook. <br />On GitHub, the HTML representation is unable to render, please try loading this page with nbviewer.org.</b></div><div class=\"sk-container\" hidden><div class=\"sk-item\"><div class=\"sk-estimator sk-toggleable\"><input class=\"sk-toggleable__control sk-hidden--visually\" id=\"sk-estimator-id-1\" type=\"checkbox\" checked><label for=\"sk-estimator-id-1\" class=\"sk-toggleable__label sk-toggleable__label-arrow\">SVR</label><div class=\"sk-toggleable__content\"><pre>SVR(C=100000, gamma=0.005)</pre></div></div></div></div></div>"
      ],
      "text/plain": [
       "SVR(C=100000, gamma=0.005)"
      ]
     },
     "execution_count": 12,
     "metadata": {},
     "output_type": "execute_result"
    }
   ],
   "source": [
    "model_baru = SVR(C=100000, gamma=0.005, kernel='rbf')\n",
    "model_baru.fit(X,y)"
   ]
  },
  {
   "cell_type": "markdown",
   "id": "fc3e4df9",
   "metadata": {},
   "source": [
    "Kode ini ditunjukkan membuat model baru SVR dengan hyperparameter yang telah ditentukan (C=100000, gamma=0.005, kernel='rbf') dan melatih model tersebut menggunakan seluruh dataset (X sebagai fitur dan y sebagai target)."
   ]
  },
  {
   "cell_type": "code",
   "execution_count": 13,
   "id": "e72b469f",
   "metadata": {},
   "outputs": [
    {
     "data": {
      "text/plain": [
       "[<matplotlib.lines.Line2D at 0x23b701e8e50>]"
      ]
     },
     "execution_count": 13,
     "metadata": {},
     "output_type": "execute_result"
    },
    {
     "data": {
      "image/png": "[encoded data removed]",
      "text/plain": [
       "<Figure size 432x288 with 1 Axes>"
      ]
     },
     "metadata": {
      "needs_background": "light"
     },
     "output_type": "display_data"
    }
   ],
   "source": [
    "#visualisasikan model\n",
    "import matplotlib.pyplot as plt\n",
    "plt.scatter(X, y)\n",
    "plt.plot(X, model_baru.predict(X))"
   ]
  },
  {
   "cell_type": "markdown",
   "id": "30da25a7",
   "metadata": {},
   "source": [
    "Dengan menjalankan kode ini, kita akan melihat scatter plot dari data aktual dan garis plot yang mewakili prediksi dari model SVR. Garis plot ini menunjukkan bagaimana model dalam \"memahami\" pola atau tren yang mungkin ada dalam data aktual, yang mencoba untuk menyesuaikan diri dengan data yang Anda berikan. Semakin dekat garis plot dengan titik-titik data aktual, semakin baik model memahami pola di dalam data."
   ]
  }
 ],
 "metadata": {
  "kernelspec": {
   "display_name": "Python 3",
   "language": "python",
   "name": "python3"
  },
  "language_info": {
   "codemirror_mode": {
    "name": "ipython",
    "version": 3
   },
   "file_extension": ".py",
   "mimetype": "text/x-python",
   "name": "python",
   "nbconvert_exporter": "python",
   "pygments_lexer": "ipython3",
   "version": "3.8.8"
  }
 },
 "nbformat": 4,
 "nbformat_minor": 5
}
