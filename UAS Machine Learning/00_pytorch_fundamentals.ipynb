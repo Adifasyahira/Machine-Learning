{
  "cells": [
    {
      "cell_type": "markdown",
      "metadata": {
        "id": "view-in-github",
        "colab_type": "text"
      },
      "source": [
        "<a href=\"https://colab.research.google.com/github/Adifasyahira/Machine-Learning/blob/main/UAS%20Machine%20Learning/00_pytorch_fundamentals.ipynb\" target=\"_parent\"><img src=\"https://colab.research.google.com/assets/colab-badge.svg\" alt=\"Open In Colab\"/></a>"
      ]
    },
    {
      "cell_type": "code",
      "execution_count": null,
      "metadata": {
        "colab": {
          "base_uri": "https://localhost:8080/",
          "height": 35
        },
        "id": "1VxEOik46Y4i",
        "outputId": "ef745631-b3de-41f7-b5f1-ec7c9f77e3da"
      },
      "outputs": [
        {
          "output_type": "execute_result",
          "data": {
            "text/plain": [
              "'2.1.0+cu121'"
            ],
            "application/vnd.google.colaboratory.intrinsic+json": {
              "type": "string"
            }
          },
          "metadata": {},
          "execution_count": 1
        }
      ],
      "source": [
        "import torch\n",
        "torch.__version__"
      ]
    },
    {
      "cell_type": "markdown",
      "source": [
        "torch.__version__ adalah potongan kode dalam Python yang digunakan untuk mendapatkan informasi versi dari perpustakaan PyTorch yang terpasang di lingkungan Anda. Ketika dieksekusi, potongan kode ini akan mengembalikan string yang mewakili nomor versi dari PyTorch yang Anda gunakan. Misalnya, jika Anda menjalankan kode ini dan mendapatkan keluaran seperti 1.9.0, itu berarti Anda menggunakan PyTorch versi 1.9.0.\n",
        "\n",
        "Setiap versi PyTorch mungkin memiliki fitur, perbaikan, dan peningkatan yang berbeda. Penting untuk mengetahui versi yang Anda gunakan karena fungsionalitas atau sintaksis dapat berubah antar versi, dan beberapa kode mungkin berperilaku berbeda atau memerlukan penyesuaian berdasarkan versi PyTorch yang digunakan."
      ],
      "metadata": {
        "id": "vH8NrOVwvSh0"
      }
    },
    {
      "cell_type": "code",
      "execution_count": null,
      "metadata": {
        "colab": {
          "base_uri": "https://localhost:8080/"
        },
        "id": "YUDgG2zk7Us5",
        "outputId": "4bc6bbba-ffec-4cd4-e574-5f77f2315316"
      },
      "outputs": [
        {
          "output_type": "execute_result",
          "data": {
            "text/plain": [
              "tensor(7)"
            ]
          },
          "metadata": {},
          "execution_count": 2
        }
      ],
      "source": [
        "# Scalar\n",
        "scalar = torch.tensor(7)\n",
        "scalar"
      ]
    },
    {
      "cell_type": "markdown",
      "source": [
        "membuat variabel scalar yang merupakan sebuah tensor dengan hanya satu elemen. Tensor ini merepresentasikan sebuah skalar, yang merupakan bilangan tunggal. Dalam hal ini, nilai skalar yang digunakan adalah 7.\n",
        "\n",
        "PyTorch memiliki konsep tensor yang dapat memiliki berbagai dimensi, mulai dari skalar (tanpa dimensi atau 0 dimensi) hingga tensor dengan banyak dimensi. Skalar, dalam hal ini, adalah tensor yang paling sederhana dengan hanya satu nilai.\n",
        "\n",
        "Dengan menggunakan torch.tensor(7), Anda telah membuat tensor skalar yang dapat digunakan untuk operasi matematika, perhitungan, atau tugas-tugas lain yang memerlukan representasi dari sebuah nilai tunggal dalam lingkungan PyTorch."
      ],
      "metadata": {
        "id": "kWehdBC8vwbG"
      }
    },
    {
      "cell_type": "code",
      "execution_count": null,
      "metadata": {
        "colab": {
          "base_uri": "https://localhost:8080/"
        },
        "id": "lV98Yz868bav",
        "outputId": "77f3bf02-d075-41ce-a149-9be4c9d7c0c8"
      },
      "outputs": [
        {
          "output_type": "execute_result",
          "data": {
            "text/plain": [
              "0"
            ]
          },
          "metadata": {},
          "execution_count": 3
        }
      ],
      "source": [
        "scalar.ndim"
      ]
    },
    {
      "cell_type": "markdown",
      "source": [
        "Pada PyTorch, scalar yang Anda buat adalah tensor dengan hanya satu elemen, yang pada dasarnya adalah sebuah skalar. Namun, karena ini adalah skalar, ia tidak memiliki dimensi dalam arti konvensional.\n",
        "\n",
        "Konsep dimensi dalam tensor biasanya mengacu pada jumlah sumbu atau dimensi yang ada dalam tensor. Misalnya, tensor 1D memiliki satu sumbu, tensor 2D memiliki dua sumbu, dan seterusnya. Tetapi pada kasus skalar, karena hanya ada satu nilai tunggal tanpa arah atau dimensi tambahan, scalar tidak memiliki dimensi yang dapat dihitung menggunakan ndim.\n",
        "\n",
        "Pemanggilan scalar.ndim pada skalar tidak akan memberikan nilai dimensi karena skalar tidak memiliki dimensi yang bisa diukur dalam konteks tensor. Dalam PyTorch, untuk skalar, nilai ndim akan menghasilkan nilai 0 karena itu bukan tensor dengan dimensi apapun."
      ],
      "metadata": {
        "id": "4mAzqIqbv4pM"
      }
    },
    {
      "cell_type": "code",
      "execution_count": null,
      "metadata": {
        "colab": {
          "base_uri": "https://localhost:8080/"
        },
        "id": "-k4cyKumPfbE",
        "outputId": "cd74f1a6-0702-4113-915c-25097f1f3cb5"
      },
      "outputs": [
        {
          "output_type": "execute_result",
          "data": {
            "text/plain": [
              "7"
            ]
          },
          "metadata": {},
          "execution_count": 4
        }
      ],
      "source": [
        "# Get the Python number within a tensor (only works with one-element tensors)\n",
        "scalar.item()"
      ]
    },
    {
      "cell_type": "markdown",
      "source": [
        "Potongan kode scalar.item() digunakan untuk mendapatkan nilai skalar yang terkandung dalam tensor yang hanya memiliki satu elemen. Jika Anda memiliki tensor yang mewakili sebuah skalar (seperti yang Anda definisikan sebelumnya dengan torch.tensor(7)), Anda dapat menggunakan metode item() untuk mengakses nilai skalar Python yang sesungguhnya.\n",
        "\n",
        "Contohnya, ketika Anda memiliki tensor scalar yang merupakan skalar dengan nilai 7, menggunakan scalar.item() akan mengembalikan nilai Python 7 (dalam bentuk objek Python biasa, bukan tensor PyTorch).\n",
        "\n",
        "Hal ini berguna ketika Anda perlu menggunakan nilai dalam operasi Python biasa, karena item() mengonversi nilai dari tensor PyTorch menjadi tipe data Python yang sesuai, misalnya, dari tensor skalar menjadi integer dalam hal ini. Penting untuk diingat bahwa metode item() hanya berfungsi pada tensor yang memiliki tepat satu elemen."
      ],
      "metadata": {
        "id": "18jsXLLwwFsg"
      }
    },
    {
      "cell_type": "markdown",
      "source": [],
      "metadata": {
        "id": "12O8f_Jkv-4U"
      }
    },
    {
      "cell_type": "code",
      "execution_count": null,
      "metadata": {
        "colab": {
          "base_uri": "https://localhost:8080/"
        },
        "id": "-IZF6ASs8QH9",
        "outputId": "a264727c-ded1-4290-dbe6-76b034feb592"
      },
      "outputs": [
        {
          "output_type": "execute_result",
          "data": {
            "text/plain": [
              "tensor([7, 7])"
            ]
          },
          "metadata": {},
          "execution_count": 5
        }
      ],
      "source": [
        "# Vector\n",
        "vector = torch.tensor([7, 7])\n",
        "vector"
      ]
    },
    {
      "cell_type": "markdown",
      "source": [
        "membuat variabel vector yang merupakan sebuah tensor. Dalam hal ini, tensor tersebut adalah vektor. Vektor adalah struktur data dalam matematika yang berisi kumpulan nilai, yang disusun dalam satu dimensi.\n",
        "\n",
        "Dalam kode ini, torch.tensor([7, 7]) menciptakan sebuah vektor dengan dua elemen, yaitu 7 dan 7. Vektor tersebut merupakan vektor 1D karena terdiri dari satu baris nilai. Setiap elemen vektor dapat diakses dengan indeksnya, di mana indeks dimulai dari 0. Jadi, dalam vektor ini, vector[0] akan mengembalikan nilai 7 (elemen pertama) dan vector[1] akan mengembalikan nilai 7 (elemen kedua).\n",
        "\n",
        "Vektor merupakan salah satu bentuk yang penting dalam komputasi numerik dan machine learning, sering kali digunakan untuk merepresentasikan fitur, prediksi, atau output dalam berbagai algoritma machine learning."
      ],
      "metadata": {
        "id": "6OIL48wiwH8N"
      }
    },
    {
      "cell_type": "code",
      "execution_count": null,
      "metadata": {
        "colab": {
          "base_uri": "https://localhost:8080/"
        },
        "id": "03hm3VVv8kr4",
        "outputId": "1e66f81e-16d2-4d95-cdac-d3f0208525c2"
      },
      "outputs": [
        {
          "output_type": "execute_result",
          "data": {
            "text/plain": [
              "1"
            ]
          },
          "metadata": {},
          "execution_count": 6
        }
      ],
      "source": [
        "# Check the number of dimensions of vector\n",
        "vector.ndim"
      ]
    },
    {
      "cell_type": "markdown",
      "source": [
        "Maaf atas kebingungan sebelumnya. Dalam PyTorch, tidak ada properti ndim untuk langsung mendapatkan jumlah dimensi dari tensor. Sebagai gantinya, Anda dapat menggunakan fungsi dim() atau atribut dim untuk mendapatkan jumlah dimensi dari tensor.\n",
        "\n",
        "Dalam kasus vektor yang Anda miliki, yang dibuat dengan torch.tensor([7, 7]), Anda dapat menggunakan atribut dim atau fungsi dim() untuk mengetahui jumlah dimensinya.\n",
        "\n",
        "python\n",
        "Copy code\n",
        "vector.dim()  # atau len(vector.shape)\n",
        "Untuk tensor vektor, ini akan mengembalikan nilai 1 karena vektor dalam PyTorch merupakan tensor dengan satu dimensi. Jumlah dimensi ini dapat penting dalam operasi-operasi tensor yang lebih kompleks atau dalam menentukan kompatibilitas antar tensor dalam berbagai operasi matematika atau pengolahan data."
      ],
      "metadata": {
        "id": "RQ17jphPwll1"
      }
    },
    {
      "cell_type": "markdown",
      "source": [],
      "metadata": {
        "id": "hsWQCZbXwTPt"
      }
    },
    {
      "cell_type": "code",
      "execution_count": null,
      "metadata": {
        "colab": {
          "base_uri": "https://localhost:8080/"
        },
        "id": "6zREV1bDTGe2",
        "outputId": "a7b12f3b-b844-4d9c-c44e-f6f228c39f11"
      },
      "outputs": [
        {
          "output_type": "execute_result",
          "data": {
            "text/plain": [
              "torch.Size([2])"
            ]
          },
          "metadata": {},
          "execution_count": 7
        }
      ],
      "source": [
        "# Check shape of vector\n",
        "vector.shape"
      ]
    },
    {
      "cell_type": "markdown",
      "source": [
        "Dalam PyTorch, atribut shape digunakan untuk mengetahui struktur atau bentuk (shape) dari tensor. Untuk vektor yang telah Anda definisikan sebelumnya, yaitu vector = torch.tensor([7, 7]), vector.shape akan memberikan informasi tentang jumlah elemen dalam setiap dimensi tensor.\n",
        "\n",
        "Untuk vektor tersebut, vector.shape akan mengembalikan sebuah tupel yang menunjukkan jumlah elemen dalam setiap dimensi. Dalam kasus vektor, ini akan menghasilkan (2,), yang berarti bahwa tensor ini memiliki 2 elemen dalam dimensi pertamanya (1 dimensi), sesuai dengan vektor yang hanya memiliki satu baris nilai.\n",
        "\n",
        "Dalam kasus ini, vektor memiliki 2 elemen, dan dengan hanya memiliki satu dimensi, bentuknya direpresentasikan sebagai tupel dengan satu elemen, yaitu (2,)."
      ],
      "metadata": {
        "id": "R72iCtdswtne"
      }
    },
    {
      "cell_type": "code",
      "execution_count": null,
      "metadata": {
        "colab": {
          "base_uri": "https://localhost:8080/"
        },
        "id": "D5iNwCYL8QO9",
        "outputId": "4edf39a5-4177-4785-e5c4-97714ed4e366"
      },
      "outputs": [
        {
          "output_type": "execute_result",
          "data": {
            "text/plain": [
              "tensor([[ 7,  8],\n",
              "        [ 9, 10]])"
            ]
          },
          "metadata": {},
          "execution_count": 8
        }
      ],
      "source": [
        "# Matrix\n",
        "MATRIX = torch.tensor([[7, 8],\n",
        "                       [9, 10]])\n",
        "MATRIX"
      ]
    },
    {
      "cell_type": "markdown",
      "source": [
        "Potongan kode ini membuat variabel MATRIX yang merupakan sebuah tensor. Lebih tepatnya, ini adalah sebuah matriks. Matriks adalah struktur data dalam matematika yang memiliki baris dan kolom, yang biasanya digunakan untuk merepresentasikan data dua dimensi.\n",
        "\n",
        "Dalam kode ini, torch.tensor([[7, 8], [9, 10]]) menciptakan sebuah matriks dengan dua baris dan dua kolom. Elemen-elemennya adalah:\n",
        "\n",
        "lua\n",
        "Copy code\n",
        "[[7, 8],\n",
        " [9, 10]]\n",
        "Ini adalah matriks 2x2, yang berarti memiliki dua baris dan dua kolom. Dalam matriks ini, MATRIX[0, 0] akan mengembalikan nilai 7 (baris pertama, kolom pertama), MATRIX[0, 1] akan mengembalikan nilai 8 (baris pertama, kolom kedua), MATRIX[1, 0] akan mengembalikan nilai 9 (baris kedua, kolom pertama), dan MATRIX[1, 1] akan mengembalikan nilai 10 (baris kedua, kolom kedua).\n",
        "\n",
        "Matriks digunakan luas dalam matematika, fisika, teknik, dan juga dalam berbagai bidang ilmu seperti dalam komputasi numerik dan machine learning untuk merepresentasikan data yang memiliki hubungan dua dimensi."
      ],
      "metadata": {
        "id": "7vyxWDCSxC3g"
      }
    },
    {
      "cell_type": "code",
      "execution_count": null,
      "metadata": {
        "colab": {
          "base_uri": "https://localhost:8080/"
        },
        "id": "8LREUbeb8r8j",
        "outputId": "859b3a4d-b862-4be6-da2e-f048e76472a4"
      },
      "outputs": [
        {
          "output_type": "execute_result",
          "data": {
            "text/plain": [
              "2"
            ]
          },
          "metadata": {},
          "execution_count": 9
        }
      ],
      "source": [
        "# Check number of dimensions\n",
        "MATRIX.ndim"
      ]
    },
    {
      "cell_type": "markdown",
      "source": [
        "Untuk mengetahui jumlah dimensi dari tensor MATRIX yang telah Anda buat, Anda bisa menggunakan metode .dim() atau juga .ndimension() pada tensor PyTorch.\n",
        "\n",
        "python\n",
        "Copy code\n",
        "MATRIX.dim()  # atau MATRIX.ndimension()\n",
        "Tensor MATRIX yang merupakan matriks 2x2 dalam kasus ini akan memiliki 2 dimensi. Ini karena matriks memiliki struktur dua dimensi: satu dimensi untuk baris dan satu dimensi lagi untuk kolom. Jadi, MATRIX.dim() atau MATRIX.ndimension() akan mengembalikan nilai 2, menunjukkan bahwa tensor tersebut memiliki dua dimensi."
      ],
      "metadata": {
        "id": "Jlgqcni9xOOT"
      }
    },
    {
      "cell_type": "code",
      "execution_count": null,
      "metadata": {
        "colab": {
          "base_uri": "https://localhost:8080/"
        },
        "id": "_TL26I31TGe3",
        "outputId": "3ee85bc8-5296-436e-f11a-1471b467bfb2"
      },
      "outputs": [
        {
          "output_type": "execute_result",
          "data": {
            "text/plain": [
              "torch.Size([2, 2])"
            ]
          },
          "metadata": {},
          "execution_count": 10
        }
      ],
      "source": [
        "MATRIX.shape"
      ]
    },
    {
      "cell_type": "markdown",
      "source": [
        "Untuk mengetahui jumlah dimensi dari tensor MATRIX yang telah Anda buat, Anda bisa menggunakan metode .dim() atau juga .ndimension() pada tensor PyTorch.\n",
        "\n",
        "python\n",
        "Copy code\n",
        "MATRIX.dim()  # atau MATRIX.ndimension()\n",
        "Tensor MATRIX yang merupakan matriks 2x2 dalam kasus ini akan memiliki 2 dimensi. Ini karena matriks memiliki struktur dua dimensi: satu dimensi untuk baris dan satu dimensi lagi untuk kolom. Jadi, MATRIX.dim() atau MATRIX.ndimension() akan mengembalikan nilai 2, menunjukkan bahwa tensor tersebut memiliki dua dimensi."
      ],
      "metadata": {
        "id": "2Eil6dQ8xq4p"
      }
    },
    {
      "cell_type": "code",
      "execution_count": null,
      "metadata": {
        "colab": {
          "base_uri": "https://localhost:8080/"
        },
        "id": "wEMDQr188QWW",
        "outputId": "846225b4-3aea-4053-9a8f-70a126c577e7"
      },
      "outputs": [
        {
          "output_type": "execute_result",
          "data": {
            "text/plain": [
              "tensor([[[1, 2, 3],\n",
              "         [3, 6, 9],\n",
              "         [2, 4, 5]]])"
            ]
          },
          "metadata": {},
          "execution_count": 11
        }
      ],
      "source": [
        "# Tensor\n",
        "TENSOR = torch.tensor([[[1, 2, 3],\n",
        "                        [3, 6, 9],\n",
        "                        [2, 4, 5]]])\n",
        "TENSOR"
      ]
    },
    {
      "cell_type": "markdown",
      "source": [
        "Potongan kode ini membuat variabel TENSOR yang merupakan sebuah tensor PyTorch. Lebih spesifik lagi, ini adalah sebuah tensor tiga dimensi.\n",
        "\n",
        "Dalam kasus ini, torch.tensor([[[1, 2, 3], [3, 6, 9], [2, 4, 5]]]) menciptakan sebuah tensor dengan struktur tiga dimensi. Tensor ini memiliki bentuk (shape) 1x3x3, yang artinya:\n",
        "\n",
        "Dimensi pertama memiliki panjang 1 (hanya satu elemen).\n",
        "Dimensi kedua memiliki panjang 3, yang menunjukkan ada 3 elemen dalam setiap baris.\n",
        "Dimensi ketiga juga memiliki panjang 3, menandakan ada 3 elemen dalam setiap kolom.\n",
        "Tensor tiga dimensi seperti ini sering digunakan dalam berbagai algoritma dalam bidang seperti pengolahan citra, dalam model-model deep learning, dan dalam representasi data yang memerlukan struktur tiga dimensi, seperti data volumetrik atau rangkaian waktu spasial. Dalam kasus ini, tensor ini menunjukkan data 3x3 yang terdiri dari nilai-nilai numerik."
      ],
      "metadata": {
        "id": "DHp1khCLx_y2"
      }
    },
    {
      "cell_type": "code",
      "execution_count": null,
      "metadata": {
        "colab": {
          "base_uri": "https://localhost:8080/"
        },
        "id": "8dhuEsjS8QcT",
        "outputId": "7877acd4-0dce-48ac-8b42-8fbd519761fb"
      },
      "outputs": [
        {
          "output_type": "execute_result",
          "data": {
            "text/plain": [
              "3"
            ]
          },
          "metadata": {},
          "execution_count": 12
        }
      ],
      "source": [
        "# Check number of dimensions for TENSOR\n",
        "TENSOR.dim"
      ]
    },
    {
      "cell_type": "markdown",
      "source": [
        "Atribut dim pada tensor PyTorch sebenarnya adalah sebuah metode yang digunakan untuk mendapatkan jumlah dimensi dari tensor. Namun, perlu diingat bahwa dim pada dasarnya adalah sebuah fungsi yang perlu dipanggil dengan tanda kurung \"()\".\n",
        "\n",
        "Jika kita ingin mengetahui jumlah dimensi dari tensor TENSOR yang telah Anda buat (yaitu tensor 3D), kita bisa menggunakan metode dim():\n",
        "\n",
        "python\n",
        "Copy code\n",
        "TENSOR.dim()  # atau TENSOR.dim\n",
        "Pemanggilan ini akan mengembalikan jumlah dimensi dari tensor TENSOR. Dalam kasus tensor TENSOR yang merupakan tensor tiga dimensi, TENSOR.dim() akan menghasilkan nilai 3, menunjukkan bahwa tensor tersebut memiliki tiga dimensi."
      ],
      "metadata": {
        "id": "VJKpTR1pyX2M"
      }
    },
    {
      "cell_type": "code",
      "execution_count": null,
      "metadata": {
        "colab": {
          "base_uri": "https://localhost:8080/"
        },
        "id": "hdVv4iNRTGe5",
        "outputId": "89a9499e-03b5-4b61-ecac-40761fa77913"
      },
      "outputs": [
        {
          "output_type": "execute_result",
          "data": {
            "text/plain": [
              "torch.Size([1, 3, 3])"
            ]
          },
          "metadata": {},
          "execution_count": 13
        }
      ],
      "source": [
        "# Check shape of TENSOR\n",
        "TENSOR.shape"
      ]
    },
    {
      "cell_type": "markdown",
      "source": [
        "atribut shape pada tensor PyTorch digunakan untuk mengetahui dimensi atau struktur dari tensor. Untuk tensor TENSOR yang telah Anda buat (yaitu tensor 3D), TENSOR.shape akan memberikan informasi tentang jumlah elemen dalam setiap dimensi tensor.\n",
        "\n",
        "Dalam kasus tensor TENSOR, yang merupakan tensor tiga dimensi, TENSOR.shape akan mengembalikan sebuah tupel yang menunjukkan jumlah elemen dalam setiap dimensi.\n",
        "\n",
        "python\n",
        "Copy code\n",
        "TENSOR.shape\n",
        "Outputnya akan menjadi (1, 3, 3). Ini menunjukkan bahwa tensor ini memiliki 1 elemen dalam dimensi pertamanya (depth), 3 elemen dalam dimensi kedua (baris), dan 3 elemen dalam dimensi ketiga (kolom)"
      ],
      "metadata": {
        "id": "Z0rdU7_2zhTQ"
      }
    },
    {
      "cell_type": "code",
      "execution_count": null,
      "metadata": {
        "colab": {
          "base_uri": "https://localhost:8080/"
        },
        "id": "EOJEtDx--GnK",
        "outputId": "3f91e953-5d26-46d6-b37f-ab7c10bc605e"
      },
      "outputs": [
        {
          "output_type": "execute_result",
          "data": {
            "text/plain": [
              "(tensor([[0.1484, 0.9199, 0.3102, 0.2975],\n",
              "         [0.6504, 0.4424, 0.8936, 0.4705],\n",
              "         [0.8065, 0.0771, 0.3206, 0.3488]]),\n",
              " torch.float32)"
            ]
          },
          "metadata": {},
          "execution_count": 14
        }
      ],
      "source": [
        "# Create a random tensor of size (3, 4)\n",
        "random_tensor = torch.rand(size=(3, 4))\n",
        "random_tensor, random_tensor.dtype"
      ]
    },
    {
      "cell_type": "markdown",
      "source": [
        "Potongan kode ini membuat sebuah tensor acak dengan ukuran 3x4 menggunakan PyTorch.\n",
        "\n",
        "torch.rand(size=(3, 4)) menciptakan tensor berukuran 3x4 yang diisi dengan nilai-nilai acak yang berada di antara 0 dan 1 dari distribusi seragam (uniform distribution).\n",
        "size=(3, 4) digunakan untuk menentukan ukuran tensor yang ingin Anda buat.\n",
        "random_tensor akan berisi tensor acak dengan 3 baris dan 4 kolom.\n",
        "random_tensor.dtype digunakan untuk mendapatkan tipe data (dtype) dari tensor random_tensor. Pada umumnya, tipe data ini akan menjadi float32 secara default karena torch.rand() secara bawaan akan menghasilkan tensor dengan tipe data float32.\n",
        "\n",
        "Jadi, output dari potongan kode ini adalah random_tensor, yang berisi tensor 3x4 dengan nilai-nilai acak yang memiliki tipe data float32."
      ],
      "metadata": {
        "id": "lZxaF8pTzrRS"
      }
    },
    {
      "cell_type": "code",
      "execution_count": null,
      "metadata": {
        "colab": {
          "base_uri": "https://localhost:8080/"
        },
        "id": "xMF_NUp3Ym__",
        "outputId": "51fb5b6a-1e89-4936-af63-029bec800176"
      },
      "outputs": [
        {
          "output_type": "execute_result",
          "data": {
            "text/plain": [
              "(torch.Size([224, 224, 3]), 3)"
            ]
          },
          "metadata": {},
          "execution_count": 15
        }
      ],
      "source": [
        "# Create a random tensor of size (224, 224, 3)\n",
        "random_image_size_tensor = torch.rand(size=(224, 224, 3))\n",
        "random_image_size_tensor.shape, random_image_size_tensor.ndim"
      ]
    },
    {
      "cell_type": "markdown",
      "source": [
        "Tentunya! Potongan kode ini mencoba membuat tensor acak dengan ukuran (224, 224, 3) menggunakan PyTorch.\n",
        "\n",
        "Namun, perlu diingat bahwa tensor dalam PyTorch memiliki aturan dimensi yang sedikit berbeda dari tensor dalam format gambar yang biasanya memiliki urutan (tinggi, lebar, channel). Dalam kasus kode ini, tensor yang ingin dibuat memiliki urutan yang tidak umum untuk representasi gambar.\n",
        "\n",
        "Tensor dalam PyTorch tidak secara langsung mendukung representasi ini karena PyTorch mengikuti konvensi urutan dimensi (dimensi pertama sebagai batch size, dimensi kedua sebagai channel, dan sisanya sebagai tinggi dan lebar). Sehingga, menghasilkan tensor dengan urutan (224, 224, 3) tidak akan menciptakan representasi gambar yang sesuai.\n",
        "\n",
        "Pesan kesalahan atau peringatan akan muncul karena upaya menciptakan tensor dengan urutan dimensi yang tidak umum dalam PyTorch. Sebaiknya, dalam PyTorch, representasi gambar lebih umum dilakukan dengan urutan dimensi (batch size, channel, tinggi, lebar).\n",
        "\n",
        "python\n",
        "Copy code\n",
        "random_image_size_tensor.shape  # Akan menghasilkan bentuk tensor\n",
        "random_image_size_tensor.ndim   # Akan menghasilkan jumlah dimensi tensor\n",
        "Hasilnya akan menunjukkan bahwa upaya membuat tensor dengan urutan dimensi (224, 224, 3) tidak valid dalam konteks tensor PyTorch."
      ],
      "metadata": {
        "id": "TsGqIEh0z1z0"
      }
    },
    {
      "cell_type": "code",
      "execution_count": null,
      "metadata": {
        "colab": {
          "base_uri": "https://localhost:8080/"
        },
        "id": "oCzhd0hl9Vp6",
        "outputId": "d121b6a8-147b-43c8-957b-fe09d2c5adc0"
      },
      "outputs": [
        {
          "output_type": "execute_result",
          "data": {
            "text/plain": [
              "(tensor([[0., 0., 0., 0.],\n",
              "         [0., 0., 0., 0.],\n",
              "         [0., 0., 0., 0.]]),\n",
              " torch.float32)"
            ]
          },
          "metadata": {},
          "execution_count": 16
        }
      ],
      "source": [
        "# Create a tensor of all zeros\n",
        "zeros = torch.zeros(size=(3, 4))\n",
        "zeros, zeros.dtype"
      ]
    },
    {
      "cell_type": "markdown",
      "source": [
        "Kode ini membuat sebuah tensor yang diisi dengan nilai nol dan memiliki ukuran 3x4 menggunakan PyTorch.\n",
        "\n",
        "torch.zeros(size=(3, 4)) menciptakan sebuah tensor berukuran 3x4 yang diisi dengan nilai-nilai nol.\n",
        "size=(3, 4) digunakan untuk menentukan ukuran tensor yang ingin Anda buat.\n",
        "zeros akan berisi tensor dengan 3 baris dan 4 kolom yang semuanya bernilai nol.\n",
        "zeros.dtype digunakan untuk mendapatkan tipe data (dtype) dari tensor zeros. Secara bawaan, dalam hal ini, tipe data akan menjadi float32 karena torch.zeros() secara default akan menghasilkan tensor dengan tipe data float32.\n",
        "\n",
        "Jadi, output dari potongan kode ini adalah zeros, yang berisi tensor 3x4 dengan semua nilai yang diisi nol dan memiliki tipe data float32 secara bawaan."
      ],
      "metadata": {
        "id": "hkacLEBu0JVL"
      }
    },
    {
      "cell_type": "markdown",
      "metadata": {
        "id": "WDQBZJRUZWTN"
      },
      "source": [
        "We can do the same to create a tensor of all ones except using [`torch.ones()` ](https://pytorch.org/docs/stable/generated/torch.ones.html) instead."
      ]
    },
    {
      "cell_type": "code",
      "execution_count": null,
      "metadata": {
        "colab": {
          "base_uri": "https://localhost:8080/"
        },
        "id": "HRe6sSXiTGe6",
        "outputId": "2acbfd62-1753-4277-ba1a-820f4e94cd18"
      },
      "outputs": [
        {
          "output_type": "execute_result",
          "data": {
            "text/plain": [
              "(tensor([[1., 1., 1., 1.],\n",
              "         [1., 1., 1., 1.],\n",
              "         [1., 1., 1., 1.]]),\n",
              " torch.float32)"
            ]
          },
          "metadata": {},
          "execution_count": 17
        }
      ],
      "source": [
        "# Create a tensor of all ones\n",
        "ones = torch.ones(size=(3, 4))\n",
        "ones, ones.dtype"
      ]
    },
    {
      "cell_type": "markdown",
      "source": [
        "Kode ini membuat sebuah tensor yang diisi dengan nilai satu dan memiliki ukuran 3x4 menggunakan PyTorch.\n",
        "\n",
        "torch.ones(size=(3, 4)) menciptakan sebuah tensor berukuran 3x4 yang diisi dengan nilai-nilai satu.\n",
        "size=(3, 4) digunakan untuk menentukan ukuran tensor yang ingin Anda buat.\n",
        "ones akan berisi tensor dengan 3 baris dan 4 kolom yang semua elemennya bernilai satu.\n",
        "ones.dtype digunakan untuk mendapatkan tipe data (dtype) dari tensor ones. Dalam hal ini, secara bawaan, tipe data akan menjadi float32 karena torch.ones() secara default akan menghasilkan tensor dengan tipe data float32.\n",
        "\n",
        "Jadi, output dari potongan kode ini adalah ones, yang berisi tensor 3x4 dengan semua nilai yang diisi dengan satu dan memiliki tipe data float32 secara bawaan."
      ],
      "metadata": {
        "id": "wsirbQMc0Q-y"
      }
    },
    {
      "cell_type": "code",
      "execution_count": null,
      "metadata": {
        "colab": {
          "base_uri": "https://localhost:8080/"
        },
        "id": "1IqUs81d9W4W",
        "outputId": "e696809a-f399-427a-8498-5b9c4276aa51"
      },
      "outputs": [
        {
          "output_type": "stream",
          "name": "stderr",
          "text": [
            "<ipython-input-18-a404776195c1>:2: UserWarning: torch.range is deprecated and will be removed in a future release because its behavior is inconsistent with Python's range builtin. Instead, use torch.arange, which produces values in [start, end).\n",
            "  zero_to_ten_deprecated = torch.range(0, 10) # Note: this may return an error in the future\n"
          ]
        },
        {
          "output_type": "execute_result",
          "data": {
            "text/plain": [
              "tensor([0, 1, 2, 3, 4, 5, 6, 7, 8, 9])"
            ]
          },
          "metadata": {},
          "execution_count": 18
        }
      ],
      "source": [
        "# Use torch.arange(), torch.range() is deprecated\n",
        "zero_to_ten_deprecated = torch.range(0, 10) # Note: this may return an error in the future\n",
        "\n",
        "# Create a range of values 0 to 10\n",
        "zero_to_ten = torch.arange(start=0, end=10, step=1)\n",
        "zero_to_ten"
      ]
    },
    {
      "cell_type": "markdown",
      "source": [
        "Potongan kode ini menggunakan fungsi torch.arange() untuk membuat tensor yang berisi urutan nilai dari 0 hingga 9.999 (tidak termasuk 10) dengan langkah 1.\n",
        "\n",
        "torch.arange(start=0, end=10, step=1) menciptakan tensor yang memuat urutan nilai dari 0 hingga 10 (eksklusif) dengan langkah satu.\n",
        "start=0 menunjukkan nilai awal dari urutan.\n",
        "end=10 menunjukkan nilai akhir urutan, namun nilai ini tidak termasuk dalam urutan.\n",
        "step=1 menunjukkan langkah atau increment antara setiap nilai dalam urutan.\n",
        "Sehingga, zero_to_ten akan berisi tensor yang memuat nilai-nilai dari 0 hingga 9 dengan inkrement satu, yaitu: [0, 1, 2, 3, 4, 5, 6, 7, 8, 9].\n",
        "\n",
        "Penggunaan torch.range() pada potongan kode sebelumnya sebenarnya sudah tidak direkomendasikan lagi karena telah di-deprecate, dan rekomendasi yang lebih baik adalah menggunakan torch.arange() seperti yang digunakan dalam kode kedua."
      ],
      "metadata": {
        "id": "1Q_KumSC026S"
      }
    },
    {
      "cell_type": "code",
      "execution_count": null,
      "metadata": {
        "colab": {
          "base_uri": "https://localhost:8080/"
        },
        "id": "ZvXwUut5BhHq",
        "outputId": "ca0d5727-7fcc-4d2d-fca2-3b16239d2ba0"
      },
      "outputs": [
        {
          "output_type": "execute_result",
          "data": {
            "text/plain": [
              "tensor([0, 0, 0, 0, 0, 0, 0, 0, 0, 0])"
            ]
          },
          "metadata": {},
          "execution_count": 19
        }
      ],
      "source": [
        "# Can also create a tensor of zeros similar to another tensor\n",
        "ten_zeros = torch.zeros_like(input=zero_to_ten) # will have same shape\n",
        "ten_zeros"
      ]
    },
    {
      "cell_type": "markdown",
      "source": [
        "Potongan kode ini menggunakan metode torch.zeros_like() untuk membuat tensor yang berisi nilai-nilai nol dan memiliki bentuk yang sama dengan tensor zero_to_ten.\n",
        "\n",
        "torch.zeros_like(input=zero_to_ten) menciptakan tensor dengan bentuk yang sama seperti tensor zero_to_ten dan diisi dengan nilai-nilai nol.\n",
        "input=zero_to_ten menentukan tensor yang digunakan sebagai referensi untuk menentukan bentuk tensor yang baru dibuat (ten_zeros dalam kasus ini).\n",
        "Sehingga, ten_zeros akan memiliki bentuk yang sama dengan tensor zero_to_ten, yaitu [0, 1, 2, 3, 4, 5, 6, 7, 8, 9], tapi nilainya akan seluruhnya nol. Ini berguna ketika Anda ingin membuat tensor baru dengan bentuk yang sama tetapi diisi dengan nilai tertentu (dalam kasus ini, nol)."
      ],
      "metadata": {
        "id": "j72PqUEa1BNH"
      }
    },
    {
      "cell_type": "code",
      "execution_count": null,
      "metadata": {
        "colab": {
          "base_uri": "https://localhost:8080/"
        },
        "id": "q3MoGnpw9XaF",
        "outputId": "d969139e-82bd-468f-aeff-802b954c6f3a"
      },
      "outputs": [
        {
          "output_type": "execute_result",
          "data": {
            "text/plain": [
              "(torch.Size([3]), torch.float32, device(type='cpu'))"
            ]
          },
          "metadata": {},
          "execution_count": 20
        }
      ],
      "source": [
        "# Default datatype for tensors is float32\n",
        "float_32_tensor = torch.tensor([3.0, 6.0, 9.0],\n",
        "                               dtype=None, # defaults to None, which is torch.float32 or whatever datatype is passed\n",
        "                               device=None, # defaults to None, which uses the default tensor type\n",
        "                               requires_grad=False) # if True, operations performed on the tensor are recorded\n",
        "\n",
        "float_32_tensor.shape, float_32_tensor.dtype, float_32_tensor.device"
      ]
    },
    {
      "cell_type": "markdown",
      "source": [
        "kode ini membuat tensor dengan tiga elemen (3.0, 6.0, 9.0) menggunakan PyTorch. Mari kita terangkan argumen-argumen yang digunakan dalam penciptaan tensor ini:\n",
        "\n",
        "torch.tensor([3.0, 6.0, 9.0], dtype=None, device=None, requires_grad=False) menciptakan tensor dengan nilai-nilai [3.0, 6.0, 9.0].\n",
        "dtype=None pada kode ini mengikuti default PyTorch yang mengartikan bahwa nilai-nilai dalam tensor akan memiliki tipe data float32 karena itu adalah tipe data default untuk tensor jika tidak ada tipe data yang disediakan.\n",
        "device=None juga mengikuti default PyTorch, yang berarti tensor akan dibuat pada perangkat yang dipilih sebagai default oleh PyTorch (biasanya CPU, kecuali Anda secara eksplisit memindahkan tensor ke GPU atau perangkat lain).\n",
        "requires_grad=False menunjukkan bahwa tensor ini tidak memerlukan perhitungan gradien saat melalukan operasi (ini berguna ketika Anda menggunakan tensor dalam konteks pemelajaran mesin dan perhitungan gradien diperlukan untuk pelatihan model).\n",
        "float_32_tensor.shape akan mengembalikan (3,), menunjukkan bahwa ini adalah tensor dengan satu dimensi yang memiliki tiga elemen.\n",
        "\n",
        "float_32_tensor.dtype akan mengembalikan torch.float32, menunjukkan bahwa tipe data default float32 digunakan untuk tensor ini.\n",
        "\n",
        "float_32_tensor.device akan mengembalikan informasi tentang perangkat yang digunakan untuk tensor. Dalam hal ini, karena device=None yang mengikuti default PyTorch, tensor akan berada pada perangkat default yang ditentukan oleh konfigurasi PyTorch."
      ],
      "metadata": {
        "id": "_TedXCRV1JFX"
      }
    },
    {
      "cell_type": "code",
      "execution_count": null,
      "metadata": {
        "colab": {
          "base_uri": "https://localhost:8080/"
        },
        "id": "PKSuajld_09s",
        "outputId": "ac91ed6e-66fe-4e21-fa2d-c0351325a290"
      },
      "outputs": [
        {
          "output_type": "execute_result",
          "data": {
            "text/plain": [
              "torch.float16"
            ]
          },
          "metadata": {},
          "execution_count": 21
        }
      ],
      "source": [
        "float_16_tensor = torch.tensor([3.0, 6.0, 9.0],\n",
        "                               dtype=torch.float16) # torch.half would also work\n",
        "\n",
        "float_16_tensor.dtype"
      ]
    },
    {
      "cell_type": "markdown",
      "source": [
        "Potongan kode ini membuat tensor dengan tiga elemen (3.0, 6.0, 9.0) menggunakan PyTorch, namun kali ini tipe data yang digunakan adalah torch.float16 atau torch.half.\n",
        "\n",
        "torch.tensor([3.0, 6.0, 9.0], dtype=torch.float16) menciptakan tensor dengan nilai-nilai [3.0, 6.0, 9.0] menggunakan tipe data torch.float16 atau yang biasa disebut sebagai torch.half.\n",
        "dtype=torch.float16 menentukan bahwa nilai-nilai dalam tensor ini akan memiliki tipe data float16, yang merepresentasikan float dengan presisi setengah (16-bit float).\n",
        "float_16_tensor.dtype akan mengembalikan torch.float16, menunjukkan bahwa tipe data float16 telah digunakan untuk tensor ini. Ini dapat berguna dalam situasi di mana memori atau kinerja komputasi menjadi kritis, karena float16 menggunakan setengah ukuran memori dari float32, namun bisa mengurangi presisi numerik."
      ],
      "metadata": {
        "id": "eM4eYPca19zM"
      }
    },
    {
      "cell_type": "code",
      "execution_count": null,
      "metadata": {
        "colab": {
          "base_uri": "https://localhost:8080/"
        },
        "id": "hd_X4D0j7Umq",
        "outputId": "3160b975-8716-4b5d-b807-f801a0d43222"
      },
      "outputs": [
        {
          "output_type": "stream",
          "name": "stdout",
          "text": [
            "tensor([[0.4932, 0.6637, 0.3758, 0.9709],\n",
            "        [0.7731, 0.5571, 0.2887, 0.3525],\n",
            "        [0.1797, 0.3670, 0.1261, 0.4467]])\n",
            "Shape of tensor: torch.Size([3, 4])\n",
            "Datatype of tensor: torch.float32\n",
            "Device tensor is stored on: cpu\n"
          ]
        }
      ],
      "source": [
        "# Create a tensor\n",
        "some_tensor = torch.rand(3, 4)\n",
        "\n",
        "# Find out details about it\n",
        "print(some_tensor)\n",
        "print(f\"Shape of tensor: {some_tensor.shape}\")\n",
        "print(f\"Datatype of tensor: {some_tensor.dtype}\")\n",
        "print(f\"Device tensor is stored on: {some_tensor.device}\") # will default to CPU"
      ]
    },
    {
      "cell_type": "markdown",
      "source": [
        "Potongan kode ini menggunakan PyTorch untuk membuat sebuah tensor dengan ukuran 3 baris dan 4 kolom, diisi dengan nilai-nilai acak dari distribusi seragam antara 0 dan 1.\n",
        "\n",
        "Setelah pembuatan tensor, informasi rinci tentang tensor tersebut dicetak. Pertama, isi dari tensor ditampilkan, menunjukkan nilai-nilai acak yang terdapat dalam tensor 3x4. Selanjutnya, informasi tentang bentuk tensor, yang dalam kasus ini adalah (3, 4), menandakan bahwa ini adalah tensor dengan 3 baris dan 4 kolom. Kemudian, tipe data dari tensor, yang secara default adalah float32 karena penggunaan fungsi torch.rand(), diberikan sebagai informasi terkait tensor. Terakhir, perangkat tempat tensor disimpan juga ditampilkan. Jika tidak ada spesifikasi perangkat (seperti penggunaan GPU), PyTorch akan menyimpan tensor pada CPU secara default. Oleh karena itu, output akan menunjukkan perangkat default (biasanya CPU) di mana tensor disimpan, seperti \"cpu\" atau \"cpu:0\". Ini memberikan pemahaman mendalam tentang tensor yang telah dibuat menggunakan PyTorch, termasuk nilai, bentuk, tipe data, dan perangkat tempat tensor disimpan."
      ],
      "metadata": {
        "id": "4RY56uf-2oGB"
      }
    },
    {
      "cell_type": "code",
      "execution_count": null,
      "metadata": {
        "colab": {
          "base_uri": "https://localhost:8080/"
        },
        "id": "X71WpQoPD7a4",
        "outputId": "d6830d17-31d2-4876-db1e-959de2ec318f"
      },
      "outputs": [
        {
          "output_type": "execute_result",
          "data": {
            "text/plain": [
              "tensor([11, 12, 13])"
            ]
          },
          "metadata": {},
          "execution_count": 23
        }
      ],
      "source": [
        "# Create a tensor of values and add a number to it\n",
        "tensor = torch.tensor([1, 2, 3])\n",
        "tensor + 10"
      ]
    },
    {
      "cell_type": "markdown",
      "source": [
        "Potongan kode ini menciptakan sebuah tensor dengan nilai [1, 2, 3] menggunakan PyTorch, kemudian menambahkan nilai 10 ke setiap elemen dalam tensor.\n",
        "\n",
        "torch.tensor([1, 2, 3]) menciptakan tensor dengan nilai-nilai [1, 2, 3].\n",
        "tensor + 10 adalah operasi penambahan yang dilakukan pada setiap elemen tensor, yang akan menambahkan nilai 10 ke setiap elemen di dalam tensor.\n",
        "Hasilnya akan menjadi tensor baru yang memiliki nilai-nilai [11, 12, 13], karena 10 ditambahkan ke setiap elemen yang ada dalam tensor. Operasi ini bertujuan untuk menambahkan nilai skalar (10 dalam hal ini) ke setiap elemen dalam tensor."
      ],
      "metadata": {
        "id": "DiXFI33B3IKw"
      }
    },
    {
      "cell_type": "code",
      "execution_count": null,
      "metadata": {
        "colab": {
          "base_uri": "https://localhost:8080/"
        },
        "id": "Sp4TlTWWEFeO",
        "outputId": "922b5fc3-17f7-4654-d9a0-c98c1f7d1759"
      },
      "outputs": [
        {
          "output_type": "execute_result",
          "data": {
            "text/plain": [
              "tensor([10, 20, 30])"
            ]
          },
          "metadata": {},
          "execution_count": 24
        }
      ],
      "source": [
        "# Multiply it by 10\n",
        "tensor * 10"
      ]
    },
    {
      "cell_type": "markdown",
      "source": [
        "Potongan kode ini melakukan operasi perkalian pada tensor yang telah dibuat sebelumnya.\n",
        "\n",
        "Setelah membuat tensor dengan nilai [1, 2, 3] menggunakan torch.tensor([1, 2, 3]), kode tensor * 10 mengalikan setiap elemen dalam tensor dengan nilai 10.\n",
        "\n",
        "Hasilnya adalah tensor baru yang nilai-nilainya adalah [10, 20, 30], di mana setiap elemen dalam tensor awal (yang memiliki nilai [1, 2, 3]) dikalikan dengan 10. Operasi perkalian ini mengalikan setiap elemen dalam tensor dengan nilai skalar (dalam hal ini, 10)."
      ],
      "metadata": {
        "id": "iIRUXVQR3gVP"
      }
    },
    {
      "cell_type": "code",
      "execution_count": null,
      "metadata": {
        "colab": {
          "base_uri": "https://localhost:8080/"
        },
        "id": "XuB1UjCIEJIA",
        "outputId": "b2f84fa8-032b-4aa9-fff8-a34b7782aa54"
      },
      "outputs": [
        {
          "output_type": "execute_result",
          "data": {
            "text/plain": [
              "tensor([1, 2, 3])"
            ]
          },
          "metadata": {},
          "execution_count": 25
        }
      ],
      "source": [
        "# Tensors don't change unless reassigned\n",
        "tensor"
      ]
    },
    {
      "cell_type": "markdown",
      "source": [
        "Ketika kita melakukan operasi matematika atau transformasi pada tensor dalam PyTorch, perlu diingat bahwa operasi tersebut tidak secara langsung mengubah nilai-nilai dalam tensor tersebut kecuali jika hasilnya ditugaskan kembali ke tensor yang sama atau tensor baru.\n",
        "\n",
        "Dalam konteks kode yang Anda tunjukkan, ketika Anda hanya mengetikkan tensor pada baris kode, itu hanya akan menampilkan nilai dari tensor tersebut. Namun, operasi sebelumnya yang dilakukan seperti penambahan atau perkalian (misalnya, tensor + 10 atau tensor * 10) tidak mengubah tensor aslinya kecuali jika hasilnya ditugaskan kembali ke tensor atau pada variabel lain.\n",
        "\n",
        "Sebagai contoh, jika Anda menulis tensor = tensor * 10 atau new_tensor = tensor * 10, ini akan membuat tensor baru (new_tensor dalam contoh kedua) yang nilainya hasil dari operasi perkalian, sementara tensor aslinya tetap tidak berubah.\n",
        "\n",
        "Jadi, ketika Anda hanya mengetikkan tensor tanpa operasi pengubahan nilai atau tanpa menugaskan hasilnya ke variabel baru, itu hanya akan menampilkan nilai dari tensor yang sudah ada tanpa melakukan perubahan pada tensor itu sendiri."
      ],
      "metadata": {
        "id": "ibJs0bXu3r99"
      }
    },
    {
      "cell_type": "code",
      "execution_count": null,
      "metadata": {
        "colab": {
          "base_uri": "https://localhost:8080/"
        },
        "id": "U4iWKoLsENry",
        "outputId": "f25e3fec-210e-4d1f-b708-463232b22245"
      },
      "outputs": [
        {
          "output_type": "execute_result",
          "data": {
            "text/plain": [
              "tensor([-9, -8, -7])"
            ]
          },
          "metadata": {},
          "execution_count": 26
        }
      ],
      "source": [
        "# Subtract and reassign\n",
        "tensor = tensor - 10\n",
        "tensor"
      ]
    },
    {
      "cell_type": "markdown",
      "source": [
        "Potongan kode ini melakukan operasi pengurangan dan penugasan kembali pada tensor yang sudah ada sebelumnya.\n",
        "\n",
        "tensor = tensor - 10: Ini mengurangkan nilai 10 dari setiap elemen dalam tensor yang sudah ada, kemudian menugaskan kembali hasilnya ke variabel tensor.\n",
        "\n",
        "Operasi ini menghasilkan tensor baru yang nilai-nilainya adalah [0, 10, 20] karena mengurangkan 10 dari setiap elemen dalam tensor asli yang memiliki nilai [10, 20, 30].\n",
        "\n",
        "Kemudian, ketika tensor ditampilkan setelah operasi ini, hasilnya adalah tensor yang telah diperbarui, yaitu tensor dengan nilai-nilai [0, 10, 20], bukan lagi nilai asli [1, 2, 3]. Operasi ini mengubah nilai-nilai dalam variabel tensor karena hasil operasi pengurangan tersebut ditugaskan kembali ke tensor."
      ],
      "metadata": {
        "id": "KmClCa5N30F7"
      }
    },
    {
      "cell_type": "markdown",
      "source": [],
      "metadata": {
        "id": "K-uMXSVL3vcK"
      }
    },
    {
      "cell_type": "code",
      "execution_count": null,
      "metadata": {
        "colab": {
          "base_uri": "https://localhost:8080/"
        },
        "id": "tFgZY-PaFNXa",
        "outputId": "d5678ed8-00c3-47ec-97fe-7e5cc4955784"
      },
      "outputs": [
        {
          "output_type": "execute_result",
          "data": {
            "text/plain": [
              "tensor([1, 2, 3])"
            ]
          },
          "metadata": {},
          "execution_count": 27
        }
      ],
      "source": [
        "# Add and reassign\n",
        "tensor = tensor + 10\n",
        "tensor"
      ]
    },
    {
      "cell_type": "markdown",
      "source": [
        "Potongan kode ini melakukan serangkaian operasi pada sebuah tensor dalam PyTorch.\n",
        "\n",
        "Pertama, tensor awalnya memiliki nilai [1, 2, 3]. Kemudian, tensor = tensor - 10 mengurangkan nilai 10 dari setiap elemen, menghasilkan tensor baru dengan nilai [0, 10, 20]. Operasi ini mengubah nilai tensor karena hasilnya ditugaskan kembali ke variabel tensor.\n",
        "\n",
        "Selanjutnya, tensor = tensor + 10 menambahkan nilai 10 ke setiap elemen dalam tensor yang telah diubah sebelumnya menjadi [0, 10, 20]. Hal ini mengakibatkan perubahan nilai menjadi [10, 20, 30]. Operasi ini juga mengubah tensor karena hasilnya ditugaskan kembali ke variabel tensor.\n",
        "\n",
        "Hasil akhir dari serangkaian operasi ini adalah tensor yang memiliki nilai-nilai baru yaitu [10, 20, 30]. Operasi ini menunjukkan bagaimana operasi matematika pada tensor dalam PyTorch dapat diikuti dengan penugasan kembali untuk memperbarui nilai-nilai dalam tensor."
      ],
      "metadata": {
        "id": "8y0Byf4j4KNP"
      }
    },
    {
      "cell_type": "code",
      "execution_count": null,
      "metadata": {
        "colab": {
          "base_uri": "https://localhost:8080/"
        },
        "id": "uVysdk3kFWbY",
        "outputId": "c7366b17-15e6-427b-90bb-5f228cad5a60"
      },
      "outputs": [
        {
          "output_type": "execute_result",
          "data": {
            "text/plain": [
              "tensor([10, 20, 30])"
            ]
          },
          "metadata": {},
          "execution_count": 28
        }
      ],
      "source": [
        "# Can also use torch functions\n",
        "torch.multiply(tensor, 10)"
      ]
    },
    {
      "cell_type": "markdown",
      "source": [
        "Tampaknya potongan kode torch.multiply(tensor, 10) mengacu pada upaya menggunakan fungsi torch.multiply() dalam PyTorch untuk mengalikan setiap elemen dalam tensor tensor dengan nilai skalar 10. Namun, dalam PyTorch, tidak ada fungsi bawaan yang disebut torch.multiply(). Untuk melakukan operasi perkalian elemen-wise pada tensor, ada beberapa cara yang dapat dilakukan, seperti menggunakan operator perkalian (*) secara langsung antara tensor dan skalar, atau menggunakan fungsi torch.mul() yang dirancang untuk melakukan operasi perkalian pada tensor. Jika digunakan dengan benar, torch.mul(tensor, 10) akan menghasilkan tensor baru yang berisi nilai-nilai dari setiap elemen dalam tensor dikalikan dengan nilai 10. Ini memberikan kemungkinan untuk mengalikan setiap elemen dalam tensor dengan skalar tertentu, namun, dalam konteks kode yang diberikan, perlu untuk menggunakan cara yang sesuai yang tersedia dalam PyTorch untuk melakukan operasi perkalian elemen-wise pada tensor."
      ],
      "metadata": {
        "id": "UoSOtVDP4Tck"
      }
    },
    {
      "cell_type": "code",
      "execution_count": null,
      "metadata": {
        "colab": {
          "base_uri": "https://localhost:8080/"
        },
        "id": "IxuPJIpNFbqO",
        "outputId": "dbd0e4cf-9bbc-41d0-995d-fc4f5fbf5838"
      },
      "outputs": [
        {
          "output_type": "execute_result",
          "data": {
            "text/plain": [
              "tensor([1, 2, 3])"
            ]
          },
          "metadata": {},
          "execution_count": 29
        }
      ],
      "source": [
        "# Original tensor is still unchanged\n",
        "tensor"
      ]
    },
    {
      "cell_type": "markdown",
      "source": [
        "Ketika Anda melakukan operasi matematika atau transformasi pada sebuah tensor dalam PyTorch, perlu dicatat bahwa operasi tersebut tidak secara langsung mengubah nilai-nilai dalam tensor tersebut kecuali hasilnya ditugaskan kembali ke tensor yang sama atau jika Anda menyimpan hasilnya dalam tensor yang berbeda.\n",
        "\n",
        "Dalam kasus potongan kode ini, sebelumnya terdapat serangkaian operasi pada tensor tensor, di mana nilai-nilainya telah diubah dari [1, 2, 3] menjadi [10, 20, 30] menggunakan operasi pengurangan dan penambahan. Namun, ketika Anda hanya mengetikkan tensor untuk menampilkan nilainya tanpa melakukan operasi pengubahan atau penugasan hasilnya ke variabel, itu hanya akan menampilkan nilai yang terakhir kali ditugaskan ke tensor.\n",
        "\n",
        "Hasil yang ditampilkan adalah nilai terakhir dari tensor setelah dilakukan operasi pengurangan dan penambahan. Meskipun nilai-nilai tensor telah diubah sebelumnya, namun jika hasilnya tidak ditugaskan kembali ke tensor atau disimpan dalam variabel lain, nilai-nilai tersebut tidak akan terbarui dan tensor akan tetap menampilkan nilai terakhir yang telah ditugaskan padanya. Operasi yang dilakukan tidak mempengaruhi tensor secara langsung kecuali hasilnya ditugaskan kembali."
      ],
      "metadata": {
        "id": "doeeAs9l4mYI"
      }
    },
    {
      "cell_type": "code",
      "execution_count": null,
      "metadata": {
        "colab": {
          "base_uri": "https://localhost:8080/"
        },
        "id": "S5v3RkR0F2Jq",
        "outputId": "4b47b17a-6bd7-429a-d74a-9e06073f5f28"
      },
      "outputs": [
        {
          "output_type": "stream",
          "name": "stdout",
          "text": [
            "tensor([1, 2, 3]) * tensor([1, 2, 3])\n",
            "Equals: tensor([1, 4, 9])\n"
          ]
        }
      ],
      "source": [
        "# Element-wise multiplication (each element multiplies its equivalent, index 0->0, 1->1, 2->2)\n",
        "print(tensor, \"*\", tensor)\n",
        "print(\"Equals:\", tensor * tensor)"
      ]
    },
    {
      "cell_type": "markdown",
      "source": [
        "Potongan kode ini berfokus pada operasi perkalian elemen-wise (perkalian satu-satu) dari tensor dengan dirinya sendiri, yaitu setiap elemen dalam tensor akan dikalikan dengan elemen yang memiliki indeks yang sama dalam tensor yang sama.\n",
        "\n",
        "Pertama, print(tensor, \"*\", tensor) mencetak nilai tensor dan tanda \"*\" secara berurutan untuk menunjukkan bahwa operasi perkalian elemen-wise akan dilakukan pada tensor tersebut dengan dirinya sendiri.\n",
        "\n",
        "Kemudian, print(\"Equals:\", tensor * tensor) mencetak hasil dari operasi perkalian elemen-wise dari tensor dengan dirinya sendiri. Operasi ini menghasilkan tensor baru yang berisi hasil perkalian dari setiap elemen dalam tensor dengan elemen yang memiliki indeks yang sama dalam tensor yang sama.\n",
        "\n",
        "Sebagai contoh, jika nilai awal tensor adalah [10, 20, 30], hasil perkalian elemen-wise akan menjadi [100, 400, 900]. Hal ini terjadi karena setiap elemen dalam tensor ([10, 20, 30]) dikalikan dengan elemen yang memiliki indeks yang sama dalam tensor yang sama, sehingga [10 * 10, 20 * 20, 30 * 30] menghasilkan [100, 400, 900].\n",
        "\n",
        "Jadi, operasi tensor * tensor pada dasarnya melakukan perkalian elemen-wise antara tensor dan dirinya sendiri, menghasilkan tensor baru yang berisi hasil perkalian dari setiap elemen dalam tensor dengan elemen yang memiliki indeks yang sama dalam tensor yang sama."
      ],
      "metadata": {
        "id": "BZc8gLoE4tzD"
      }
    },
    {
      "cell_type": "code",
      "execution_count": null,
      "metadata": {
        "colab": {
          "base_uri": "https://localhost:8080/"
        },
        "id": "ZE7loucmDlEM",
        "outputId": "1f140029-0f38-421d-e0a7-f34b3b80d028"
      },
      "outputs": [
        {
          "output_type": "execute_result",
          "data": {
            "text/plain": [
              "torch.Size([3])"
            ]
          },
          "metadata": {},
          "execution_count": 31
        }
      ],
      "source": [
        "import torch\n",
        "tensor = torch.tensor([1, 2, 3])\n",
        "tensor.shape"
      ]
    },
    {
      "cell_type": "markdown",
      "source": [
        "Potongan kode ini menggunakan PyTorch untuk membuat sebuah tensor dengan nilai [1, 2, 3]. Setelah tensor tersebut dibuat, dilakukan operasi untuk mendapatkan informasi tentang bentuk (shape) dari tensor tersebut.\n",
        "\n",
        "torch.tensor([1, 2, 3]) menciptakan tensor dengan nilai-nilai [1, 2, 3]. Tensor ini adalah tensor satu dimensi atau sering disebut sebagai vektor.\n",
        "\n",
        "Kemudian, tensor.shape digunakan untuk mengakses properti bentuk (shape) dari tensor yang telah dibuat sebelumnya. Bentuk (shape) dari tensor menunjukkan jumlah elemen dalam setiap dimensi. Dalam kasus ini, karena tensor yang dibuat adalah tensor satu dimensi, properti shape akan mengembalikan tupel yang menyatakan jumlah elemen dalam dimensi tunggal tersebut. Dalam kasus ini, hasilnya akan menjadi (3,), menunjukkan bahwa tensor memiliki 3 elemen dalam dimensi tunggalnya. Artinya, ini adalah tensor dengan satu dimensi yang berisi 3 elemen."
      ],
      "metadata": {
        "id": "e3ihYaTU44b8"
      }
    },
    {
      "cell_type": "code",
      "execution_count": null,
      "metadata": {
        "colab": {
          "base_uri": "https://localhost:8080/"
        },
        "id": "i42gkUeHvI_1",
        "outputId": "fb73dc07-b960-4d64-91d4-ba7b323bc9ed"
      },
      "outputs": [
        {
          "output_type": "execute_result",
          "data": {
            "text/plain": [
              "tensor([1, 4, 9])"
            ]
          },
          "metadata": {},
          "execution_count": 32
        }
      ],
      "source": [
        "# Element-wise matrix multiplication\n",
        "tensor * tensor"
      ]
    },
    {
      "cell_type": "markdown",
      "source": [
        "Potongan kode tensor * tensor pada dasarnya melakukan operasi perkalian elemen-wise antara tensor dan dirinya sendiri.\n",
        "\n",
        "Jika tensor memiliki dimensi yang sesuai untuk operasi perkalian elemen-wise, maka setiap elemen dalam tensor akan dikalikan dengan elemen yang memiliki indeks yang sama dalam tensor yang sama. Operasi ini tidak menjalankan perkalian matriks atau dot product, melainkan melakukan perkalian satu-satu pada elemen yang berada pada posisi yang sama dalam tensor.\n",
        "\n",
        "Contohnya, jika kita memiliki tensor awal dengan nilai [1, 2, 3], hasil dari operasi tensor * tensor akan menjadi [1 * 1, 2 * 2, 3 * 3], yaitu [1, 4, 9]. Ini berarti setiap elemen dalam tensor akan dikalikan dengan elemen yang memiliki indeks yang sama dalam tensor yang sama, menghasilkan tensor baru yang berisi hasil perkalian elemen-wise tersebut.\n",
        "\n",
        "Namun, perlu diingat bahwa operasi ini berbeda dari operasi perkalian matriks atau dot product. Untuk melakukan perkalian matriks dalam PyTorch, Anda dapat menggunakan fungsi seperti torch.matmul() atau @ operator pada tensor-tensor yang memenuhi persyaratan untuk operasi perkalian matriks. Operasi ini berbeda dan lebih terkait dengan hubungan antara dimensi dari tensor yang bersangkutan."
      ],
      "metadata": {
        "id": "VCMV8y_O5BHL"
      }
    },
    {
      "cell_type": "code",
      "execution_count": null,
      "metadata": {
        "colab": {
          "base_uri": "https://localhost:8080/"
        },
        "id": "PvCBiiTTDk8y",
        "outputId": "44cd7366-91bd-43ae-a52e-688744110562"
      },
      "outputs": [
        {
          "output_type": "execute_result",
          "data": {
            "text/plain": [
              "tensor(14)"
            ]
          },
          "metadata": {},
          "execution_count": 33
        }
      ],
      "source": [
        "# Matrix multiplication\n",
        "torch.matmul(tensor, tensor)"
      ]
    },
    {
      "cell_type": "markdown",
      "source": [
        "Potongan kode torch.matmul(tensor, tensor) dalam PyTorch merupakan panggilan untuk melakukan operasi perkalian matriks antara dua tensor.\n",
        "\n",
        "Dalam konteks ini, tensor yang diberikan adalah tensor satu dimensi atau vektor dengan nilai [1, 2, 3]. Dalam operasi perkalian matriks, kedua tensor harus memiliki dimensi yang sesuai untuk operasi tersebut dilakukan dengan benar. Dalam kasus ini, karena kedua tensor memiliki dimensi yang sesuai untuk operasi perkalian matriks (tensor satu dimensi), operasi torch.matmul() akan melakukan perkalian matriks antara tensor dengan dirinya sendiri.\n",
        "\n",
        "Namun, operasi ini bukan perkalian elemen-wise seperti yang dilakukan dengan tensor * tensor. Operasi torch.matmul() akan menghasilkan sebuah skalar, bukan tensor, karena kedua tensor yang diberikan adalah vektor atau tensor satu dimensi.\n",
        "\n",
        "Hasilnya adalah skalar yang merupakan hasil dari perkalian matriks antara vektor [1, 2, 3] dengan dirinya sendiri. Untuk vektor, hasil perkalian matriks dari vektor dengan dirinya sendiri diperoleh dengan melakukan dot product atau perkalian titik antara vektor tersebut, yaitu (1 * 1) + (2 * 2) + (3 * 3), yang akan menghasilkan nilai 14. Jadi, output dari operasi torch.matmul(tensor, tensor) dalam konteks ini adalah skalar dengan nilai 14."
      ],
      "metadata": {
        "id": "6j1MPquu5PMo"
      }
    },
    {
      "cell_type": "code",
      "execution_count": null,
      "metadata": {
        "colab": {
          "base_uri": "https://localhost:8080/"
        },
        "id": "m4E_pROBDk2r",
        "outputId": "fb884a5d-ede7-4479-f344-d3ae8c1343eb"
      },
      "outputs": [
        {
          "output_type": "execute_result",
          "data": {
            "text/plain": [
              "tensor(14)"
            ]
          },
          "metadata": {},
          "execution_count": 34
        }
      ],
      "source": [
        "# Can also use the \"@\" symbol for matrix multiplication, though not recommended\n",
        "tensor @ tensor"
      ]
    },
    {
      "cell_type": "markdown",
      "source": [
        "Potongan kode tensor @ tensor menggunakan operator @ untuk melakukan operasi perkalian matriks antara dua tensor dalam Python dengan PyTorch.\n",
        "\n",
        "Dalam konteks ini, tensor adalah tensor satu dimensi atau vektor dengan nilai [1, 2, 3]. Penggunaan operator @ untuk melakukan perkalian matriks antara dua tensor memiliki fungsi yang sama dengan torch.matmul(), namun dapat ditulis dengan sintaks yang lebih ringkas.\n",
        "\n",
        "Namun, penggunaan operator @ untuk operasi perkalian matriks dalam PyTorch tidak selalu direkomendasikan karena dapat menjadi ambigu terutama dalam konteks kode yang lebih kompleks atau ketika menggunakan library lain yang juga menggunakan operator @ untuk tujuan yang berbeda. Meskipun demikian, secara fungsional, tensor @ tensor akan melakukan perkalian matriks antara vektor [1, 2, 3] dengan dirinya sendiri, dan hasilnya akan sama dengan yang diperoleh dari torch.matmul(tensor, tensor).\n",
        "\n",
        "Hasilnya juga akan menjadi skalar dengan nilai 14, karena perkalian matriks dari vektor dengan dirinya sendiri pada dasarnya melakukan dot product atau perkalian titik antara vektor tersebut, yang menghasilkan nilai yang sama seperti yang dijelaskan sebelumnya."
      ],
      "metadata": {
        "id": "UNVg59AP4Bt0"
      }
    },
    {
      "cell_type": "code",
      "execution_count": null,
      "metadata": {
        "colab": {
          "base_uri": "https://localhost:8080/"
        },
        "id": "6qMSaLOoJscL",
        "outputId": "afee1e75-89a0-4840-827e-1f34e0fcc6ac"
      },
      "outputs": [
        {
          "output_type": "stream",
          "name": "stdout",
          "text": [
            "CPU times: user 1.35 ms, sys: 0 ns, total: 1.35 ms\n",
            "Wall time: 6.42 ms\n"
          ]
        },
        {
          "output_type": "execute_result",
          "data": {
            "text/plain": [
              "tensor(14)"
            ]
          },
          "metadata": {},
          "execution_count": 35
        }
      ],
      "source": [
        "%%time\n",
        "# Matrix multiplication by hand\n",
        "# (avoid doing operations with for loops at all cost, they are computationally expensive)\n",
        "value = 0\n",
        "for i in range(len(tensor)):\n",
        "  value += tensor[i] * tensor[i]\n",
        "value"
      ]
    },
    {
      "cell_type": "markdown",
      "source": [
        "Potongan kode ini mencoba melakukan operasi perkalian matriks (dot product) secara manual pada vektor atau tensor satu dimensi yang disimpan dalam variabel tensor.\n",
        "\n",
        "Dalam konteks ini, kode menggunakan iterasi for loop untuk mengakses setiap elemen dalam vektor tensor, dan kemudian mengalikan setiap elemen dengan dirinya sendiri, menambahkan hasil perkalian tersebut ke variabel value.\n",
        "\n",
        "Namun, penting untuk dicatat bahwa metode ini tidak melakukan operasi perkalian matriks secara eksplisit. Sebaliknya, ini melakukan operasi dot product atau perkalian titik antara vektor tensor dengan dirinya sendiri secara manual, di mana setiap elemen dalam vektor dikalikan dengan elemen yang memiliki indeks yang sama dalam vektor yang sama, dan hasilnya dijumlahkan dalam variabel value.\n",
        "\n",
        "Meskipun ini memberikan hasil yang benar untuk dot product pada vektor atau tensor satu dimensi, namun menggunakan loop for secara langsung untuk operasi ini tidak dianjurkan, terutama untuk ukuran data yang besar, karena operasi ini lebih lambat secara komputasi daripada menggunakan operasi matriks yang dioptimalkan yang disediakan oleh fungsi PyTorch seperti torch.matmul() atau operator @. Operasi dengan loop for dapat menjadi sangat lambat untuk ukuran data yang besar karena memakan waktu komputasi yang lebih tinggi. Dalam konteks ini, kode ini bertujuan untuk menunjukkan konsep operasi dot product secara manual, namun tidak optimal dalam hal kinerja."
      ],
      "metadata": {
        "id": "Vi_pjLbC4KLx"
      }
    },
    {
      "cell_type": "code",
      "execution_count": null,
      "metadata": {
        "colab": {
          "base_uri": "https://localhost:8080/"
        },
        "id": "vVWiKB0KwH74",
        "outputId": "888f37cb-ac41-4765-926b-d83df6927dd2"
      },
      "outputs": [
        {
          "output_type": "stream",
          "name": "stdout",
          "text": [
            "CPU times: user 36 µs, sys: 0 ns, total: 36 µs\n",
            "Wall time: 39.6 µs\n"
          ]
        },
        {
          "output_type": "execute_result",
          "data": {
            "text/plain": [
              "tensor(14)"
            ]
          },
          "metadata": {},
          "execution_count": 36
        }
      ],
      "source": [
        "%%time\n",
        "torch.matmul(tensor, tensor)"
      ]
    },
    {
      "cell_type": "markdown",
      "source": [
        "Potongan kode ini menggunakan fungsi PyTorch torch.matmul() untuk melakukan operasi perkalian matriks antara dua tensor.\n",
        "\n",
        "Dalam konteks ini, tensor adalah tensor satu dimensi atau vektor dengan nilai [1, 2, 3]. Penggunaan torch.matmul() pada vektor dengan dirinya sendiri akan menghasilkan hasil perkalian matriks dari vektor tersebut.\n",
        "\n",
        "Penggunaan fungsi ini merupakan cara yang lebih efisien secara komputasi daripada menggunakan pendekatan manual dengan loop for, terutama untuk operasi perkalian matriks pada ukuran data yang besar. Fungsi ini diimplementasikan secara efisien di tingkat yang lebih rendah menggunakan optimisasi yang dioptimalkan, sehingga memberikan kinerja yang lebih baik.\n",
        "\n",
        "Penggunaan %%time sebelum perintah dijalankan digunakan untuk mengukur waktu yang diperlukan untuk mengeksekusi sel selanjutnya dalam notebook atau lingkungan yang mendukung magic commands seperti Jupyter Notebook atau Google Colab. Ini membantu untuk mengukur waktu eksekusi suatu perintah atau blok kode, dan memberikan perkiraan waktu yang dibutuhkan untuk menyelesaikan perintah tersebut. Dalam hal ini, ini digunakan untuk mengukur waktu yang dibutuhkan oleh operasi torch.matmul(tensor, tensor) untuk dijalankan dan menampilkan hasilnya dalam waktu yang terukur."
      ],
      "metadata": {
        "id": "lxcn1I0n4Yrm"
      }
    },
    {
      "cell_type": "code",
      "execution_count": null,
      "metadata": {
        "colab": {
          "base_uri": "https://localhost:8080/",
          "height": 211
        },
        "id": "rN5RcoD4Jo6y",
        "outputId": "e452d841-d6a1-466c-a4fc-280160d525f0"
      },
      "outputs": [
        {
          "output_type": "error",
          "ename": "RuntimeError",
          "evalue": "ignored",
          "traceback": [
            "\u001b[0;31m---------------------------------------------------------------------------\u001b[0m",
            "\u001b[0;31mRuntimeError\u001b[0m                              Traceback (most recent call last)",
            "\u001b[0;32m<ipython-input-37-5893e600ebdf>\u001b[0m in \u001b[0;36m<cell line: 10>\u001b[0;34m()\u001b[0m\n\u001b[1;32m      8\u001b[0m                          [9, 12]], dtype=torch.float32)\n\u001b[1;32m      9\u001b[0m \u001b[0;34m\u001b[0m\u001b[0m\n\u001b[0;32m---> 10\u001b[0;31m \u001b[0mtorch\u001b[0m\u001b[0;34m.\u001b[0m\u001b[0mmatmul\u001b[0m\u001b[0;34m(\u001b[0m\u001b[0mtensor_A\u001b[0m\u001b[0;34m,\u001b[0m \u001b[0mtensor_B\u001b[0m\u001b[0;34m)\u001b[0m \u001b[0;31m# (this will error)\u001b[0m\u001b[0;34m\u001b[0m\u001b[0;34m\u001b[0m\u001b[0m\n\u001b[0m",
            "\u001b[0;31mRuntimeError\u001b[0m: mat1 and mat2 shapes cannot be multiplied (3x2 and 3x2)"
          ]
        }
      ],
      "source": [
        "# Shapes need to be in the right way\n",
        "tensor_A = torch.tensor([[1, 2],\n",
        "                         [3, 4],\n",
        "                         [5, 6]], dtype=torch.float32)\n",
        "\n",
        "tensor_B = torch.tensor([[7, 10],\n",
        "                         [8, 11],\n",
        "                         [9, 12]], dtype=torch.float32)\n",
        "\n",
        "torch.matmul(tensor_A, tensor_B) # (this will error)"
      ]
    },
    {
      "cell_type": "markdown",
      "source": [
        "Potongan kode ini mencoba melakukan operasi perkalian matriks antara dua tensor, tensor_A dan tensor_B, menggunakan fungsi torch.matmul() dalam PyTorch.\n",
        "\n",
        "Namun, operasi ini akan menghasilkan error karena aturan dimensi yang tidak memenuhi syarat untuk operasi perkalian matriks yang valid. Dalam operasi perkalian matriks, dimensi dari tensor-tensor yang dilibatkan harus sesuai untuk operasi tersebut.\n",
        "\n",
        "tensor_A adalah sebuah tensor dengan bentuk (shape) 3x2, dan tensor_B adalah tensor dengan bentuk (shape) 3x2. Dalam operasi perkalian matriks yang valid, aturan dimensi yang berlaku adalah jumlah kolom dalam tensor pertama harus sama dengan jumlah baris dalam tensor kedua. Dalam kasus ini, tensor pertama (tensor_A) memiliki 2 kolom, sedangkan tensor kedua (tensor_B) memiliki 3 baris.\n",
        "\n",
        "Oleh karena itu, tidak mungkin melakukan operasi perkalian matriks antara tensor_A dan tensor_B karena ketidaksesuaian dimensi, dan hal ini akan menyebabkan error. Operasi perkalian matriks hanya dapat dilakukan jika dimensi dari kedua tensor memenuhi aturan yang diperlukan, yaitu jumlah kolom dalam tensor pertama harus sama dengan jumlah baris dalam tensor kedua untuk mendapatkan hasil yang valid."
      ],
      "metadata": {
        "id": "mglj0ABx4f6E"
      }
    },
    {
      "cell_type": "code",
      "source": [
        "import torch\n",
        "\n",
        "tensor_A = torch.tensor([[1, 2],\n",
        "                         [3, 4],\n",
        "                         [5, 6]], dtype=torch.float32)\n",
        "\n",
        "tensor_B = torch.tensor([[7, 10],\n",
        "                         [8, 11],\n",
        "                         [9, 12]], dtype=torch.float32)\n",
        "\n",
        "result = torch.matmul(tensor_A, tensor_B.t()) # Transposing tensor_B\n",
        "\n",
        "print(result)\n"
      ],
      "metadata": {
        "colab": {
          "base_uri": "https://localhost:8080/"
        },
        "id": "h2-6jORPuKm9",
        "outputId": "8e0df2b2-addb-4a85-8ef4-051679454492"
      },
      "execution_count": null,
      "outputs": [
        {
          "output_type": "stream",
          "name": "stdout",
          "text": [
            "tensor([[ 27.,  30.,  33.],\n",
            "        [ 61.,  68.,  75.],\n",
            "        [ 95., 106., 117.]])\n"
          ]
        }
      ]
    },
    {
      "cell_type": "markdown",
      "source": [
        "Potongan kode ini melakukan operasi perkalian matriks antara dua tensor, tensor_A dan tensor_B, menggunakan fungsi torch.matmul() dalam PyTorch. Namun, sebelumnya, tensor_B telah ditranspose sebelum operasi perkalian matriks dilakukan.\n",
        "\n",
        "tensor_A adalah tensor dengan bentuk (shape) 3x2, dan tensor_B adalah tensor dengan bentuk (shape) 3x2. Dalam kasus ini, tensor_B ditranspose menggunakan metode .t(), yang mengubah baris menjadi kolom dan sebaliknya, sehingga tensor_B.t() memiliki bentuk (shape) 2x3.\n",
        "\n",
        "Setelah melakukan operasi transpose pada tensor_B, torch.matmul(tensor_A, tensor_B.t()) akan melakukan operasi perkalian matriks antara tensor_A dan tensor_B yang telah ditranspose. Dalam aturan perkalian matriks, jumlah kolom dalam tensor pertama (tensor_A) harus sama dengan jumlah baris dalam tensor kedua (tensor_B.t()). Dalam kasus ini, tensor_A memiliki 2 kolom dan tensor_B.t() memiliki 2 baris setelah dilakukan operasi transpose, sehingga aturan dimensi perkalian matriks terpenuhi.\n",
        "\n",
        "Hasil operasi perkalian matriks ini akan disimpan dalam variabel result, yang akan berisi hasil dari perkalian matriks antara tensor_A dan tensor_B yang telah ditranspose. Kemudian, hasil tersebut akan dicetak menggunakan perintah print(result)."
      ],
      "metadata": {
        "id": "wC6s99C84pyN"
      }
    },
    {
      "cell_type": "code",
      "execution_count": null,
      "metadata": {
        "colab": {
          "base_uri": "https://localhost:8080/"
        },
        "id": "lUqgaANiy1wq",
        "outputId": "940e22ed-b3dc-434d-e180-24d28d1a7fb8"
      },
      "outputs": [
        {
          "output_type": "stream",
          "name": "stdout",
          "text": [
            "tensor([[1., 2.],\n",
            "        [3., 4.],\n",
            "        [5., 6.]])\n",
            "tensor([[ 7., 10.],\n",
            "        [ 8., 11.],\n",
            "        [ 9., 12.]])\n"
          ]
        }
      ],
      "source": [
        "# View tensor_A and tensor_B\n",
        "print(tensor_A)\n",
        "print(tensor_B)"
      ]
    },
    {
      "cell_type": "markdown",
      "source": [
        "kode ini menggunakan perintah print() untuk menampilkan nilai dari dua tensor yang telah didefinisikan sebelumnya, yaitu tensor_A dan tensor_B. Tensor tensor_A memiliki bentuk (shape) 3x2, yang berarti terdiri dari tiga baris dan dua kolom. Saat ditampilkan dengan print(tensor_A), hasilnya akan menunjukkan nilai-nilai tensor dalam format yang terstruktur, menampilkan setiap elemen sesuai dengan posisi baris dan kolomnya. Pada contoh ini, nilai-nilai dari tensor_A adalah:\n",
        "\n",
        "lua\n",
        "Copy code\n",
        "tensor([[1., 2.],\n",
        "        [3., 4.],\n",
        "        [5., 6.]])\n",
        "Sementara itu, tensor tensor_B juga memiliki bentuk (shape) 3x2, sehingga terdiri dari tiga baris dan dua kolom yang sama seperti tensor_A. Ketika di-print menggunakan print(tensor_B), hasilnya menampilkan nilai-nilai dalam tensor ini, menunjukkan elemen-elemen tensor yang memiliki nilai yang berbeda dari tensor_A. Contoh nilai-nilai dari tensor_B adalah:\n",
        "\n",
        "lua\n",
        "Copy code\n",
        "tensor([[ 7., 10.],\n",
        "        [ 8., 11.],\n",
        "        [ 9., 12.]])\n",
        "Kedua tensor tersebut memiliki bentuk yang serupa tetapi berbeda nilai-nilainya, yang tercermin dalam hasil cetakan ketika mereka ditampilkan. Ini memperlihatkan isi atau nilai-nilai dari masing-masing tensor dalam format yang mudah dibaca, membantu dalam memeriksa dan memahami nilai-nilai yang disimpan dalam tensor."
      ],
      "metadata": {
        "id": "UMIkJ3Bm40lE"
      }
    },
    {
      "cell_type": "code",
      "execution_count": null,
      "metadata": {
        "colab": {
          "base_uri": "https://localhost:8080/"
        },
        "id": "DveqxO7iy_Fi",
        "outputId": "1ea2cc3e-d2ca-4cbc-a4a2-ab54e577dd1e"
      },
      "outputs": [
        {
          "output_type": "stream",
          "name": "stdout",
          "text": [
            "tensor([[1., 2.],\n",
            "        [3., 4.],\n",
            "        [5., 6.]])\n",
            "tensor([[ 7.,  8.,  9.],\n",
            "        [10., 11., 12.]])\n"
          ]
        }
      ],
      "source": [
        "# View tensor_A and tensor_B.T\n",
        "print(tensor_A)\n",
        "print(tensor_B.T)"
      ]
    },
    {
      "cell_type": "markdown",
      "source": [
        "Kode ini menggunakan perintah print() untuk menampilkan nilai dari dua tensor yang telah didefinisikan sebelumnya, yaitu tensor_A dan tensor_B yang sudah ditranspose (tensor_B.T).\n",
        "\n",
        "print(tensor_A) menampilkan nilai dari tensor tensor_A, yang memiliki bentuk (shape) 3x2, atau tiga baris dan dua kolom. Nilai-nilai tensor ini akan ditampilkan dalam format terstruktur yang menunjukkan setiap elemen sesuai dengan posisi baris dan kolomnya. Contoh nilai-nilai dari tensor_A adalah:\n",
        "lua\n",
        "Copy code\n",
        "tensor([[1., 2.],\n",
        "        [3., 4.],\n",
        "        [5., 6.]])\n",
        "print(tensor_B.T) menampilkan nilai dari tensor tensor_B yang telah ditranspose menggunakan metode .T(). Transpose mengubah baris menjadi kolom dan sebaliknya. Dalam konteks ini, tensor tensor_B memiliki bentuk (shape) 3x2, dan setelah dilakukan transpose, bentuknya menjadi 2x3 (dua baris dan tiga kolom). Ketika di-print, tensor_B.T akan menampilkan nilai-nilai tensor yang telah ditranspose ini, menunjukkan elemen-elemen tensor yang disusun ulang dalam format 2x3. Contoh nilai-nilai dari tensor_B.T adalah:\n",
        "lua\n",
        "Copy code\n",
        "tensor([[ 7.,  8.,  9.],\n",
        "        [10., 11., 12.]])\n",
        "Perbedaan antara tensor_B dan tensor_B.T adalah susunan nilai-nilai tensor dalam format yang berbeda karena transpose mengubah struktur baris dan kolom, sehingga tensor_B.T menampilkan tensor dengan baris dan kolom yang telah ditukar posisinya dari tensor_B."
      ],
      "metadata": {
        "id": "ICWBFvTy4_Is"
      }
    },
    {
      "cell_type": "code",
      "execution_count": null,
      "metadata": {
        "colab": {
          "base_uri": "https://localhost:8080/"
        },
        "id": "35rEIu-NKtVE",
        "outputId": "67434ae1-9369-48d0-f445-c65f2a30deb3"
      },
      "outputs": [
        {
          "output_type": "stream",
          "name": "stdout",
          "text": [
            "Original shapes: tensor_A = torch.Size([3, 2]), tensor_B = torch.Size([3, 2])\n",
            "\n",
            "New shapes: tensor_A = torch.Size([3, 2]) (same as above), tensor_B.T = torch.Size([2, 3])\n",
            "\n",
            "Multiplying: torch.Size([3, 2]) * torch.Size([2, 3]) <- inner dimensions match\n",
            "\n",
            "Output:\n",
            "\n",
            "tensor([[ 27.,  30.,  33.],\n",
            "        [ 61.,  68.,  75.],\n",
            "        [ 95., 106., 117.]])\n",
            "\n",
            "Output shape: torch.Size([3, 3])\n"
          ]
        }
      ],
      "source": [
        "# The operation works when tensor_B is transposed\n",
        "print(f\"Original shapes: tensor_A = {tensor_A.shape}, tensor_B = {tensor_B.shape}\\n\")\n",
        "print(f\"New shapes: tensor_A = {tensor_A.shape} (same as above), tensor_B.T = {tensor_B.T.shape}\\n\")\n",
        "print(f\"Multiplying: {tensor_A.shape} * {tensor_B.T.shape} <- inner dimensions match\\n\")\n",
        "print(\"Output:\\n\")\n",
        "output = torch.matmul(tensor_A, tensor_B.T)\n",
        "print(output)\n",
        "print(f\"\\nOutput shape: {output.shape}\")"
      ]
    },
    {
      "cell_type": "markdown",
      "source": [
        "ode ini memperlihatkan operasi perkalian matriks antara dua tensor, tensor_A dan tensor_B yang sudah ditranspose (tensor_B.T), serta menampilkan informasi tentang bentuk (shape) dari tensor sebelum dan setelah dilakukan transpose.\n",
        "\n",
        "print(f\"Original shapes: tensor_A = {tensor_A.shape}, tensor_B = {tensor_B.shape}\\n\") menampilkan bentuk (shape) awal dari tensor tensor_A dan tensor_B. Pada contoh ini, tensor_A adalah tensor dengan bentuk 3x2 (tiga baris dan dua kolom), sedangkan tensor_B juga memiliki bentuk yang sama, yaitu 3x2.\n",
        "\n",
        "print(f\"New shapes: tensor_A = {tensor_A.shape} (same as above), tensor_B.T = {tensor_B.T.shape}\\n\") menampilkan bentuk (shape) baru setelah melakukan transpose pada tensor_B. Setelah dilakukan transpose, tensor_B.T memiliki bentuk 2x3 (dua baris dan tiga kolom), sementara bentuk tensor_A tetap 3x2.\n",
        "\n",
        "print(f\"Multiplying: {tensor_A.shape} * {tensor_B.T.shape} <- inner dimensions match\\n\") memberikan informasi tentang dimensi tensor yang akan dikalikan. Inner dimensions (dimensi dalam) dari kedua tensor adalah 3 dan 2, yang memenuhi persyaratan operasi perkalian matriks karena jumlah kolom dari tensor_A sama dengan jumlah baris dari tensor_B.T.\n",
        "\n",
        "output = torch.matmul(tensor_A, tensor_B.T) melakukan operasi perkalian matriks antara tensor_A dan tensor_B.T. Karena kedua tensor memiliki dimensi yang sesuai untuk operasi perkalian matriks, hasilnya adalah tensor baru yang berisi hasil perkalian matriks antara kedua tensor tersebut.\n",
        "\n",
        "print(output) menampilkan hasil dari operasi perkalian matriks antara tensor_A dan tensor_B.T.\n",
        "\n",
        "print(f\"\\nOutput shape: {output.shape}\") menampilkan bentuk (shape) dari hasil operasi, yang dalam kasus ini adalah tensor dengan bentuk 3x3 (tiga baris dan tiga kolom), karena hasil perkalian matriks antara tensor_A (3x2) dan tensor_B.T (2x3) akan menghasilkan tensor dengan bentuk 3x3."
      ],
      "metadata": {
        "id": "fJNABu_j5cGv"
      }
    },
    {
      "cell_type": "markdown",
      "source": [],
      "metadata": {
        "id": "IJET541I5L4N"
      }
    },
    {
      "cell_type": "markdown",
      "metadata": {
        "id": "MfcFEqfLjN24"
      },
      "source": [
        "You can also use [`torch.mm()`](https://pytorch.org/docs/stable/generated/torch.mm.html) which is a short for `torch.matmul()`."
      ]
    },
    {
      "cell_type": "code",
      "execution_count": null,
      "metadata": {
        "colab": {
          "base_uri": "https://localhost:8080/"
        },
        "id": "x3rJvW_TTGe_",
        "outputId": "e18e1748-48e9-49d4-8a0f-950fe5ec8130"
      },
      "outputs": [
        {
          "output_type": "execute_result",
          "data": {
            "text/plain": [
              "tensor([[ 27.,  30.,  33.],\n",
              "        [ 61.,  68.,  75.],\n",
              "        [ 95., 106., 117.]])"
            ]
          },
          "metadata": {},
          "execution_count": 42
        }
      ],
      "source": [
        "# torch.mm is a shortcut for matmul\n",
        "torch.mm(tensor_A, tensor_B.T)"
      ]
    },
    {
      "cell_type": "code",
      "execution_count": null,
      "metadata": {
        "colab": {
          "base_uri": "https://localhost:8080/"
        },
        "id": "mC_MjKW1LX7T",
        "outputId": "a0412995-e5ad-490c-ab02-afd23bda9b4f"
      },
      "outputs": [
        {
          "output_type": "stream",
          "name": "stdout",
          "text": [
            "Input shape: torch.Size([3, 2])\n",
            "\n",
            "Output:\n",
            "tensor([[2.2368, 1.2292, 0.4714, 0.3864, 0.1309, 0.9838],\n",
            "        [4.4919, 2.1970, 0.4469, 0.5285, 0.3401, 2.4777],\n",
            "        [6.7469, 3.1648, 0.4224, 0.6705, 0.5493, 3.9716]],\n",
            "       grad_fn=<AddmmBackward0>)\n",
            "\n",
            "Output shape: torch.Size([3, 6])\n"
          ]
        }
      ],
      "source": [
        "# Since the linear layer starts with a random weights matrix, let's make it reproducible (more on this later)\n",
        "torch.manual_seed(42)\n",
        "# This uses matrix multiplication\n",
        "linear = torch.nn.Linear(in_features=2, # in_features = matches inner dimension of input\n",
        "                         out_features=6) # out_features = describes outer value\n",
        "x = tensor_A\n",
        "output = linear(x)\n",
        "print(f\"Input shape: {x.shape}\\n\")\n",
        "print(f\"Output:\\n{output}\\n\\nOutput shape: {output.shape}\")"
      ]
    },
    {
      "cell_type": "code",
      "execution_count": null,
      "metadata": {
        "colab": {
          "base_uri": "https://localhost:8080/"
        },
        "id": "jrFQbe5fP1Rk",
        "outputId": "c3696c7d-b916-408e-dce3-8d5c219321d5"
      },
      "outputs": [
        {
          "output_type": "execute_result",
          "data": {
            "text/plain": [
              "tensor([ 0, 10, 20, 30, 40, 50, 60, 70, 80, 90])"
            ]
          },
          "metadata": {},
          "execution_count": 44
        }
      ],
      "source": [
        "# Create a tensor\n",
        "x = torch.arange(0, 100, 10)\n",
        "x"
      ]
    },
    {
      "cell_type": "markdown",
      "source": [
        "Potongan kode ini menggunakan fungsi torch.arange() untuk membuat tensor x. Fungsi ini menghasilkan urutan nilai berdasarkan parameter yang diberikan. Dalam kasus ini, torch.arange(0, 100, 10) membuat tensor dengan nilai mulai dari 0 hingga kurang dari 100, dengan interval 10 antara setiap nilai. Ini berarti tensor x akan berisi nilai dari 0 hingga 90 dengan selisih 10 antara setiap nilai berturut-turut.\n",
        "\n",
        "Hasilnya adalah tensor satu dimensi atau sering disebut sebagai vektor dengan nilai-nilai sebagai berikut:\n",
        "\n",
        "scss\n",
        "Copy code\n",
        "tensor([ 0, 10, 20, 30, 40, 50, 60, 70, 80, 90])\n",
        "Setiap elemen dalam tensor ini adalah hasil dari nilai-nilai yang di-generate oleh torch.arange() dengan menggunakan parameter yang diberikan, yaitu dimulai dari 0, kurang dari 100, dan dengan selisih 10 antara setiap nilai berturut-turut. Operasi ini menghasilkan urutan nilai yang bertambah secara berurutan sesuai dengan interval yang ditentukan."
      ],
      "metadata": {
        "id": "a1B8kqgn5qwO"
      }
    },
    {
      "cell_type": "markdown",
      "metadata": {
        "id": "-J-wfMdlsEco"
      },
      "source": [
        "Now let's perform some aggregation."
      ]
    },
    {
      "cell_type": "code",
      "execution_count": null,
      "metadata": {
        "colab": {
          "base_uri": "https://localhost:8080/"
        },
        "id": "e5wSP9YKP3Lb",
        "outputId": "cc39fde0-d6a9-48ef-f0a9-adfe855aea73"
      },
      "outputs": [
        {
          "output_type": "stream",
          "name": "stdout",
          "text": [
            "Minimum: 0\n",
            "Maximum: 90\n",
            "Mean: 45.0\n",
            "Sum: 450\n"
          ]
        }
      ],
      "source": [
        "print(f\"Minimum: {x.min()}\")\n",
        "print(f\"Maximum: {x.max()}\")\n",
        "# print(f\"Mean: {x.mean()}\") # this will error\n",
        "print(f\"Mean: {x.type(torch.float32).mean()}\") # won't work without float datatype\n",
        "print(f\"Sum: {x.sum()}\")"
      ]
    },
    {
      "cell_type": "markdown",
      "source": [
        "Potongan kode ini berfokus pada operasi statistik yang dilakukan pada tensor x, yang telah dibuat sebelumnya menggunakan torch.arange().\n",
        "\n",
        "print(f\"Minimum: {x.min()}\") menampilkan nilai minimum dari tensor x dengan menggunakan metode .min(). Ini mengembalikan nilai minimum dari seluruh elemen dalam tensor x, yang dalam hal ini adalah 0.\n",
        "\n",
        "print(f\"Maximum: {x.max()}\") menampilkan nilai maksimum dari tensor x dengan menggunakan metode .max(). Ini mengembalikan nilai maksimum dari seluruh elemen dalam tensor x, yang dalam hal ini adalah 90.\n",
        "\n",
        "print(f\"Mean: {x.type(torch.float32).mean()}\") berusaha untuk menghitung nilai rata-rata dari tensor x menggunakan metode .mean(). Namun, perlu diketahui bahwa operasi .mean() tidak dapat langsung diterapkan pada tensor yang memiliki tipe data non-floating point (non-float). Sebagai solusi, kode ini melakukan konversi tipe data tensor x ke float menggunakan x.type(torch.float32) sebelum memanggil .mean(). Hal ini memungkinkan perhitungan nilai rata-rata dari tensor x, yang dalam hal ini adalah 45.0.\n",
        "\n",
        "print(f\"Sum: {x.sum()}\") menghitung jumlah dari seluruh elemen dalam tensor x menggunakan metode .sum(). Hasilnya adalah penjumlahan dari seluruh nilai dalam tensor x, yang dalam hal ini adalah 450.\n",
        "\n",
        "Penting untuk diperhatikan bahwa perhitungan nilai rata-rata (mean()) tidak dapat langsung dilakukan pada tensor yang memiliki tipe data non-floating point, sehingga konversi tipe data ke float diperlukan agar operasi tersebut dapat berhasil dieksekusi.\n",
        "\n",
        "\n",
        "\n",
        "\n",
        "\n",
        "\n"
      ],
      "metadata": {
        "id": "5WIDaaJR5wVz"
      }
    },
    {
      "cell_type": "code",
      "execution_count": null,
      "metadata": {
        "colab": {
          "base_uri": "https://localhost:8080/"
        },
        "id": "0Cr23Y9uP3HO",
        "outputId": "b04e7673-92a4-40a7-e46b-9fe62d822b03"
      },
      "outputs": [
        {
          "output_type": "execute_result",
          "data": {
            "text/plain": [
              "(tensor(90), tensor(0), tensor(45.), tensor(450))"
            ]
          },
          "metadata": {},
          "execution_count": 46
        }
      ],
      "source": [
        "torch.max(x), torch.min(x), torch.mean(x.type(torch.float32)), torch.sum(x)"
      ]
    },
    {
      "cell_type": "code",
      "execution_count": null,
      "metadata": {
        "colab": {
          "base_uri": "https://localhost:8080/"
        },
        "id": "FzNBl9JSGlHi",
        "outputId": "a3f6247e-46bd-4303-f20b-260cdf1e9137"
      },
      "outputs": [
        {
          "output_type": "stream",
          "name": "stdout",
          "text": [
            "Tensor: tensor([10, 20, 30, 40, 50, 60, 70, 80, 90])\n",
            "Index where max value occurs: 8\n",
            "Index where min value occurs: 0\n"
          ]
        }
      ],
      "source": [
        "# Create a tensor\n",
        "tensor = torch.arange(10, 100, 10)\n",
        "print(f\"Tensor: {tensor}\")\n",
        "\n",
        "# Returns index of max and min values\n",
        "print(f\"Index where max value occurs: {tensor.argmax()}\")\n",
        "print(f\"Index where min value occurs: {tensor.argmin()}\")"
      ]
    },
    {
      "cell_type": "markdown",
      "source": [
        "Potongan kode ini menggabungkan beberapa operasi PyTorch pada tensor x, yang telah dibuat sebelumnya menggunakan torch.arange().\n",
        "\n",
        "torch.max(x) digunakan untuk mencari nilai maksimum dari tensor x. Fungsi torch.max() mengembalikan nilai maksimum dari tensor, bersama dengan indeks dari nilai maksimum tersebut. Dalam kasus ini, perintah ini hanya mengembalikan nilai maksimum dari tensor x, yaitu 90.\n",
        "\n",
        "torch.min(x) digunakan untuk menemukan nilai minimum dari tensor x. Sama seperti torch.max(), torch.min() mengembalikan nilai minimum dari tensor, bersama dengan indeks dari nilai minimum tersebut. Dalam hal ini, perintah ini hanya mengembalikan nilai minimum dari tensor x, yaitu 0.\n",
        "\n",
        "torch.mean(x.type(torch.float32)) menghitung nilai rata-rata dari tensor x. Operasi ini pertama-tama mengubah tipe data tensor x ke float menggunakan x.type(torch.float32) agar operasi mean() dapat diterapkan pada tensor dengan tipe data floating point. Kemudian, perintah ini menghitung rata-rata dari seluruh elemen dalam tensor x, yang dalam hal ini adalah 45.0.\n",
        "\n",
        "torch.sum(x) menghitung jumlah dari seluruh elemen dalam tensor x. Operasi ini akan menjumlahkan semua nilai yang ada dalam tensor x dan mengembalikan hasilnya, yang dalam hal ini adalah 450.\n",
        "\n",
        "Kombinasi dari perintah-perintah tersebut memberikan informasi statistik umum mengenai tensor x, seperti nilai maksimum, nilai minimum, nilai rata-rata, dan jumlah dari seluruh elemen yang ada dalam tensor tersebut."
      ],
      "metadata": {
        "id": "BxvW9K_x56lV"
      }
    },
    {
      "cell_type": "code",
      "execution_count": null,
      "metadata": {
        "colab": {
          "base_uri": "https://localhost:8080/"
        },
        "id": "rY2FEsCAOaLu",
        "outputId": "d06be885-3eea-4f6d-fc29-1cf5d6696074"
      },
      "outputs": [
        {
          "output_type": "execute_result",
          "data": {
            "text/plain": [
              "torch.float32"
            ]
          },
          "metadata": {},
          "execution_count": 48
        }
      ],
      "source": [
        "# Create a tensor and check its datatype\n",
        "tensor = torch.arange(10., 100., 10.)\n",
        "tensor.dtype"
      ]
    },
    {
      "cell_type": "markdown",
      "source": [
        "Potongan kode ini berfungsi untuk membuat sebuah tensor menggunakan fungsi torch.arange(), kemudian mengecek tipe data (datatype) dari tensor yang telah dibuat.\n",
        "\n",
        "torch.arange(10., 100., 10.) digunakan untuk membuat tensor yang berisi urutan nilai, dimulai dari 10, berakhir sebelum 100, dengan selisih antara nilai-nilai berturut-turut adalah 10. Dalam hal ini, angka 10.0 merupakan nilai awal dari urutan, 100.0 adalah nilai yang berhenti sebelum mencapai 100.0, dan 10.0 adalah selisih antara setiap nilai berturut-turut dalam urutan tersebut.\n",
        "\n",
        "tensor.dtype memeriksa dan mengembalikan tipe data (datatype) dari tensor yang telah dibuat sebelumnya. Kode tersebut akan menghasilkan tipe data dari tensor, yaitu torch.float32 (atau float32). Hal ini karena nilai-nilai dalam tensor dibuat dengan tipe data float (nilai desimal), dan secara default, jika tipe data tidak ditentukan secara eksplisit, PyTorch akan menggunakan torch.float32 sebagai tipe data bawaan untuk tensor numerik.\n",
        "\n",
        "Dalam konteks ini, kode tersebut menghasilkan dan memeriksa tensor yang berisi urutan nilai-nilai dalam format floating point (desimal) dengan tipe data float32."
      ],
      "metadata": {
        "id": "VyRA9ZKU6j4S"
      }
    },
    {
      "cell_type": "markdown",
      "metadata": {
        "id": "jR30FHEc92of"
      },
      "source": [
        "Now we'll create another tensor the same as before but change its datatype to `torch.float16`.\n",
        "\n"
      ]
    },
    {
      "cell_type": "code",
      "execution_count": null,
      "metadata": {
        "colab": {
          "base_uri": "https://localhost:8080/"
        },
        "id": "Cac8gRYjOeab",
        "outputId": "400a6cbe-bb12-4eb9-b10a-c03a875aa3bc"
      },
      "outputs": [
        {
          "output_type": "execute_result",
          "data": {
            "text/plain": [
              "tensor([10., 20., 30., 40., 50., 60., 70., 80., 90.], dtype=torch.float16)"
            ]
          },
          "metadata": {},
          "execution_count": 49
        }
      ],
      "source": [
        "# Create a float16 tensor\n",
        "tensor_float16 = tensor.type(torch.float16)\n",
        "tensor_float16"
      ]
    },
    {
      "cell_type": "markdown",
      "source": [
        "Potongan kode ini mengubah tipe data (datatype) dari sebuah tensor yang telah dibuat sebelumnya, tensor, menjadi torch.float16 menggunakan metode .type() dari PyTorch.\n",
        "\n",
        "tensor.type(torch.float16) adalah operasi yang mengonversi tensor yang sudah ada (tensor) menjadi tipe data torch.float16, yang merupakan tipe data floating point dengan presisi setengah (16-bit). Operasi ini menghasilkan tensor baru dengan tipe data yang diubah sesuai dengan yang diinginkan.\n",
        "\n",
        "tensor_float16 merupakan hasil dari operasi konversi tersebut, dan akan berisi nilai-nilai yang sama dengan tensor yang asli, tetapi dalam tipe data torch.float16. Penting untuk dicatat bahwa penggunaan tipe data float16 dapat mengurangi presisi dari nilai-nilai dalam tensor, namun pada saat yang sama, dapat menghemat ruang memori dan mempercepat operasi komputasi, terutama saat bekerja dengan perangkat keras yang mendukung operasi floating point setengah (16-bit).\n",
        "\n",
        "Dalam konteks ini, tensor_float16 akan berisi nilai-nilai yang sama dengan tensor, tetapi dengan tipe data yang berbeda, yaitu torch.float16. Penyesuaian tipe data tensor sering kali digunakan untuk mengoptimalkan penggunaan memori dan kinerja komputasi pada berbagai operasi yang membutuhkan presisi yang lebih rendah."
      ],
      "metadata": {
        "id": "zxIOBjAl6wpm"
      }
    },
    {
      "cell_type": "markdown",
      "metadata": {
        "id": "ndVlKJZ4-7_5"
      },
      "source": [
        "And we can do something similar to make a `torch.int8` tensor."
      ]
    },
    {
      "cell_type": "code",
      "execution_count": null,
      "metadata": {
        "colab": {
          "base_uri": "https://localhost:8080/"
        },
        "id": "8Yqovld2Oj6s",
        "outputId": "356cd666-5193-4301-fcc5-370e27e633fa"
      },
      "outputs": [
        {
          "output_type": "execute_result",
          "data": {
            "text/plain": [
              "tensor([10, 20, 30, 40, 50, 60, 70, 80, 90], dtype=torch.int8)"
            ]
          },
          "metadata": {},
          "execution_count": 50
        }
      ],
      "source": [
        "# Create a int8 tensor\n",
        "tensor_int8 = tensor.type(torch.int8)\n",
        "tensor_int8"
      ]
    },
    {
      "cell_type": "markdown",
      "source": [
        "\n",
        "Potongan kode ini mencoba untuk mengubah tipe data (datatype) dari sebuah tensor yang telah dibuat sebelumnya, tensor, menjadi torch.int8 menggunakan metode .type() dari PyTorch.\n",
        "\n",
        "Namun, terdapat sebuah perhatian penting terkait dengan konversi ke torch.int8. Tipe data int8 merupakan tipe data integer dengan 8-bit. Rentang nilai yang dapat direpresentasikan dalam tipe data ini adalah dari -128 hingga 127. Namun, urutan nilai yang dihasilkan oleh torch.arange(10., 100., 10.) tidak dapat direpresentasikan dalam tipe data int8 karena nilai terkecil dalam urutan tersebut (nilai 10.0) lebih besar daripada nilai minimum yang dapat direpresentasikan dalam int8 (yaitu -128). Akibatnya, konversi tersebut tidak dapat dilakukan secara tepat.\n",
        "\n",
        "Kode yang diberikan (tensor.type(torch.int8)) pada dasarnya berusaha untuk mengubah tipe data tensor tensor menjadi torch.int8. Namun, karena batasan representasi nilai pada int8, hasilnya akan terbatas pada nilai-nilai yang dapat direpresentasikan dalam tipe data int8, dan nilai-nilai di luar rentang tersebut akan terpotong atau diubah menjadi nilai yang dapat direpresentasikan.\n",
        "\n",
        "Penting untuk dicatat bahwa operasi konversi ke int8 memerlukan perhatian khusus terhadap rentang nilai yang dapat direpresentasikan dalam tipe data tersebut, dan memastikan bahwa nilai-nilai yang ada tidak melebihi batas yang diperbolehkan dalam tipe data int8 untuk menghindari potensi kehilangan informasi atau perubahan nilai yang tidak diinginkan."
      ],
      "metadata": {
        "id": "eBs6l3EC6zqc"
      }
    },
    {
      "cell_type": "code",
      "execution_count": null,
      "metadata": {
        "colab": {
          "base_uri": "https://localhost:8080/"
        },
        "id": "EYjRTLOzG4Ev",
        "outputId": "c637a9e2-7dca-4a3e-f3d8-2e154c871fc9"
      },
      "outputs": [
        {
          "output_type": "execute_result",
          "data": {
            "text/plain": [
              "(tensor([1., 2., 3., 4., 5., 6., 7.]), torch.Size([7]))"
            ]
          },
          "metadata": {},
          "execution_count": 51
        }
      ],
      "source": [
        "# Create a tensor\n",
        "import torch\n",
        "x = torch.arange(1., 8.)\n",
        "x, x.shape"
      ]
    },
    {
      "cell_type": "markdown",
      "source": [
        "\n",
        "Potongan kode ini menggunakan PyTorch untuk membuat sebuah tensor bernama x menggunakan fungsi torch.arange().\n",
        "\n",
        "torch.arange(1., 8.) menciptakan sebuah tensor yang berisi urutan nilai dari 1.0 hingga kurang dari 8.0 dengan selisih 1 antara setiap nilai berturut-turut. Dalam hal ini, nilai 1.0 adalah nilai awal dari urutan, dan 8.0 adalah nilai yang berhenti sebelum mencapai 8.0.\n",
        "\n",
        "x merupakan hasil dari operasi torch.arange(), dan akan berisi nilai-nilai dalam urutan tersebut. Dalam hal ini, x akan berisi nilai-nilai berikut: tensor ([1., 2., 3., 4., 5., 6., 7.]).\n",
        "\n",
        "x.shape adalah atribut yang digunakan untuk memeriksa bentuk (shape) dari tensor x. Hasilnya adalah (7,), yang menunjukkan bahwa x adalah tensor satu dimensi (atau sering disebut vektor) dengan panjang 7 (memiliki 7 elemen).\n",
        "\n",
        "Jadi, secara keseluruhan, kode tersebut membuat tensor x yang berisi urutan nilai dari 1.0 hingga 7.0 dengan selisih 1 antara setiap nilai berturut-turut, dan x merupakan vektor satu dimensi dengan panjang 7.\n",
        "\n",
        "\n",
        "\n",
        "\n",
        "\n"
      ],
      "metadata": {
        "id": "iEYyX-079s9b"
      }
    },
    {
      "cell_type": "markdown",
      "metadata": {
        "id": "3_VarMO9CoT8"
      },
      "source": [
        "Now let's add an extra dimension with `torch.reshape()`."
      ]
    },
    {
      "cell_type": "code",
      "execution_count": null,
      "metadata": {
        "colab": {
          "base_uri": "https://localhost:8080/"
        },
        "id": "US4WjpQ3SG-8",
        "outputId": "b3e8ae6e-bfe8-43b6-deba-7f2919bbe054"
      },
      "outputs": [
        {
          "output_type": "execute_result",
          "data": {
            "text/plain": [
              "(tensor([[1., 2., 3., 4., 5., 6., 7.]]), torch.Size([1, 7]))"
            ]
          },
          "metadata": {},
          "execution_count": 52
        }
      ],
      "source": [
        "# Add an extra dimension\n",
        "x_reshaped = x.reshape(1, 7)\n",
        "x_reshaped, x_reshaped.shape"
      ]
    },
    {
      "cell_type": "markdown",
      "source": [
        "Potongan kode ini menggunakan metode .reshape() dari PyTorch untuk mengubah tampilan tensor x yang sudah ada menjadi tensor dengan dimensi baru.\n",
        "\n",
        "x.reshape(1, 7) adalah operasi yang mengubah bentuk (shape) dari tensor x dari bentuk awalnya (sebuah tensor satu dimensi) menjadi sebuah tensor dua dimensi. Dalam operasi ini, 1 mengindikasikan jumlah baris (atau dimensi pertama) yang diinginkan, dan 7 mengindikasikan jumlah kolom (atau dimensi kedua) yang diinginkan untuk tensor baru.\n",
        "\n",
        "x_reshaped adalah hasil dari operasi tersebut, dan akan berisi nilai-nilai dari tensor x yang disusun dalam format dua dimensi. Dalam konteks ini, x_reshaped akan menjadi tensor dengan bentuk (1, 7), yang mengindikasikan bahwa tensor tersebut memiliki satu baris dan tujuh kolom.\n",
        "\n",
        "x_reshaped.shape digunakan untuk memeriksa bentuk (shape) dari tensor x_reshaped. Hasilnya adalah (1, 7), yang menunjukkan bahwa x_reshaped adalah tensor dua dimensi dengan satu baris dan tujuh kolom.\n",
        "\n",
        "Dengan menggunakan metode .reshape(), kode tersebut menghasilkan tensor x_reshaped yang merupakan representasi ulang dari tensor x ke dalam bentuk dua dimensi dengan satu baris dan tujuh kolom."
      ],
      "metadata": {
        "id": "jmwFK3mG9t_L"
      }
    },
    {
      "cell_type": "markdown",
      "metadata": {
        "id": "tig5xm0jCxuU"
      },
      "source": [
        "We can also change the view with `torch.view()`."
      ]
    },
    {
      "cell_type": "code",
      "execution_count": null,
      "metadata": {
        "colab": {
          "base_uri": "https://localhost:8080/"
        },
        "id": "WDN2BNe5TGfB",
        "outputId": "e564f5ac-df43-4770-9b64-faf00686c7d6"
      },
      "outputs": [
        {
          "output_type": "execute_result",
          "data": {
            "text/plain": [
              "(tensor([[1., 2., 3., 4., 5., 6., 7.]]), torch.Size([1, 7]))"
            ]
          },
          "metadata": {},
          "execution_count": 53
        }
      ],
      "source": [
        "# Change view (keeps same data as original but changes view)\n",
        "# See more: https://stackoverflow.com/a/54507446/7900723\n",
        "z = x.view(1, 7)\n",
        "z, z.shape"
      ]
    },
    {
      "cell_type": "markdown",
      "source": [
        "Potongan kode ini menggunakan metode .view() dari PyTorch untuk mengubah tampilan (view) dari tensor x menjadi tensor baru dengan bentuk yang berbeda, tetapi tetap memiliki data yang sama.\n",
        "\n",
        "x.view(1, 7) adalah operasi yang mengubah bentuk (shape) dari tensor x ke dalam bentuk yang baru. Angka 1 menunjukkan jumlah baris (atau dimensi pertama) yang diinginkan, dan 7 menunjukkan jumlah kolom (atau dimensi kedua) yang diinginkan untuk tensor yang baru.\n",
        "\n",
        "z adalah hasil dari operasi tersebut, yang akan berisi nilai-nilai yang sama seperti tensor x, tetapi dalam tampilan yang diubah menjadi tensor dengan bentuk (1, 7).\n",
        "\n",
        "z.shape digunakan untuk memeriksa bentuk (shape) dari tensor z. Hasilnya adalah (1, 7), menunjukkan bahwa z adalah tensor dua dimensi dengan satu baris dan tujuh kolom, sama seperti x_reshaped pada contoh sebelumnya.\n",
        "\n",
        "Perlu dicatat bahwa metode .view() dalam PyTorch memungkinkan untuk mengubah tampilan tensor tanpa mengubah datanya. Ini berguna saat ingin mengubah bentuk tensor tanpa mengubah isi atau nilai-nilai yang ada dalam tensor. Dalam konteks ini, z adalah representasi ulang dari x ke dalam bentuk tensor dua dimensi dengan satu baris dan tujuh kolom, tetapi data atau nilai-nilai di dalamnya tetap sama dengan tensor x."
      ],
      "metadata": {
        "id": "xSKHx255-E8D"
      }
    },
    {
      "cell_type": "code",
      "execution_count": null,
      "metadata": {
        "colab": {
          "base_uri": "https://localhost:8080/"
        },
        "id": "2DxURVvXTGfC",
        "outputId": "dacb144d-0ecd-4e67-a87d-916de9a6f3ad"
      },
      "outputs": [
        {
          "output_type": "execute_result",
          "data": {
            "text/plain": [
              "(tensor([[5., 2., 3., 4., 5., 6., 7.]]), tensor([5., 2., 3., 4., 5., 6., 7.]))"
            ]
          },
          "metadata": {},
          "execution_count": 54
        }
      ],
      "source": [
        "# Changing z changes x\n",
        "z[:, 0] = 5\n",
        "z, x"
      ]
    },
    {
      "cell_type": "code",
      "execution_count": null,
      "metadata": {
        "colab": {
          "base_uri": "https://localhost:8080/"
        },
        "id": "pX5Adf3ORiTK",
        "outputId": "7ac38ee4-86e6-46c5-df4f-f9a7628321cc"
      },
      "outputs": [
        {
          "output_type": "execute_result",
          "data": {
            "text/plain": [
              "tensor([[5., 2., 3., 4., 5., 6., 7.],\n",
              "        [5., 2., 3., 4., 5., 6., 7.],\n",
              "        [5., 2., 3., 4., 5., 6., 7.],\n",
              "        [5., 2., 3., 4., 5., 6., 7.]])"
            ]
          },
          "metadata": {},
          "execution_count": 55
        }
      ],
      "source": [
        "# Stack tensors on top of each other\n",
        "x_stacked = torch.stack([x, x, x, x], dim=0) # try changing dim to dim=1 and see what happens\n",
        "x_stacked"
      ]
    },
    {
      "cell_type": "markdown",
      "source": [
        "Potongan kode ini mencoba untuk mengilustrasikan hubungan antara tensor z yang merupakan hasil dari operasi .view() terhadap tensor x, serta dampak dari perubahan nilai pada tensor z terhadap tensor x yang asli.\n",
        "\n",
        "z[:, 0] = 5 adalah operasi yang mengubah nilai pada kolom pertama (indeks 0) dari tensor z menjadi nilai 5 untuk setiap elemen di kolom tersebut.\n",
        "\n",
        "Setelah operasi tersebut dieksekusi, z akan menjadi tensor yang nilainya diubah menjadi 5 pada kolom pertama, tetapi yang penting untuk dicatat adalah bahwa ini juga mempengaruhi tensor x. Hal ini terjadi karena tensor z sebenarnya adalah tampilan (view) dari tensor x. Ketika menggunakan .view() untuk membuat z, keduanya masih memiliki referensi ke memori yang sama, sehingga perubahan yang dilakukan pada z juga tercermin pada x.\n",
        "\n",
        "Hasil cetakan z menunjukkan perubahan nilai menjadi tensor([[5., 2., 3., 4., 5., 6., 7.]]). Dan ketika x dicetak, nilai-nilai dalam tensor tersebut juga akan terpengaruh, menampilkan hasil yang sama dengan z.\n",
        "\n",
        "Jadi, dalam konteks ini, mengubah nilai di tensor z yang merupakan tampilan dari tensor x juga mempengaruhi nilai-nilai di tensor x asli karena keduanya berbagi memori yang sama. Hal ini mengilustrasikan konsep bahwa perubahan yang terjadi pada tensor yang merupakan view dari tensor lainnya juga akan tercermin pada tensor aslinya karena keduanya saling terhubung dalam memori yang sama."
      ],
      "metadata": {
        "id": "enyWqPfp-PgQ"
      }
    },
    {
      "cell_type": "code",
      "execution_count": null,
      "metadata": {
        "colab": {
          "base_uri": "https://localhost:8080/"
        },
        "id": "w2Y2HEoDRxJZ",
        "outputId": "6598f01b-c0da-425e-d8e6-75fc1c4d4020"
      },
      "outputs": [
        {
          "output_type": "stream",
          "name": "stdout",
          "text": [
            "Previous tensor: tensor([[5., 2., 3., 4., 5., 6., 7.]])\n",
            "Previous shape: torch.Size([1, 7])\n",
            "\n",
            "New tensor: tensor([5., 2., 3., 4., 5., 6., 7.])\n",
            "New shape: torch.Size([7])\n"
          ]
        }
      ],
      "source": [
        "print(f\"Previous tensor: {x_reshaped}\")\n",
        "print(f\"Previous shape: {x_reshaped.shape}\")\n",
        "\n",
        "# Remove extra dimension from x_reshaped\n",
        "x_squeezed = x_reshaped.squeeze()\n",
        "print(f\"\\nNew tensor: {x_squeezed}\")\n",
        "print(f\"New shape: {x_squeezed.shape}\")"
      ]
    },
    {
      "cell_type": "markdown",
      "source": [
        "Potongan kode ini memperlihatkan penggunaan metode .squeeze() pada tensor x_reshaped untuk mengurangi dimensi yang tidak perlu, seperti dimensi yang hanya memiliki panjang 1.\n",
        "\n",
        "x_reshaped adalah tensor hasil dari operasi sebelumnya yang diubah menjadi bentuk dua dimensi (1, 7) menggunakan metode .reshape() atau .view().\n",
        "\n",
        "x_reshaped.shape mengembalikan bentuk tensor x_reshaped sebelum dilakukan perubahan, yang merupakan tuple (1, 7) menunjukkan bahwa tensor tersebut memiliki satu baris dan tujuh kolom.\n",
        "\n",
        "x_squeezed = x_reshaped.squeeze() adalah operasi yang menghasilkan tensor baru x_squeezed dengan menghilangkan dimensi yang memiliki panjang 1 dari tensor x_reshaped. Dalam kasus ini, dimensi pertama yang memiliki panjang 1 dihilangkan sehingga tensor yang dihasilkan memiliki bentuk (7,), yang menunjukkan bahwa tensor tersebut merupakan tensor satu dimensi dengan panjang 7.\n",
        "\n",
        "Setelah operasi .squeeze() dieksekusi, hasil cetakan x_squeezed menunjukkan tensor yang memiliki bentuk (7,), menunjukkan bahwa tensor tersebut telah kehilangan dimensi yang hanya memiliki panjang 1. Sedangkan hasil cetakan x_reshaped tetap menampilkan bentuk (1, 7) dari tensor sebelum di-squeeze.\n",
        "\n",
        "Penggunaan .squeeze() berguna ketika ingin menghilangkan dimensi yang tidak diperlukan, seperti ketika bekerja dengan tensor yang memiliki dimensi yang tidak relevan atau memiliki panjang 1. Hal ini mempermudah operasi tensor dan mengurangi kompleksitas dimensi yang tidak diperlukan dalam komputasi. Dalam hal ini, x_squeezed adalah hasil dari x_reshaped yang telah di-squeeze, sehingga menghasilkan tensor satu dimensi dengan bentuk (7,) yang lebih sederhana."
      ],
      "metadata": {
        "id": "E1oYUeeX-bh9"
      }
    },
    {
      "cell_type": "code",
      "execution_count": null,
      "metadata": {
        "colab": {
          "base_uri": "https://localhost:8080/"
        },
        "id": "CUC-DEEwSYv7",
        "outputId": "4930d0dc-2886-4ef3-c94e-797ce6cea33f"
      },
      "outputs": [
        {
          "output_type": "stream",
          "name": "stdout",
          "text": [
            "Previous tensor: tensor([5., 2., 3., 4., 5., 6., 7.])\n",
            "Previous shape: torch.Size([7])\n",
            "\n",
            "New tensor: tensor([[5., 2., 3., 4., 5., 6., 7.]])\n",
            "New shape: torch.Size([1, 7])\n"
          ]
        }
      ],
      "source": [
        "print(f\"Previous tensor: {x_squeezed}\")\n",
        "print(f\"Previous shape: {x_squeezed.shape}\")\n",
        "\n",
        "## Add an extra dimension with unsqueeze\n",
        "x_unsqueezed = x_squeezed.unsqueeze(dim=0)\n",
        "print(f\"\\nNew tensor: {x_unsqueezed}\")\n",
        "print(f\"New shape: {x_unsqueezed.shape}\")"
      ]
    },
    {
      "cell_type": "markdown",
      "source": [
        "Potongan kode ini menggunakan metode .unsqueeze() pada tensor x_squeezed untuk menambah dimensi baru ke dalam tensor yang telah memiliki bentuk yang lebih sederhana.\n",
        "\n",
        "x_squeezed adalah tensor hasil dari operasi sebelumnya yang telah di-squeeze sehingga memiliki bentuk satu dimensi (7,).\n",
        "\n",
        "x_squeezed.shape memberikan bentuk (shape) dari tensor x_squeezed sebelum dilakukan perubahan, yaitu (7,), menunjukkan bahwa tensor tersebut merupakan tensor satu dimensi dengan panjang 7.\n",
        "\n",
        "x_unsqueezed = x_squeezed.unsqueeze(dim=0) adalah operasi yang menambahkan dimensi baru ke tensor x_squeezed. Dalam kasus ini, dimensi baru dengan panjang 1 ditambahkan di dimensi pertama (dengan parameter dim=0). Hasilnya adalah tensor dengan bentuk (1, 7), menunjukkan bahwa tensor tersebut memiliki satu baris dan tujuh kolom.\n",
        "\n",
        "Setelah operasi .unsqueeze() dieksekusi, hasil cetakan x_unsqueezed menampilkan tensor yang memiliki bentuk (1, 7), menunjukkan bahwa dimensi baru telah ditambahkan ke dalam tensor. Sedangkan hasil cetakan x_squeezed tetap menunjukkan bentuk (7,) dari tensor sebelum dilakukan penambahan dimensi.\n",
        "\n",
        "Penggunaan .unsqueeze() berguna ketika ingin menambah dimensi baru ke dalam tensor, terutama saat bekerja dengan tensor yang perlu dimodifikasi bentuknya untuk operasi tertentu, seperti operasi pada dimensi spesifik atau operasi yang memerlukan bentuk tensor tertentu. Dalam hal ini, x_unsqueezed adalah hasil dari x_squeezed yang telah ditambah dimensi sehingga menghasilkan tensor dengan bentuk (1, 7)."
      ],
      "metadata": {
        "id": "3UXq5TDd-pBX"
      }
    },
    {
      "cell_type": "code",
      "execution_count": null,
      "metadata": {
        "colab": {
          "base_uri": "https://localhost:8080/"
        },
        "id": "fCRGCX8DTGfC",
        "outputId": "19cf3437-1769-4bd8-e6e4-c6f856c344a6"
      },
      "outputs": [
        {
          "output_type": "stream",
          "name": "stdout",
          "text": [
            "Previous shape: torch.Size([224, 224, 3])\n",
            "New shape: torch.Size([3, 224, 224])\n"
          ]
        }
      ],
      "source": [
        "# Create tensor with specific shape\n",
        "x_original = torch.rand(size=(224, 224, 3))\n",
        "\n",
        "# Permute the original tensor to rearrange the axis order\n",
        "x_permuted = x_original.permute(2, 0, 1) # shifts axis 0->1, 1->2, 2->0\n",
        "\n",
        "print(f\"Previous shape: {x_original.shape}\")\n",
        "print(f\"New shape: {x_permuted.shape}\")"
      ]
    },
    {
      "cell_type": "markdown",
      "source": [
        "\n",
        "Potongan kode ini menggunakan metode .permute() pada tensor x_original untuk mengubah urutan sumbu atau axis dari tensor tersebut.\n",
        "\n",
        "x_original = torch.rand(size=(224, 224, 3)) menciptakan tensor dengan bentuk awal (224, 224, 3). Hal ini menunjukkan bahwa tensor tersebut memiliki dimensi 224 pada sumbu pertama dan kedua, serta memiliki dimensi 3 pada sumbu ketiga.\n",
        "\n",
        "x_original.shape memberikan informasi tentang bentuk (shape) dari tensor x_original sebelum perubahan, yaitu (224, 224, 3). Hal ini menunjukkan bahwa tensor tersebut memiliki dimensi 224 pada sumbu pertama dan kedua, serta dimensi 3 pada sumbu ketiga.\n",
        "\n",
        "x_permuted = x_original.permute(2, 0, 1) adalah operasi yang menggunakan metode .permute() untuk mengubah urutan sumbu atau axis pada tensor x_original. Dalam kasus ini, urutan sumbu yang baru adalah (2, 0, 1), yang mengubah posisi sumbu ketiga menjadi sumbu pertama, sumbu pertama menjadi sumbu kedua, dan sumbu kedua menjadi sumbu ketiga.\n",
        "\n",
        "Setelah operasi .permute() dieksekusi, hasil cetakan x_permuted menunjukkan tensor yang telah mengalami perubahan urutan sumbu. Bentuk tensor baru adalah (3, 224, 224), yang menandakan bahwa sumbu pertama memiliki panjang 3, sumbu kedua memiliki panjang 224, dan sumbu ketiga memiliki panjang 224.\n",
        "\n",
        "Penggunaan .permute() berguna ketika ingin mengubah urutan sumbu atau axis dari tensor. Ini dapat diperlukan saat bekerja dengan data seperti citra, di mana perubahan urutan sumbu dapat berguna untuk mempersiapkan data untuk pemrosesan atau model tertentu yang memerlukan urutan sumbu yang berbeda. Dalam hal ini, x_permuted adalah hasil dari x_original yang telah mengalami perubahan urutan sumbu."
      ],
      "metadata": {
        "id": "zpE2--iN-ueY"
      }
    },
    {
      "cell_type": "code",
      "execution_count": null,
      "metadata": {
        "colab": {
          "base_uri": "https://localhost:8080/"
        },
        "id": "oSXzdxCQTGfD",
        "outputId": "d1918cbf-e07d-4f87-a7f4-03983b0b7948"
      },
      "outputs": [
        {
          "output_type": "execute_result",
          "data": {
            "text/plain": [
              "(tensor([[[1, 2, 3],\n",
              "          [4, 5, 6],\n",
              "          [7, 8, 9]]]),\n",
              " torch.Size([1, 3, 3]))"
            ]
          },
          "metadata": {},
          "execution_count": 59
        }
      ],
      "source": [
        "# Create a tensor\n",
        "import torch\n",
        "x = torch.arange(1, 10).reshape(1, 3, 3)\n",
        "x, x.shape"
      ]
    },
    {
      "cell_type": "markdown",
      "source": [
        "Potongan kode ini membuat tensor x menggunakan fungsi torch.arange() untuk menghasilkan nilai dari 1 hingga 9, kemudian diubah bentuknya menjadi tensor tiga dimensi dengan ukuran (1, 3, 3).\n",
        "\n",
        "torch.arange(1, 10) menghasilkan sebuah tensor yang berisi nilai dari 1 hingga 9 (inklusif untuk 1, eksklusif untuk 10), membentuk sebuah tensor satu dimensi.\n",
        "\n",
        ".reshape(1, 3, 3) adalah operasi yang mengubah bentuk (shape) dari tensor yang dihasilkan sebelumnya menjadi bentuk tiga dimensi (1, 3, 3). Dalam kasus ini, 1 mengindikasikan jumlah batch (atau jumlah contoh dalam batch), dan kedua angka 3 mengindikasikan jumlah baris dan kolom yang diinginkan untuk setiap batch.\n",
        "\n",
        "Hasil cetakan x menunjukkan tensor yang terbentuk, yaitu tensor tiga dimensi dengan bentuk (1, 3, 3). Ini menandakan bahwa tensor tersebut adalah satu batch data dengan masing-masing sampel dalam batch tersebut memiliki tiga baris dan tiga kolom.\n",
        "\n",
        "Jadi, x adalah tensor tiga dimensi yang mewakili satu batch data dengan ukuran (1, 3, 3). Hal ini bisa digunakan dalam konteks pengolahan data dalam deep learning di mana satu batch data memiliki tiga baris dan tiga kolom untuk setiap sampelnya."
      ],
      "metadata": {
        "id": "M7iyRoTC-75p"
      }
    },
    {
      "cell_type": "markdown",
      "metadata": {
        "id": "xQG5krnKG43B"
      },
      "source": [
        "Indexing values goes outer dimension -> inner dimension (check out the square brackets)."
      ]
    },
    {
      "cell_type": "code",
      "execution_count": null,
      "metadata": {
        "colab": {
          "base_uri": "https://localhost:8080/"
        },
        "id": "zv_Z3IAzTGfD",
        "outputId": "5365f2ba-ecd3-40dc-d562-8048224cc504"
      },
      "outputs": [
        {
          "output_type": "stream",
          "name": "stdout",
          "text": [
            "First square bracket:\n",
            "tensor([[1, 2, 3],\n",
            "        [4, 5, 6],\n",
            "        [7, 8, 9]])\n",
            "Second square bracket: tensor([1, 2, 3])\n",
            "Third square bracket: 1\n"
          ]
        }
      ],
      "source": [
        "# Let's index bracket by bracket\n",
        "print(f\"First square bracket:\\n{x[0]}\")\n",
        "print(f\"Second square bracket: {x[0][0]}\")\n",
        "print(f\"Third square bracket: {x[0][0][0]}\")"
      ]
    },
    {
      "cell_type": "markdown",
      "source": [
        "Potongan kode tersebut memanfaatkan fungsi torch.arange() untuk membuat tensor x dengan nilai dari 1 hingga 9, yang kemudian diubah bentuknya menjadi tensor tiga dimensi dengan ukuran (1, 3, 3).\n",
        "\n",
        "torch.arange(1, 10) menghasilkan tensor satu dimensi yang berisi nilai dari 1 hingga 9 (inklusif untuk 1, eksklusif untuk 10).\n",
        "\n",
        ".reshape(1, 3, 3) adalah operasi yang mengubah bentuk tensor hasil dari torch.arange() menjadi tensor tiga dimensi dengan bentuk (1, 3, 3). Angka 1 mengindikasikan jumlah batch (atau contoh dalam batch), sementara angka 3 menunjukkan jumlah baris dan kolom yang diinginkan untuk setiap contoh dalam batch.\n",
        "\n",
        "Hasil cetakan tensor x menampilkan tensor tiga dimensi dengan bentuk (1, 3, 3), yang menunjukkan bahwa tensor tersebut mewakili satu batch data dengan satu contoh dalam batch. Setiap contoh dalam batch tersebut memiliki tiga baris dan tiga kolom.\n",
        "\n",
        "Tensor seperti x ini berguna dalam konteks pengolahan data pada deep learning, di mana data seringkali diorganisir dalam batch. Dalam hal ini, tensor x dapat digunakan sebagai batch data dengan satu contoh yang memiliki tiga baris dan tiga kolom.\n",
        "\n",
        "\n",
        "\n",
        "\n",
        "\n",
        "\n"
      ],
      "metadata": {
        "id": "Gl_niipk_FtO"
      }
    },
    {
      "cell_type": "code",
      "execution_count": null,
      "metadata": {
        "colab": {
          "base_uri": "https://localhost:8080/"
        },
        "id": "gCT09pqeTGfD",
        "outputId": "cec77e55-4d34-4188-a917-7ebffa9a7d95"
      },
      "outputs": [
        {
          "output_type": "execute_result",
          "data": {
            "text/plain": [
              "tensor([[1, 2, 3]])"
            ]
          },
          "metadata": {},
          "execution_count": 61
        }
      ],
      "source": [
        "# Get all values of 0th dimension and the 0 index of 1st dimension\n",
        "x[:, 0]"
      ]
    },
    {
      "cell_type": "markdown",
      "source": [
        "Potongan kode x[:, 0] menggunakan indexing pada tensor x untuk memperoleh subset dari tensor dengan mengambil semua nilai dari dimensi ke-0 dan nilai pada indeks ke-0 dari dimensi ke-1.\n",
        "\n",
        "Dalam hal ini:\n",
        "\n",
        "x[:, 0] mengakses tensor x dengan menggunakan : pada dimensi ke-0, yang berarti mengambil semua nilai dari dimensi pertama. Kemudian, 0 pada dimensi ke-1 menunjukkan pengambilan nilai pada indeks ke-0 dari dimensi kedua.\n",
        "Hasilnya adalah subset dari tensor x yang terdiri dari nilai-nilai pada indeks ke-0 dari dimensi ke-1 (kolom pertama) dari setiap contoh dalam batch (dimensi ke-0). Sebagai contoh, jika x adalah sebuah batch dengan tiga contoh, maka x[:, 0] akan mengambil nilai pertama dari setiap contoh dalam batch tersebut pada dimensi kedua (kolom pertama). Subset ini akan memiliki bentuk (1, 3) jika x adalah sebuah batch dengan satu contoh yang memiliki tiga baris, atau (3,) jika x adalah sebuah batch dengan tiga contoh yang masing-masing memiliki satu baris."
      ],
      "metadata": {
        "id": "az7Dmth3_PH7"
      }
    },
    {
      "cell_type": "code",
      "execution_count": null,
      "metadata": {
        "colab": {
          "base_uri": "https://localhost:8080/"
        },
        "id": "dwDx_gMsTGfD",
        "outputId": "127e2041-19c8-4549-f944-333d1a2648f0"
      },
      "outputs": [
        {
          "output_type": "execute_result",
          "data": {
            "text/plain": [
              "tensor([[2, 5, 8]])"
            ]
          },
          "metadata": {},
          "execution_count": 62
        }
      ],
      "source": [
        "# Get all values of 0th & 1st dimensions but only index 1 of 2nd dimension\n",
        "x[:, :, 1]"
      ]
    },
    {
      "cell_type": "markdown",
      "source": [
        "\n",
        "Potongan kode x[:, :, 1] menggunakan indexing pada tensor x untuk mengambil subset yang mencakup semua nilai dari dimensi ke-0 dan ke-1, tetapi hanya nilai pada indeks ke-1 dari dimensi ke-2.\n",
        "\n",
        "Dalam konteks ini:\n",
        "\n",
        "x[:, :, 1] mengakses tensor x dengan menggunakan : pada dimensi ke-0 dan ke-1, yang berarti mengambil semua nilai dari kedua dimensi pertama. Kemudian, 1 pada dimensi ke-2 menunjukkan pengambilan nilai pada indeks ke-1 dari dimensi ketiga.\n",
        "Hasilnya adalah subset dari tensor x yang terdiri dari nilai-nilai pada indeks ke-1 dari dimensi ketiga (kolom kedua jika diindeks dari nol) dari setiap contoh dalam batch (dimensi ke-0 dan ke-1). Misalnya, jika x adalah sebuah batch dengan tiga contoh, x[:, :, 1] akan mengambil nilai-nilai pada indeks ke-1 dari dimensi ketiga (kolom kedua) dari setiap contoh dalam batch tersebut. Subset ini akan memiliki bentuk (1, 3) jika x adalah sebuah batch dengan satu contoh yang memiliki tiga baris, atau (3,) jika x adalah sebuah batch dengan tiga contoh yang masing-masing memiliki satu baris."
      ],
      "metadata": {
        "id": "u0PBNX-u_U4S"
      }
    },
    {
      "cell_type": "code",
      "execution_count": null,
      "metadata": {
        "colab": {
          "base_uri": "https://localhost:8080/"
        },
        "id": "xiw3_1E3TGfD",
        "outputId": "4769e5df-dce9-4f7d-b2eb-1a100c14b4b9"
      },
      "outputs": [
        {
          "output_type": "execute_result",
          "data": {
            "text/plain": [
              "tensor([5])"
            ]
          },
          "metadata": {},
          "execution_count": 63
        }
      ],
      "source": [
        "# Get all values of the 0 dimension but only the 1 index value of the 1st and 2nd dimension\n",
        "x[:, 1, 1]"
      ]
    },
    {
      "cell_type": "markdown",
      "source": [
        "\n",
        "Potongan kode x[:, 1, 1] menggunakan indexing pada tensor x untuk memperoleh subset yang terdiri dari semua nilai dari dimensi ke-0, tetapi hanya nilai pada indeks ke-1 dari dimensi ke-1 dan ke-2.\n",
        "\n",
        "Dalam konteks ini:\n",
        "\n",
        "x[:, 1, 1] melakukan akses pada tensor x. : pada dimensi ke-0 berarti mengambil semua nilai dari dimensi pertama. 1 pada dimensi ke-1 menunjukkan pengambilan nilai pada indeks ke-1 dari dimensi kedua. Kemudian, 1 pada dimensi ke-2 menunjukkan pengambilan nilai pada indeks ke-1 dari dimensi ketiga.\n",
        "Hasilnya adalah subset dari tensor x yang terdiri dari nilai-nilai yang ada pada indeks ke-1 dari dimensi kedua dan ketiga (baris dan kolom kedua jika diindeks dari nol) dari setiap contoh dalam batch pada dimensi ke-0. Misalnya, jika x adalah sebuah batch dengan tiga contoh, x[:, 1, 1] akan mengambil nilai-nilai pada indeks ke-1 dari dimensi kedua dan ketiga dari setiap contoh dalam batch tersebut. Subset ini akan memiliki bentuk (1,) jika x adalah sebuah batch dengan satu contoh, atau (3,) jika x adalah sebuah batch dengan tiga contoh."
      ],
      "metadata": {
        "id": "KL8anX3Y_euM"
      }
    },
    {
      "cell_type": "code",
      "execution_count": null,
      "metadata": {
        "colab": {
          "base_uri": "https://localhost:8080/"
        },
        "id": "XFVEgrKhTGfD",
        "outputId": "c301de14-194e-44fc-e592-7a8d0f425ab4"
      },
      "outputs": [
        {
          "output_type": "execute_result",
          "data": {
            "text/plain": [
              "tensor([1, 2, 3])"
            ]
          },
          "metadata": {},
          "execution_count": 64
        }
      ],
      "source": [
        "# Get index 0 of 0th and 1st dimension and all values of 2nd dimension\n",
        "x[0, 0, :] # same as x[0][0]"
      ]
    },
    {
      "cell_type": "markdown",
      "source": [
        "Potongan kode x[0, 0, :] atau x[0][0] menggunakan indexing pada tensor x untuk memperoleh subset yang terdiri dari nilai-nilai dari indeks ke-0 dari dimensi ke-0 dan ke-1, dan mengambil semua nilai dari dimensi ke-2.\n",
        "\n",
        "Dalam konteks ini:\n",
        "\n",
        "x[0, 0, :] atau x[0][0] mengakses tensor x. 0 pada dimensi ke-0 dan ke-1 menunjukkan pengambilan nilai pada indeks ke-0 dari kedua dimensi tersebut. : pada dimensi ke-2 mengindikasikan pengambilan semua nilai dari dimensi tersebut.\n",
        "Hasilnya adalah subset dari tensor x yang terdiri dari semua nilai pada dimensi ke-2 (semua nilai dalam baris atau kolom) dari indeks ke-0 dari dimensi ke-0 dan ke-1. Misalnya, jika x adalah sebuah batch dengan tiga contoh, x[0, 0, :] akan mengambil semua nilai dari dimensi ke-2 dari indeks ke-0 dari dimensi ke-0 dan ke-1 dari setiap contoh dalam batch tersebut. Subset ini akan memiliki bentuk (3,) jika x adalah sebuah batch dengan satu contoh, atau (3, 3) jika x adalah sebuah batch dengan tiga contoh."
      ],
      "metadata": {
        "id": "I3sKdjDk_l9u"
      }
    },
    {
      "cell_type": "code",
      "execution_count": null,
      "metadata": {
        "colab": {
          "base_uri": "https://localhost:8080/"
        },
        "id": "yDrDCnvY7rKS",
        "outputId": "cbc16176-536b-414a-933d-edaaa999ac8f"
      },
      "outputs": [
        {
          "output_type": "execute_result",
          "data": {
            "text/plain": [
              "(array([1., 2., 3., 4., 5., 6., 7.]),\n",
              " tensor([1., 2., 3., 4., 5., 6., 7.], dtype=torch.float64))"
            ]
          },
          "metadata": {},
          "execution_count": 65
        }
      ],
      "source": [
        "# NumPy array to tensor\n",
        "import torch\n",
        "import numpy as np\n",
        "array = np.arange(1.0, 8.0)\n",
        "tensor = torch.from_numpy(array)\n",
        "array, tensor"
      ]
    },
    {
      "cell_type": "markdown",
      "source": [
        "Potongan kode tersebut melakukan konversi dari array NumPy menjadi tensor PyTorch menggunakan fungsi-fungsi dari kedua library tersebut.\n",
        "\n",
        "np.arange(1.0, 8.0) merupakan fungsi dari NumPy yang menghasilkan array dengan nilai dari 1.0 hingga 7.0 (inklusif untuk 1.0, eksklusif untuk 8.0).\n",
        "torch.from_numpy(array) digunakan untuk membuat tensor PyTorch dari array NumPy array. Fungsi ini mengambil array NumPy sebagai argumen dan mengonversinya menjadi tensor PyTorch tanpa melakukan penyalinan data, yang berarti tensor yang dihasilkan akan menggunakan memori yang sama dengan array NumPy.\n",
        "Jadi, array adalah array NumPy yang berisi nilai dari 1.0 hingga 7.0, sedangkan tensor adalah tensor PyTorch yang memiliki nilai yang sama dengan array NumPy dan memungkinkan penggunaan operasi-operasi tensor yang didukung oleh PyTorch. Kode ini bermanfaat ketika kita ingin berpindah antara NumPy dan PyTorch untuk melakukan operasi pada data dengan library yang berbeda."
      ],
      "metadata": {
        "id": "rM9Qx2gc_zVe"
      }
    },
    {
      "cell_type": "code",
      "execution_count": null,
      "metadata": {
        "colab": {
          "base_uri": "https://localhost:8080/"
        },
        "id": "ovwl7VCREv8L",
        "outputId": "0ea194ad-2982-45cf-9a7c-a70f3247b728"
      },
      "outputs": [
        {
          "output_type": "execute_result",
          "data": {
            "text/plain": [
              "(array([2., 3., 4., 5., 6., 7., 8.]),\n",
              " tensor([1., 2., 3., 4., 5., 6., 7.], dtype=torch.float64))"
            ]
          },
          "metadata": {},
          "execution_count": 66
        }
      ],
      "source": [
        "# Change the array, keep the tensor\n",
        "array = array + 1\n",
        "array, tensor"
      ]
    },
    {
      "cell_type": "markdown",
      "source": [
        "Potongan kode tersebut mengubah nilai dalam array NumPy yang telah dibuat sebelumnya, tetapi tetap mempertahankan nilai tensor PyTorch yang dibuat dari array tersebut.\n",
        "\n",
        "array = array + 1 menambahkan 1 ke setiap elemen dalam array NumPy array yang sebelumnya telah dibuat. Hal ini mengubah nilai-nilai dalam array NumPy dengan cara menambahkan 1 pada setiap elemennya.\n",
        "Meskipun nilai dalam array NumPy telah diubah, nilai tensor PyTorch (tensor) tidak berubah. Ini disebabkan oleh sifat referensial dari fungsi torch.from_numpy(), yang tidak membuat salinan data dari array NumPy, melainkan menggunakan memori yang sama dengan array NumPy.\n",
        "\n",
        "Jadi, meskipun array telah dimodifikasi dengan menambahkan 1 ke setiap elemennya, nilai tensor tensor tidak berubah dan tetap memiliki nilai yang sama seperti sebelum perubahan pada array NumPy. Ini menunjukkan bahwa tensor PyTorch yang dihasilkan dari array NumPy menggunakan memori yang sama dengan array NumPy dan tidak terpengaruh oleh perubahan yang terjadi pada array NumPy tersebut."
      ],
      "metadata": {
        "id": "X4yASsyj_7pb"
      }
    },
    {
      "cell_type": "markdown",
      "metadata": {
        "id": "geVvu1p0MTWc"
      },
      "source": [
        "And if you want to go from PyTorch tensor to NumPy array, you can call `tensor.numpy()`."
      ]
    },
    {
      "cell_type": "code",
      "execution_count": null,
      "metadata": {
        "colab": {
          "base_uri": "https://localhost:8080/"
        },
        "id": "xw_7ZyVaTKxQ",
        "outputId": "4a1e19ad-d796-4381-e5d1-d3f1b0a4b8db"
      },
      "outputs": [
        {
          "output_type": "execute_result",
          "data": {
            "text/plain": [
              "(tensor([1., 1., 1., 1., 1., 1., 1.]),\n",
              " array([1., 1., 1., 1., 1., 1., 1.], dtype=float32))"
            ]
          },
          "metadata": {},
          "execution_count": 67
        }
      ],
      "source": [
        "# Tensor to NumPy array\n",
        "tensor = torch.ones(7) # create a tensor of ones with dtype=float32\n",
        "numpy_tensor = tensor.numpy() # will be dtype=float32 unless changed\n",
        "tensor, numpy_tensor"
      ]
    },
    {
      "cell_type": "markdown",
      "source": [
        "Potongan kode tersebut melakukan konversi dari tensor PyTorch menjadi array NumPy menggunakan fungsi-fungsi dari kedua library tersebut.\n",
        "\n",
        "torch.ones(7) digunakan untuk membuat tensor PyTorch yang terdiri dari tujuh elemen, di mana setiap elemennya memiliki nilai 1.0. Default datatype untuk tensor ini adalah float32.\n",
        "tensor.numpy() mengonversi tensor PyTorch tensor menjadi array NumPy numpy_tensor. Fungsi ini melakukan konversi tensor PyTorch menjadi array NumPy tanpa melakukan salinan data, artinya array NumPy yang dihasilkan akan menggunakan memori yang sama dengan tensor PyTorch.\n",
        "Jadi, tensor adalah tensor PyTorch yang terdiri dari tujuh elemen bernilai 1.0 dengan tipe data float32, sedangkan numpy_tensor adalah array NumPy yang memiliki nilai dan tipe data yang sama dengan tensor PyTorch. Perubahan yang dilakukan pada numpy_tensor akan tercermin pada tensor karena keduanya berbagi memori yang sama. Namun, perhatikan bahwa jika terjadi perubahan tipe data pada numpy_tensor, hal itu tidak secara langsung mempengaruhi tipe data pada tensor PyTorch karena konversi tersebut dapat menghasilkan kopi data"
      ],
      "metadata": {
        "id": "G6UgrUXqAFAR"
      }
    },
    {
      "cell_type": "code",
      "execution_count": null,
      "metadata": {
        "colab": {
          "base_uri": "https://localhost:8080/"
        },
        "id": "mMp6ZSkET4_Y",
        "outputId": "195161ff-ed6f-425b-ad11-c0d76608729d"
      },
      "outputs": [
        {
          "output_type": "execute_result",
          "data": {
            "text/plain": [
              "(tensor([2., 2., 2., 2., 2., 2., 2.]),\n",
              " array([1., 1., 1., 1., 1., 1., 1.], dtype=float32))"
            ]
          },
          "metadata": {},
          "execution_count": 68
        }
      ],
      "source": [
        "# Change the tensor, keep the array the same\n",
        "tensor = tensor + 1\n",
        "tensor, numpy_tensor"
      ]
    },
    {
      "cell_type": "markdown",
      "source": [
        "Potongan kode ini menambahkan nilai 1 ke setiap elemen dalam tensor PyTorch yang telah dibuat sebelumnya, sementara tetap mempertahankan nilai dan struktur array NumPy yang telah dihasilkan dari tensor tersebut.\n",
        "\n",
        "tensor = tensor + 1 menambahkan 1 ke setiap elemen dalam tensor PyTorch tensor. Operasi ini menghasilkan tensor baru dengan nilai-nilai yang sudah dimodifikasi.\n",
        "Meskipun nilai dalam tensor PyTorch tensor telah diubah, nilai dalam array NumPy numpy_tensor tetap tidak berubah. Ini disebabkan oleh sifat konversi tensor ke array tanpa salinan data. Ketika kita melakukan operasi pada tensor PyTorch (tensor), itu tidak mempengaruhi array NumPy (numpy_tensor) karena keduanya memiliki memori yang terpisah dan tidak saling berbagi referensi langsung.\n",
        "\n",
        "Jadi, setelah operasi penambahan 1 pada tensor, nilai tensor akan berubah sedangkan nilai numpy_tensor akan tetap sama seperti sebelum perubahan, yaitu nilai yang dihasilkan saat konversi dari tensor sebelumnya."
      ],
      "metadata": {
        "id": "xPwngW3WAMwS"
      }
    },
    {
      "cell_type": "code",
      "execution_count": null,
      "metadata": {
        "colab": {
          "base_uri": "https://localhost:8080/"
        },
        "id": "eSwxnwEbTGfF",
        "outputId": "c5a0650a-5ebf-40ef-fad0-346b3f4af211"
      },
      "outputs": [
        {
          "output_type": "stream",
          "name": "stdout",
          "text": [
            "Tensor A:\n",
            "tensor([[0.8016, 0.3649, 0.6286, 0.9663],\n",
            "        [0.7687, 0.4566, 0.5745, 0.9200],\n",
            "        [0.3230, 0.8613, 0.0919, 0.3102]])\n",
            "\n",
            "Tensor B:\n",
            "tensor([[0.9536, 0.6002, 0.0351, 0.6826],\n",
            "        [0.3743, 0.5220, 0.1336, 0.9666],\n",
            "        [0.9754, 0.8474, 0.8988, 0.1105]])\n",
            "\n",
            "Does Tensor A equal Tensor B? (anywhere)\n"
          ]
        },
        {
          "output_type": "execute_result",
          "data": {
            "text/plain": [
              "tensor([[False, False, False, False],\n",
              "        [False, False, False, False],\n",
              "        [False, False, False, False]])"
            ]
          },
          "metadata": {},
          "execution_count": 69
        }
      ],
      "source": [
        "import torch\n",
        "\n",
        "# Create two random tensors\n",
        "random_tensor_A = torch.rand(3, 4)\n",
        "random_tensor_B = torch.rand(3, 4)\n",
        "\n",
        "print(f\"Tensor A:\\n{random_tensor_A}\\n\")\n",
        "print(f\"Tensor B:\\n{random_tensor_B}\\n\")\n",
        "print(f\"Does Tensor A equal Tensor B? (anywhere)\")\n",
        "random_tensor_A == random_tensor_B"
      ]
    },
    {
      "cell_type": "markdown",
      "source": [
        "\n",
        "Potongan kode di atas membuat dua tensor acak menggunakan fungsi torch.rand(). Kedua tensor random_tensor_A dan random_tensor_B memiliki dimensi yang sama yaitu (3, 4), yang berarti masing-masing tensor memiliki tiga baris dan empat kolom.\n",
        "\n",
        "Kemudian, kode mencoba untuk membandingkan elemen-elemen yang sesuai dari kedua tensor menggunakan operator perbandingan == dengan pernyataan random_tensor_A == random_tensor_B.\n",
        "\n",
        "Namun, dalam kasus ini, hasilnya adalah sebuah tensor Boolean yang menunjukkan apakah setiap pasangan elemen yang sesuai dari kedua tensor tersebut sama atau tidak. Hasil dari perbandingan ini akan menghasilkan tensor yang berisi nilai True atau False di setiap posisi yang sesuai. Jika nilai elemen pada posisi yang sesuai sama antara kedua tensor, maka nilai di posisi tersebut akan menjadi True, jika tidak, nilainya akan menjadi False.\n",
        "\n",
        "Penting untuk dicatat bahwa perbandingan ini dilakukan element-wise, artinya perbandingan dilakukan pada setiap pasangan elemen yang memiliki posisi yang sama dalam kedua tensor, bukan secara keseluruhan antara dua tensor. Oleh karena itu, hasilnya adalah tensor boolean yang menunjukkan kecocokan elemen-per-elemen antara kedua tensor tersebut.\n",
        "\n",
        "\n",
        "\n",
        "\n",
        "\n"
      ],
      "metadata": {
        "id": "tG7MdWRNAVs5"
      }
    },
    {
      "cell_type": "code",
      "execution_count": null,
      "metadata": {
        "colab": {
          "base_uri": "https://localhost:8080/"
        },
        "id": "sB6d1GfYTGfF",
        "outputId": "0d58faba-f50c-4a26-c40c-d3cf86714a0b"
      },
      "outputs": [
        {
          "output_type": "stream",
          "name": "stdout",
          "text": [
            "Tensor C:\n",
            "tensor([[0.8823, 0.9150, 0.3829, 0.9593],\n",
            "        [0.3904, 0.6009, 0.2566, 0.7936],\n",
            "        [0.9408, 0.1332, 0.9346, 0.5936]])\n",
            "\n",
            "Tensor D:\n",
            "tensor([[0.8823, 0.9150, 0.3829, 0.9593],\n",
            "        [0.3904, 0.6009, 0.2566, 0.7936],\n",
            "        [0.9408, 0.1332, 0.9346, 0.5936]])\n",
            "\n",
            "Does Tensor C equal Tensor D? (anywhere)\n"
          ]
        },
        {
          "output_type": "execute_result",
          "data": {
            "text/plain": [
              "tensor([[True, True, True, True],\n",
              "        [True, True, True, True],\n",
              "        [True, True, True, True]])"
            ]
          },
          "metadata": {},
          "execution_count": 70
        }
      ],
      "source": [
        "import torch\n",
        "import random\n",
        "\n",
        "# # Set the random seed\n",
        "RANDOM_SEED=42 # try changing this to different values and see what happens to the numbers below\n",
        "torch.manual_seed(seed=RANDOM_SEED)\n",
        "random_tensor_C = torch.rand(3, 4)\n",
        "\n",
        "# Have to reset the seed every time a new rand() is called\n",
        "# Without this, tensor_D would be different to tensor_C\n",
        "torch.random.manual_seed(seed=RANDOM_SEED) # try commenting this line out and seeing what happens\n",
        "random_tensor_D = torch.rand(3, 4)\n",
        "\n",
        "print(f\"Tensor C:\\n{random_tensor_C}\\n\")\n",
        "print(f\"Tensor D:\\n{random_tensor_D}\\n\")\n",
        "print(f\"Does Tensor C equal Tensor D? (anywhere)\")\n",
        "random_tensor_C == random_tensor_D"
      ]
    },
    {
      "cell_type": "markdown",
      "source": [
        "Potongan kode di atas mencoba membuat dua tensor acak, random_tensor_C dan random_tensor_D, dengan menggunakan fungsi torch.rand(). Sebelum membuat random_tensor_C, sebuah seed acak diberikan ke PyTorch dengan menggunakan torch.manual_seed(seed=RANDOM_SEED). Hal ini bertujuan untuk memastikan bahwa urutan bilangan acak yang dihasilkan oleh PyTorch akan sama setiap kali kode tersebut dieksekusi dengan seed yang sama.\n",
        "\n",
        "Namun, perhatikan bahwa pada saat membuat random_tensor_D, seed acak untuk PyTorch dikembalikan ke RANDOM_SEED lagi dengan torch.random.manual_seed(seed=RANDOM_SEED) sebelum menciptakan tensor. Ini dilakukan untuk memastikan bahwa kedua tensor yang dihasilkan (random_tensor_C dan random_tensor_D) memiliki urutan bilangan acak yang sama.\n",
        "\n",
        "Setelah kedua tensor dibuat, kode mencoba untuk membandingkan elemen-elemen yang sesuai dari kedua tensor menggunakan operator perbandingan == dengan pernyataan random_tensor_C == random_tensor_D.\n",
        "\n",
        "Namun, hasilnya tetap sama seperti sebelumnya. Ini karena, meskipun seed acak untuk PyTorch telah diatur ulang dengan nilai yang sama sebelum membuat random_tensor_D, PyTorch menghasilkan bilangan acak secara independen saat fungsi torch.rand() dipanggil, menghasilkan dua tensor dengan urutan bilangan acak yang berbeda, bahkan ketika seed yang sama digunakan.\n",
        "\n",
        "Sebagai hasilnya, walaupun seed acak diberikan sebelum pembuatan kedua tensor, hasil perbandingan antara kedua tensor adalah sebuah tensor boolean yang menunjukkan kecocokan elemen-per-elemen antara kedua tensor tersebut, yang pada umumnya akan menghasilkan nilai False di sebagian besar posisi dalam tensor hasil perbandingan."
      ],
      "metadata": {
        "id": "YjlpU_awAed0"
      }
    },
    {
      "cell_type": "code",
      "execution_count": null,
      "metadata": {
        "colab": {
          "base_uri": "https://localhost:8080/"
        },
        "id": "vEMcO-9zYc-w",
        "outputId": "ff953044-016f-4d40-8524-3ece647f2ddd"
      },
      "outputs": [
        {
          "output_type": "stream",
          "name": "stdout",
          "text": [
            "Thu Jan  4 09:19:19 2024       \n",
            "+---------------------------------------------------------------------------------------+\n",
            "| NVIDIA-SMI 535.104.05             Driver Version: 535.104.05   CUDA Version: 12.2     |\n",
            "|-----------------------------------------+----------------------+----------------------+\n",
            "| GPU  Name                 Persistence-M | Bus-Id        Disp.A | Volatile Uncorr. ECC |\n",
            "| Fan  Temp   Perf          Pwr:Usage/Cap |         Memory-Usage | GPU-Util  Compute M. |\n",
            "|                                         |                      |               MIG M. |\n",
            "|=========================================+======================+======================|\n",
            "|   0  Tesla T4                       Off | 00000000:00:04.0 Off |                    0 |\n",
            "| N/A   42C    P8               9W /  70W |      0MiB / 15360MiB |      0%      Default |\n",
            "|                                         |                      |                  N/A |\n",
            "+-----------------------------------------+----------------------+----------------------+\n",
            "                                                                                         \n",
            "+---------------------------------------------------------------------------------------+\n",
            "| Processes:                                                                            |\n",
            "|  GPU   GI   CI        PID   Type   Process name                            GPU Memory |\n",
            "|        ID   ID                                                             Usage      |\n",
            "|=======================================================================================|\n",
            "|  No running processes found                                                           |\n",
            "+---------------------------------------------------------------------------------------+\n"
          ]
        }
      ],
      "source": [
        "!nvidia-smi"
      ]
    },
    {
      "cell_type": "markdown",
      "source": [
        "Kode !nvidia-smi merupakan sebuah perintah \"magic command\" yang digunakan dalam lingkungan Jupyter Notebook atau Google Colab untuk menampilkan informasi mengenai GPU yang terpasang pada sistem saat ini.\n",
        "\n",
        "nvidia-smi sendiri adalah utilitas yang digunakan untuk memantau dan mengelola perangkat GPU NVIDIA yang terpasang pada sistem. Saat perintah ini dijalankan dalam lingkungan seperti Jupyter Notebook atau Google Colab, ini akan menampilkan informasi rinci tentang GPU yang tersedia, termasuk informasi tentang nama GPU, penggunaan memori, suhu, utilitas GPU, dan informasi lainnya.\n",
        "\n",
        "Jika perintah !nvidia-smi dijalankan di lingkungan yang mendukung GPU, outputnya akan menampilkan tabel yang berisi informasi tentang GPU yang terpasang pada sistem tersebut. Namun, jika sistem tersebut tidak memiliki GPU NVIDIA atau tidak terhubung dengan GPU, perintah tersebut mungkin akan menghasilkan pesan kesalahan yang menyatakan bahwa tidak dapat terhubung dengan driver NVIDIA atau tidak ada GPU yang terdeteksi."
      ],
      "metadata": {
        "id": "7xZc7PjZApDg"
      }
    },
    {
      "cell_type": "markdown",
      "metadata": {
        "id": "HvkB9p5zYf8E"
      },
      "source": [
        "If you don't have a Nvidia GPU accessible, the above will output something like:\n",
        "\n",
        "```\n",
        "NVIDIA-SMI has failed because it couldn't communicate with the NVIDIA driver. Make sure that the latest NVIDIA driver is installed and running.\n",
        "```\n",
        "\n",
        "In that case, go back up and follow the install steps.\n",
        "\n",
        "If you do have a GPU, the line above will output something like:\n",
        "\n",
        "```\n",
        "Wed Jan 19 22:09:08 2022       \n",
        "+-----------------------------------------------------------------------------+\n",
        "| NVIDIA-SMI 495.46       Driver Version: 460.32.03    CUDA Version: 11.2     |\n",
        "|-------------------------------+----------------------+----------------------+\n",
        "| GPU  Name        Persistence-M| Bus-Id        Disp.A | Volatile Uncorr. ECC |\n",
        "| Fan  Temp  Perf  Pwr:Usage/Cap|         Memory-Usage | GPU-Util  Compute M. |\n",
        "|                               |                      |               MIG M. |\n",
        "|===============================+======================+======================|\n",
        "|   0  Tesla P100-PCIE...  Off  | 00000000:00:04.0 Off |                    0 |\n",
        "| N/A   35C    P0    27W / 250W |      0MiB / 16280MiB |      0%      Default |\n",
        "|                               |                      |                  N/A |\n",
        "+-------------------------------+----------------------+----------------------+\n",
        "                                                                               \n",
        "+-----------------------------------------------------------------------------+\n",
        "| Processes:                                                                  |\n",
        "|  GPU   GI   CI        PID   Type   Process name                  GPU Memory |\n",
        "|        ID   ID                                                   Usage      |\n",
        "|=============================================================================|\n",
        "|  No running processes found                                                 |\n",
        "+-----------------------------------------------------------------------------+\n",
        "```"
      ]
    },
    {
      "cell_type": "code",
      "execution_count": null,
      "metadata": {
        "colab": {
          "base_uri": "https://localhost:8080/"
        },
        "id": "OweDLgwjEvZ2",
        "outputId": "a9b239a0-e5e7-464a-90fd-6c1375537796"
      },
      "outputs": [
        {
          "output_type": "execute_result",
          "data": {
            "text/plain": [
              "True"
            ]
          },
          "metadata": {},
          "execution_count": 72
        }
      ],
      "source": [
        "# Check for GPU\n",
        "import torch\n",
        "torch.cuda.is_available()"
      ]
    },
    {
      "cell_type": "markdown",
      "source": [
        "Kode tersebut menggunakan fungsi torch.cuda.is_available() untuk memeriksa ketersediaan penggunaan GPU pada sistem saat ini menggunakan PyTorch.\n",
        "\n",
        "Fungsi torch.cuda.is_available() mengembalikan nilai boolean (True atau False) yang menunjukkan apakah perangkat keras GPU dapat digunakan atau tidak dalam lingkungan saat ini. Jika nilai yang dikembalikan adalah True, itu berarti PyTorch dapat menggunakan GPU untuk melakukan komputasi. Sebaliknya, jika nilai yang dikembalikan adalah False, hal itu menunjukkan bahwa GPU tidak tersedia atau tidak dapat diakses dalam lingkungan saat ini.\n",
        "\n",
        "Pemeriksaan ketersediaan GPU ini berguna saat ingin memanfaatkan GPU untuk mempercepat proses komputasi, terutama dalam konteks pengolahan data besar atau model deep learning yang kompleks. Jika GPU tersedia, PyTorch dapat menggunakan GPU tersebut untuk menjalankan operasi komputasi pada tensor dengan memanfaatkan kecepatan dan kemampuan paralelisme yang dimiliki oleh perangkat keras GPU."
      ],
      "metadata": {
        "id": "OlA7o5itA04m"
      }
    },
    {
      "cell_type": "code",
      "execution_count": null,
      "metadata": {
        "colab": {
          "base_uri": "https://localhost:8080/",
          "height": 35
        },
        "id": "j92HBCKB7rYa",
        "outputId": "288434bd-32b8-49ab-a206-9d0ee997bcad"
      },
      "outputs": [
        {
          "output_type": "execute_result",
          "data": {
            "text/plain": [
              "'cuda'"
            ],
            "application/vnd.google.colaboratory.intrinsic+json": {
              "type": "string"
            }
          },
          "metadata": {},
          "execution_count": 73
        }
      ],
      "source": [
        "# Set device type\n",
        "device = \"cuda\" if torch.cuda.is_available() else \"cpu\"\n",
        "device"
      ]
    },
    {
      "cell_type": "markdown",
      "source": [
        "Kode ini menggunakan struktur kondisional untuk menentukan jenis perangkat yang akan digunakan dalam proses komputasi dengan menggunakan PyTorch. Variabel device diinisialisasi dengan nilai \"cuda\" jika fungsi torch.cuda.is_available() mengembalikan True, yang menunjukkan ketersediaan perangkat keras GPU (CUDA) untuk digunakan oleh PyTorch. Jika tidak, variabel device diatur menjadi \"cpu\", yang menunjukkan bahwa proses komputasi akan menggunakan unit pemrosesan CPU.\n",
        "\n",
        "Dalam konteks deep learning dan pengolahan tensor, penggunaan GPU (CUDA) dapat meningkatkan kecepatan komputasi secara signifikan karena kemampuan paralelisme yang dimilikinya. Namun, jika GPU tidak tersedia atau tidak dapat diakses, penggunaan CPU masih memungkinkan untuk menjalankan operasi PyTorch, meskipun dengan kinerja yang lebih lambat dibandingkan dengan penggunaan GPU. Dengan pendekatan ini, kode tersebut memberikan fleksibilitas dalam menentukan perangkat keras yang akan digunakan untuk komputasi PyTorch, bergantung pada ketersediaan perangkat keras yang tersedia dalam sistem."
      ],
      "metadata": {
        "id": "TWFq4nErBBBQ"
      }
    },
    {
      "cell_type": "code",
      "execution_count": null,
      "metadata": {
        "colab": {
          "base_uri": "https://localhost:8080/"
        },
        "id": "MArsn0DFTGfG",
        "outputId": "334e408a-d7f5-459f-82f3-ee380580466d"
      },
      "outputs": [
        {
          "output_type": "execute_result",
          "data": {
            "text/plain": [
              "1"
            ]
          },
          "metadata": {},
          "execution_count": 74
        }
      ],
      "source": [
        "# Count number of devices\n",
        "torch.cuda.device_count()"
      ]
    },
    {
      "cell_type": "markdown",
      "source": [
        "\n",
        "Kode torch.cuda.device_count() digunakan untuk menghitung jumlah perangkat keras GPU yang tersedia dan dapat diakses pada sistem saat ini menggunakan PyTorch. Fungsi ini mengembalikan nilai yang menunjukkan jumlah GPU yang terpasang pada sistem.\n",
        "\n",
        "Pada sistem yang memiliki beberapa GPU, penggunaan torch.cuda.device_count() memungkinkan pengguna untuk mengetahui jumlah total perangkat keras GPU yang tersedia. Informasi ini berguna dalam pengaturan atau penggunaan PyTorch yang memerlukan penyesuaian pada tingkat perangkat keras yang tersedia. Dengan mengetahui jumlah perangkat keras yang ada, pengguna dapat memilih untuk mendistribusikan atau mengelola tugas komputasi pada beberapa perangkat keras GPU untuk mempercepat proses komputasi, terutama dalam konteks pelatihan model deep learning pada dataset yang besar."
      ],
      "metadata": {
        "id": "D7mnBCgbBVpY"
      }
    },
    {
      "cell_type": "code",
      "execution_count": null,
      "metadata": {
        "colab": {
          "base_uri": "https://localhost:8080/"
        },
        "id": "FhI3srFXEHfP",
        "outputId": "7867712c-fede-4c60-fb20-39a3ae5fb448"
      },
      "outputs": [
        {
          "output_type": "stream",
          "name": "stdout",
          "text": [
            "tensor([1, 2, 3]) cpu\n"
          ]
        },
        {
          "output_type": "execute_result",
          "data": {
            "text/plain": [
              "tensor([1, 2, 3], device='cuda:0')"
            ]
          },
          "metadata": {},
          "execution_count": 75
        }
      ],
      "source": [
        "# Create tensor (default on CPU)\n",
        "tensor = torch.tensor([1, 2, 3])\n",
        "\n",
        "# Tensor not on GPU\n",
        "print(tensor, tensor.device)\n",
        "\n",
        "# Move tensor to GPU (if available)\n",
        "tensor_on_gpu = tensor.to(device)\n",
        "tensor_on_gpu"
      ]
    },
    {
      "cell_type": "markdown",
      "source": [
        "Pada potongan kode ini, sebuah tensor tensor dibuat dengan nilai [1, 2, 3] dan secara default ditempatkan pada CPU. Kemudian, fungsi print digunakan untuk menampilkan nilai tensor tersebut beserta informasi tentang perangkat di mana tensor tersebut berada, yang diperoleh melalui atribut device.\n",
        "\n",
        "Kemudian, dengan menggunakan variabel device yang telah ditentukan sebelumnya sebagai kondisi (device = \"cuda\" if torch.cuda.is_available() else \"cpu\"), kode ini menggunakan metode .to() pada tensor tensor untuk memindahkan tensor tersebut ke perangkat yang sesuai (dalam hal ini, GPU jika tersedia atau CPU jika tidak). Hasilnya adalah tensor yang sama (tensor_on_gpu), tetapi sekarang telah dipindahkan ke perangkat yang telah ditentukan, seperti yang ditunjukkan oleh nilai yang dikembalikan saat tensor tersebut dicetak bersama dengan informasi perangkatnya."
      ],
      "metadata": {
        "id": "9qmZmdfSBkwt"
      }
    },
    {
      "cell_type": "code",
      "execution_count": null,
      "metadata": {
        "colab": {
          "base_uri": "https://localhost:8080/",
          "height": 211
        },
        "id": "3ChSLJgPTGfG",
        "outputId": "cc6c40ec-7d2a-4068-f48e-f9c70862acb3"
      },
      "outputs": [
        {
          "output_type": "error",
          "ename": "TypeError",
          "evalue": "ignored",
          "traceback": [
            "\u001b[0;31m---------------------------------------------------------------------------\u001b[0m",
            "\u001b[0;31mTypeError\u001b[0m                                 Traceback (most recent call last)",
            "\u001b[0;32m<ipython-input-76-53175578f49e>\u001b[0m in \u001b[0;36m<cell line: 2>\u001b[0;34m()\u001b[0m\n\u001b[1;32m      1\u001b[0m \u001b[0;31m# If tensor is on GPU, can't transform it to NumPy (this will error)\u001b[0m\u001b[0;34m\u001b[0m\u001b[0;34m\u001b[0m\u001b[0m\n\u001b[0;32m----> 2\u001b[0;31m \u001b[0mtensor_on_gpu\u001b[0m\u001b[0;34m.\u001b[0m\u001b[0mnumpy\u001b[0m\u001b[0;34m(\u001b[0m\u001b[0;34m)\u001b[0m\u001b[0;34m\u001b[0m\u001b[0;34m\u001b[0m\u001b[0m\n\u001b[0m",
            "\u001b[0;31mTypeError\u001b[0m: can't convert cuda:0 device type tensor to numpy. Use Tensor.cpu() to copy the tensor to host memory first."
          ]
        }
      ],
      "source": [
        "# If tensor is on GPU, can't transform it to NumPy (this will error)\n",
        "tensor_on_gpu.numpy()"
      ]
    },
    {
      "cell_type": "markdown",
      "source": [
        "Potongan kode di atas menunjukkan percobaan untuk mengonversi tensor (tensor_on_gpu) yang telah dipindahkan ke perangkat GPU menjadi array NumPy menggunakan metode .numpy(). Namun, ini menghasilkan error TypeError yang menyatakan bahwa tensor yang berada di perangkat GPU (cuda:0) tidak dapat langsung diubah menjadi array NumPy.\n",
        "\n",
        "Hal ini terjadi karena metode .numpy() tidak dapat langsung diterapkan pada tensor yang berada di perangkat GPU. Untuk mengonversi tensor yang berada di GPU menjadi array NumPy, langkah pertama adalah memindahkan tensor tersebut kembali ke memori host (CPU) menggunakan metode .cpu() untuk kemudian baru dapat mengonversinya menjadi array NumPy.\n",
        "\n",
        "Solusinya adalah dengan menggunakan metode .cpu() pada tensor (tensor_on_gpu) untuk menyalin tensor dari GPU ke memori host (CPU), dan kemudian menggunakan metode .numpy() untuk mengonversi tensor yang ada di memori host menjadi array NumPy.\n",
        "\n",
        "Potongan kode di atas mencoba mengonversi tensor (tensor_on_gpu) yang telah dipindahkan ke perangkat GPU menjadi array NumPy menggunakan metode .numpy(). Namun, ini menghasilkan error TypeError yang menyatakan bahwa tensor yang berada di perangkat GPU (cuda:0) tidak dapat langsung diubah menjadi array NumPy.\n",
        "\n",
        "Hal ini terjadi karena metode .numpy() tidak dapat langsung diterapkan pada tensor yang berada di perangkat GPU. Untuk mengonversi tensor yang berada di GPU menjadi array NumPy, langkah pertama adalah memindahkan tensor tersebut kembali ke memori host (CPU) menggunakan metode .cpu() untuk kemudian baru dapat mengonversinya menjadi array NumPy.\n",
        "\n",
        "Solusinya adalah dengan menggunakan metode .cpu() pada tensor (tensor_on_gpu) untuk menyalin tensor dari GPU ke memori host (CPU), dan kemudian menggunakan metode .numpy() untuk mengonversi tensor yang ada di memori host menjadi array NumPy."
      ],
      "metadata": {
        "id": "lpBxvg7OBymg"
      }
    },
    {
      "cell_type": "code",
      "execution_count": null,
      "metadata": {
        "colab": {
          "base_uri": "https://localhost:8080/"
        },
        "id": "gN15s-NdTGfG",
        "outputId": "af50a04f-a24e-46ba-bfc0-815031e0ff0a"
      },
      "outputs": [
        {
          "output_type": "execute_result",
          "data": {
            "text/plain": [
              "array([1, 2, 3])"
            ]
          },
          "metadata": {},
          "execution_count": 77
        }
      ],
      "source": [
        "# Instead, copy the tensor back to cpu\n",
        "tensor_back_on_cpu = tensor_on_gpu.cpu().numpy()\n",
        "tensor_back_on_cpu"
      ]
    },
    {
      "cell_type": "markdown",
      "source": [
        "\n",
        "Potongan kode di atas menggunakan metode .cpu() pada tensor (tensor_on_gpu) yang berada di perangkat GPU untuk menyalin kembali tensor tersebut ke memori host (CPU). Setelah tensor dipindahkan kembali ke CPU, kemudian digunakan metode .numpy() untuk mengonversi tensor yang ada di memori host (CPU) menjadi array NumPy (tensor_back_on_cpu).\n",
        "\n",
        "Langkah ini diperlukan karena operasi .numpy() tidak dapat diterapkan langsung pada tensor yang berada di perangkat GPU. Dengan menggunakan .cpu(), tensor dipindahkan kembali ke memori host (CPU), di mana kemudian metode .numpy() dapat diaplikasikan untuk mengonversi tensor menjadi array NumPy. Ini memungkinkan penggunaan data tensor dari perangkat GPU untuk proses pengolahan atau analisis lanjutan yang memerlukan representasi dalam bentuk array NumPy."
      ],
      "metadata": {
        "id": "l-G2-EboB5p2"
      }
    },
    {
      "cell_type": "code",
      "execution_count": null,
      "metadata": {
        "colab": {
          "base_uri": "https://localhost:8080/"
        },
        "id": "S5u83PCRTGfH",
        "outputId": "ca06c28d-133a-40bd-932e-2357ce2c089c"
      },
      "outputs": [
        {
          "output_type": "execute_result",
          "data": {
            "text/plain": [
              "tensor([1, 2, 3], device='cuda:0')"
            ]
          },
          "metadata": {},
          "execution_count": 78
        }
      ],
      "source": [
        "tensor_on_gpu"
      ]
    },
    {
      "cell_type": "markdown",
      "source": [
        "tensor_on_gpu adalah variabel yang menampung tensor yang telah dipindahkan ke perangkat GPU (Graphics Processing Unit). Pada kode tersebut, terdapat proses penggunaan metode .to() untuk memindahkan tensor dari memori CPU ke memori GPU jika GPU tersedia, atau tetap di memori CPU jika GPU tidak tersedia.\n",
        "\n",
        "Tensor yang dipindahkan ke perangkat GPU biasanya dimanfaatkan dalam komputasi yang memerlukan kecepatan pemrosesan yang lebih tinggi karena GPU memiliki arsitektur paralel yang kuat untuk tugas-tugas seperti pelatihan model deep learning dan operasi matematika yang intensif.\n",
        "\n",
        "Penamaan variabel tensor_on_gpu mengindikasikan bahwa tensor tersebut berada di memori GPU, dan hal ini sangat berguna untuk mengetahui lokasi tensor saat bekerja dengan PyTorch, karena operasi-operasi pada tensor dapat bervariasi tergantung pada perangkat keras tempat tensor tersebut berada. Jadi, variabel tensor_on_gpu adalah tensor yang telah berhasil dipindahkan dan saat ini berada di memori GPU."
      ],
      "metadata": {
        "id": "hcO3vS2JCI5y"
      }
    }
  ],
  "metadata": {
    "accelerator": "GPU",
    "colab": {
      "provenance": [],
      "include_colab_link": true
    },
    "interpreter": {
      "hash": "3fbe1355223f7b2ffc113ba3ade6a2b520cadace5d5ec3e828c83ce02eb221bf"
    },
    "kernelspec": {
      "display_name": "Python 3 (ipykernel)",
      "language": "python",
      "name": "python3"
    },
    "language_info": {
      "codemirror_mode": {
        "name": "ipython",
        "version": 3
      },
      "file_extension": ".py",
      "mimetype": "text/x-python",
      "name": "python",
      "nbconvert_exporter": "python",
      "pygments_lexer": "ipython3",
      "version": "3.8.13"
    }
  },
  "nbformat": 4,
  "nbformat_minor": 0
}