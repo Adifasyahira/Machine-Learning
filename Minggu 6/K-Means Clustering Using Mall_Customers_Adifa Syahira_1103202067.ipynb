{
 "cells": [
  {
   "cell_type": "code",
   "execution_count": 1,
   "id": "7fa9c215",
   "metadata": {},
   "outputs": [],
   "source": [
    "import numpy as np\n",
    "import matplotlib.pyplot as plt\n",
    "import seaborn as sns\n",
    "import pandas as pd\n",
    "from sklearn.cluster import KMeans\n",
    "from sklearn.metrics import silhouette_score\n",
    "from sklearn.metrics import davies_bouldin_score\n",
    "from sklearn.metrics import calinski_harabasz_score"
   ]
  },
  {
   "cell_type": "code",
   "execution_count": 2,
   "id": "2d59074d",
   "metadata": {},
   "outputs": [],
   "source": [
    "df = pd.read_csv(\"D:\\KULIAH DIFA\\Semester 7 HUHU\\Machine Learning\\Minggu 6\\Mall_Customers.csv\")"
   ]
  },
  {
   "cell_type": "code",
   "execution_count": 3,
   "id": "bd8c8328",
   "metadata": {},
   "outputs": [
    {
     "data": {
      "text/html": [
       "<div>\n",
       "<style scoped>\n",
       "    .dataframe tbody tr th:only-of-type {\n",
       "        vertical-align: middle;\n",
       "    }\n",
       "\n",
       "    .dataframe tbody tr th {\n",
       "        vertical-align: top;\n",
       "    }\n",
       "\n",
       "    .dataframe thead th {\n",
       "        text-align: right;\n",
       "    }\n",
       "</style>\n",
       "<table border=\"1\" class=\"dataframe\">\n",
       "  <thead>\n",
       "    <tr style=\"text-align: right;\">\n",
       "      <th></th>\n",
       "      <th>CustomerID</th>\n",
       "      <th>Gender</th>\n",
       "      <th>Age</th>\n",
       "      <th>Annual Income (k$)</th>\n",
       "      <th>Spending Score (1-100)</th>\n",
       "    </tr>\n",
       "  </thead>\n",
       "  <tbody>\n",
       "    <tr>\n",
       "      <th>0</th>\n",
       "      <td>1</td>\n",
       "      <td>Male</td>\n",
       "      <td>19</td>\n",
       "      <td>15</td>\n",
       "      <td>39</td>\n",
       "    </tr>\n",
       "    <tr>\n",
       "      <th>1</th>\n",
       "      <td>2</td>\n",
       "      <td>Male</td>\n",
       "      <td>21</td>\n",
       "      <td>15</td>\n",
       "      <td>81</td>\n",
       "    </tr>\n",
       "    <tr>\n",
       "      <th>2</th>\n",
       "      <td>3</td>\n",
       "      <td>Female</td>\n",
       "      <td>20</td>\n",
       "      <td>16</td>\n",
       "      <td>6</td>\n",
       "    </tr>\n",
       "    <tr>\n",
       "      <th>3</th>\n",
       "      <td>4</td>\n",
       "      <td>Female</td>\n",
       "      <td>23</td>\n",
       "      <td>16</td>\n",
       "      <td>77</td>\n",
       "    </tr>\n",
       "    <tr>\n",
       "      <th>4</th>\n",
       "      <td>5</td>\n",
       "      <td>Female</td>\n",
       "      <td>31</td>\n",
       "      <td>17</td>\n",
       "      <td>40</td>\n",
       "    </tr>\n",
       "  </tbody>\n",
       "</table>\n",
       "</div>"
      ],
      "text/plain": [
       "   CustomerID  Gender  Age  Annual Income (k$)  Spending Score (1-100)\n",
       "0           1    Male   19                  15                      39\n",
       "1           2    Male   21                  15                      81\n",
       "2           3  Female   20                  16                       6\n",
       "3           4  Female   23                  16                      77\n",
       "4           5  Female   31                  17                      40"
      ]
     },
     "execution_count": 3,
     "metadata": {},
     "output_type": "execute_result"
    }
   ],
   "source": [
    "df.head()"
   ]
  },
  {
   "cell_type": "code",
   "execution_count": 4,
   "id": "d13559bd",
   "metadata": {},
   "outputs": [
    {
     "name": "stdout",
     "output_type": "stream",
     "text": [
      "     CustomerID  Gender  Age  Annual Income  Spending Score\n",
      "0             1    Male   19             15              39\n",
      "1             2    Male   21             15              81\n",
      "2             3  Female   20             16               6\n",
      "3             4  Female   23             16              77\n",
      "4             5  Female   31             17              40\n",
      "..          ...     ...  ...            ...             ...\n",
      "195         196  Female   35            120              79\n",
      "196         197  Female   45            126              28\n",
      "197         198    Male   32            126              74\n",
      "198         199    Male   32            137              18\n",
      "199         200    Male   30            137              83\n",
      "\n",
      "[200 rows x 5 columns]\n"
     ]
    }
   ],
   "source": [
    "\n",
    "\n",
    "# Mengganti nama kolom\n",
    "df = df.rename(columns={'Annual Income (k$)': 'Annual Income', 'Spending Score (1-100)': 'Spending Score'})\n",
    "\n",
    "# Menampilkan DataFrame yang sudah diubah\n",
    "print(df)\n"
   ]
  },
  {
   "cell_type": "code",
   "execution_count": 5,
   "id": "72499b8b",
   "metadata": {},
   "outputs": [
    {
     "name": "stdout",
     "output_type": "stream",
     "text": [
      "     Age  Annual Income  Spending Score\n",
      "0     19             15              39\n",
      "1     21             15              81\n",
      "2     20             16               6\n",
      "3     23             16              77\n",
      "4     31             17              40\n",
      "..   ...            ...             ...\n",
      "195   35            120              79\n",
      "196   45            126              28\n",
      "197   32            126              74\n",
      "198   32            137              18\n",
      "199   30            137              83\n",
      "\n",
      "[200 rows x 3 columns]\n"
     ]
    }
   ],
   "source": [
    "# Menghapus kolom CustomerID dan Gender\n",
    "df.drop(['CustomerID', 'Gender'], axis=1, inplace=True)\n",
    "\n",
    "# Menampilkan DataFrame setelah menghapus kolom\n",
    "print(df)\n"
   ]
  },
  {
   "cell_type": "code",
   "execution_count": 6,
   "id": "b0397398",
   "metadata": {},
   "outputs": [
    {
     "name": "stderr",
     "output_type": "stream",
     "text": [
      "C:\\Users\\Lenovo\\anaconda3\\lib\\site-packages\\sklearn\\cluster\\_kmeans.py:881: UserWarning: KMeans is known to have a memory leak on Windows with MKL, when there are less chunks than available threads. You can avoid it by setting the environment variable OMP_NUM_THREADS=1.\n",
      "  warnings.warn(\n"
     ]
    },
    {
     "data": {
      "image/png": "[encoded data removed]",
      "text/plain": [
       "<Figure size 720x432 with 1 Axes>"
      ]
     },
     "metadata": {
      "needs_background": "light"
     },
     "output_type": "display_data"
    }
   ],
   "source": [
    "from sklearn.cluster import KMeans\n",
    "import matplotlib.pyplot as plt\n",
    "\n",
    "# Membuat list kosong untuk menampung nilai inersia\n",
    "inertia = []\n",
    "\n",
    "# Mengambil kolom yang diperlukan\n",
    "X = df[['Age', 'Annual Income', 'Spending Score']]\n",
    "\n",
    "# Melakukan perulangan untuk nilai k dari 1 hingga 10\n",
    "for k in range(1, 11):\n",
    "    kmeans = KMeans(n_clusters=k, random_state=0)\n",
    "    kmeans.fit(X)\n",
    "    inertia.append(kmeans.inertia_)\n",
    "\n",
    "# Memvisualisasikan metode elbow\n",
    "plt.figure(figsize=(10,6))\n",
    "plt.plot(range(1, 11), inertia, marker='o')\n",
    "plt.title('Elbow Method')\n",
    "plt.xlabel('Number of clusters')\n",
    "plt.ylabel('Inertia')\n",
    "plt.show()\n"
   ]
  },
  {
   "cell_type": "code",
   "execution_count": 7,
   "id": "1b920630",
   "metadata": {},
   "outputs": [
    {
     "data": {
      "image/png": "[encoded data removed]",
      "text/plain": [
       "<Figure size 576x432 with 1 Axes>"
      ]
     },
     "metadata": {
      "needs_background": "light"
     },
     "output_type": "display_data"
    }
   ],
   "source": [
    "# Memilih kolom yang akan digunakan\n",
    "data = df[['Age', 'Annual Income', 'Spending Score']]\n",
    "\n",
    "# Membuat model K-Means dengan 5 kluster\n",
    "kmeans = KMeans(n_clusters=5, random_state=0)\n",
    "df['label'] = kmeans.fit_predict(data)\n",
    "\n",
    "# Memvisualisasikan hasil clustering\n",
    "plt.figure(figsize=(8, 6))\n",
    "for label in df['label'].unique():\n",
    "    plt.scatter(df[df['label'] == label]['Annual Income'], df[df['label'] == label]['Spending Score'], label=f'Cluster {label}')\n",
    "\n",
    "plt.title('K-Means Clustering')\n",
    "plt.xlabel('Annual Income')\n",
    "plt.ylabel('Spending Score')\n",
    "plt.legend()\n",
    "plt.show()\n"
   ]
  },
  {
   "cell_type": "code",
   "execution_count": 8,
   "id": "3e2de048",
   "metadata": {},
   "outputs": [
    {
     "name": "stdout",
     "output_type": "stream",
     "text": [
      "For k = 2, Silhouette Score = 0.293166070535953\n",
      "For k = 3, Silhouette Score = 0.3839349967742105\n",
      "For k = 4, Silhouette Score = 0.40546302077733304\n",
      "For k = 5, Silhouette Score = 0.44428597560893024\n",
      "For k = 6, Silhouette Score = 0.4523443947724053\n",
      "For k = 7, Silhouette Score = 0.4412807576186172\n",
      "For k = 8, Silhouette Score = 0.4280971079746162\n",
      "For k = 9, Silhouette Score = 0.40126260157691634\n",
      "For k = 10, Silhouette Score = 0.3790978814868016\n"
     ]
    },
    {
     "data": {
      "image/png": "[encoded data removed]",
      "text/plain": [
       "<Figure size 576x432 with 1 Axes>"
      ]
     },
     "metadata": {
      "needs_background": "light"
     },
     "output_type": "display_data"
    }
   ],
   "source": [
    "# Memilih kolom yang akan digunakan\n",
    "data = df[['Age', 'Annual Income', 'Spending Score']]\n",
    "\n",
    "# Inisialisasi daftar untuk menyimpan nilai Silhouette Score\n",
    "silhouette_scores = []\n",
    "\n",
    "# Menghitung Silhouette Score untuk nilai k dari 2 hingga 10\n",
    "for k in range(2, 11):\n",
    "    kmeans = KMeans(n_clusters=k, random_state=0)\n",
    "    labels = kmeans.fit_predict(data)\n",
    "    silhouette_avg = silhouette_score(data, labels)\n",
    "    silhouette_scores.append(silhouette_avg)\n",
    "    print(f\"For k = {k}, Silhouette Score = {silhouette_avg}\")\n",
    "\n",
    "# Menampilkan hasil\n",
    "k_values = range(2, 11)\n",
    "plt.figure(figsize=(8, 6))\n",
    "plt.plot(k_values, silhouette_scores, marker='o', linestyle='-', color='b')\n",
    "plt.title('Silhouette Score for Different Values of k')\n",
    "plt.xlabel('Number of Clusters (k)')\n",
    "plt.ylabel('Silhouette Score')\n",
    "plt.grid(True)\n",
    "plt.show()\n"
   ]
  },
  {
   "cell_type": "code",
   "execution_count": 9,
   "id": "709980c6",
   "metadata": {},
   "outputs": [
    {
     "name": "stdout",
     "output_type": "stream",
     "text": [
      "For k = 2, Davies-Bouldin Index = 1.3571023143309138\n",
      "For k = 3, Davies-Bouldin Index = 0.8748062648492886\n",
      "For k = 4, Davies-Bouldin Index = 0.8914904209843173\n",
      "For k = 5, Davies-Bouldin Index = 0.8218781633199782\n",
      "For k = 6, Davies-Bouldin Index = 0.7469740072755288\n",
      "For k = 7, Davies-Bouldin Index = 0.7863764854525296\n",
      "For k = 8, Davies-Bouldin Index = 0.8641438876447509\n",
      "For k = 9, Davies-Bouldin Index = 0.9070119449899813\n",
      "For k = 10, Davies-Bouldin Index = 0.9573604236246037\n",
      "Davies-Bouldin Index Scores:\n",
      "[1.3571023143309138, 0.8748062648492886, 0.8914904209843173, 0.8218781633199782, 0.7469740072755288, 0.7863764854525296, 0.8641438876447509, 0.9070119449899813, 0.9573604236246037]\n"
     ]
    }
   ],
   "source": [
    "\n",
    "\n",
    "\n",
    "# Memilih kolom yang akan digunakan\n",
    "data = df[['Age', 'Annual Income', 'Spending Score']]\n",
    "\n",
    "# Inisialisasi daftar untuk menyimpan nilai Davies-Bouldin Index\n",
    "dbi_scores = []\n",
    "\n",
    "# Menghitung Davies-Bouldin Index untuk nilai k dari 2 hingga 10\n",
    "for k in range(2, 11):\n",
    "    kmeans = KMeans(n_clusters=k, random_state=0)\n",
    "    labels = kmeans.fit_predict(data)\n",
    "    dbi = davies_bouldin_score(data, labels)\n",
    "    dbi_scores.append(dbi)\n",
    "    print(f\"For k = {k}, Davies-Bouldin Index = {dbi}\")\n",
    "\n",
    "# Menampilkan hasil\n",
    "k_values = range(2, 11)\n",
    "print(\"Davies-Bouldin Index Scores:\")\n",
    "print(dbi_scores)\n"
   ]
  },
  {
   "cell_type": "code",
   "execution_count": 10,
   "id": "d9d77035",
   "metadata": {},
   "outputs": [
    {
     "name": "stdout",
     "output_type": "stream",
     "text": [
      "For k = 2, Calinski-Harabasz Index = 89.28096999467428\n",
      "For k = 3, Calinski-Harabasz Index = 113.70507138642179\n",
      "For k = 4, Calinski-Harabasz Index = 127.9838294818919\n",
      "For k = 5, Calinski-Harabasz Index = 151.04386000160667\n",
      "For k = 6, Calinski-Harabasz Index = 166.7204931788687\n",
      "For k = 7, Calinski-Harabasz Index = 162.2852042279988\n",
      "For k = 8, Calinski-Harabasz Index = 163.58062876554533\n",
      "For k = 9, Calinski-Harabasz Index = 156.15508760692356\n",
      "For k = 10, Calinski-Harabasz Index = 152.26426170758603\n",
      "Calinski-Harabasz Index Scores:\n",
      "[89.28096999467428, 113.70507138642179, 127.9838294818919, 151.04386000160667, 166.7204931788687, 162.2852042279988, 163.58062876554533, 156.15508760692356, 152.26426170758603]\n"
     ]
    }
   ],
   "source": [
    "# Memilih kolom yang akan digunakan\n",
    "data = df[['Age', 'Annual Income', 'Spending Score']]\n",
    "\n",
    "# Inisialisasi daftar untuk menyimpan nilai Calinski-Harabasz Index\n",
    "chi_scores = []\n",
    "\n",
    "# Menghitung Calinski-Harabasz Index untuk nilai k dari 2 hingga 10\n",
    "for k in range(2, 11):\n",
    "    kmeans = KMeans(n_clusters=k, random_state=0)\n",
    "    labels = kmeans.fit_predict(data)\n",
    "    chi = calinski_harabasz_score(data, labels)\n",
    "    chi_scores.append(chi)\n",
    "    print(f\"For k = {k}, Calinski-Harabasz Index = {chi}\")\n",
    "\n",
    "# Menampilkan hasil\n",
    "k_values = range(2, 11)\n",
    "print(\"Calinski-Harabasz Index Scores:\")\n",
    "print(chi_scores)\n"
   ]
  }
 ],
 "metadata": {
  "kernelspec": {
   "display_name": "Python 3",
   "language": "python",
   "name": "python3"
  },
  "language_info": {
   "codemirror_mode": {
    "name": "ipython",
    "version": 3
   },
   "file_extension": ".py",
   "mimetype": "text/x-python",
   "name": "python",
   "nbconvert_exporter": "python",
   "pygments_lexer": "ipython3",
   "version": "3.8.8"
  }
 },
 "nbformat": 4,
 "nbformat_minor": 5
}
